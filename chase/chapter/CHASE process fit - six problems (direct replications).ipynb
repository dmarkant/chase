{
 "cells": [
  {
   "cell_type": "code",
   "execution_count": 2,
   "metadata": {},
   "outputs": [],
   "source": [
    "import seaborn as sns\n",
    "sns.set_style(\"whitegrid\")\n",
    "from scipy.stats.mstats import mquantiles\n",
    "    \n",
    "#from chase.base import *\n",
    "#from chase.utils import *\n",
    "#from chase.fit import *\n",
    "from chase.cpt import w_prelec\n",
    "from chase.process_model import *\n",
    "from chase.fit_process import *\n",
    "\n",
    "# store results of fitting model\n",
    "bf_par = {}\n",
    "cp = {}\n",
    "bf_cp = {}\n",
    "quant = {}\n",
    "bf_quant = {}\n",
    "\n",
    "N_ITER = 1\n",
    "\n",
    "problems_str = {0: '4 w/ .8\\nvs. 3',\n",
    "                1: '4 w/ .2\\nvs. 3 w/ .25',\n",
    "                2: '-3 vs.\\n-32 w/ .1',\n",
    "                3: '-3 vs.\\n-4 w/ .8',\n",
    "                4: '32 w/ .1\\nvs. 3',\n",
    "                5: '32 w/ .025\\nvs3 w/ .25'}\n",
    "\n",
    "FIGDEST = 'results_figures'"
   ]
  },
  {
   "cell_type": "code",
   "execution_count": 4,
   "metadata": {},
   "outputs": [],
   "source": [
    "# load six problems\n",
    "problems = {}\n",
    "arr = np.genfromtxt('../data/six_problems.csv', delimiter=',')\n",
    "for i in range(len(arr)):\n",
    "    problems[i] = arr[i].reshape((2,2,2))"
   ]
  },
  {
   "cell_type": "code",
   "execution_count": 6,
   "metadata": {},
   "outputs": [],
   "source": [
    "# load UCS09\n",
    "trialdata_ungemach09 = pd.read_csv('../data/ungemach09/Ungemach09_sampling_134.0.txt', index_col=0, sep=\" \")\n",
    "choicedata_ungemach09 = pd.read_csv('../data/ungemach09/Ungemach09_choice_134.0.txt', index_col=0, sep=\" \")\n",
    "data_ungemach09 = trialdata_ungemach09.groupby(['subject', 'problem']).apply(lambda d: pd.Series({'samplesize': d.shape[0]})).reset_index()\n",
    "data_ungemach09['choice'] = choicedata_ungemach09.sort_values(by=['subject','problem']).choice.values\n",
    "data_ungemach09['problem'] = data_ungemach09['problem'] - 1\n",
    "\n",
    "# reverse coding of choices\n",
    "data_ungemach09['choice'] = np.abs(1-data_ungemach09['choice'].values)\n",
    "\n",
    "# load HBWE04\n",
    "data_hertwig04 = pd.read_csv('../data/hertwig2004/hertwig2004_data.csv', index_col=0).reset_index()\n",
    "\n",
    "# load HPKH08 (first study only)\n",
    "data_hau08 = pd.read_csv('../data/hau2008/hau_data.csv', index_col=0)\n",
    "data_hau08 = data_hau08[data_hau08.group==1]\n",
    "\n",
    "# combine\n",
    "data_ungemach09['study'] = 'UCS09'\n",
    "data_hertwig04['study'] = 'HBWE04'\n",
    "data_hau08['study'] = 'HPKH08'\n",
    "data = pd.concat((data_ungemach09, data_hertwig04, data_hau08)).reset_index()\n",
    "data = data.drop(['level_0', 'index'], axis=1)\n",
    "data.group = 0"
   ]
  },
  {
   "cell_type": "code",
   "execution_count": 7,
   "metadata": {},
   "outputs": [
    {
     "data": {
      "text/html": [
       "<div>\n",
       "<style>\n",
       "    .dataframe thead tr:only-child th {\n",
       "        text-align: right;\n",
       "    }\n",
       "\n",
       "    .dataframe thead th {\n",
       "        text-align: left;\n",
       "    }\n",
       "\n",
       "    .dataframe tbody tr th {\n",
       "        vertical-align: top;\n",
       "    }\n",
       "</style>\n",
       "<table border=\"1\" class=\"dataframe\">\n",
       "  <thead>\n",
       "    <tr style=\"text-align: right;\">\n",
       "      <th></th>\n",
       "      <th></th>\n",
       "      <th>samplesize</th>\n",
       "      <th>choice</th>\n",
       "    </tr>\n",
       "    <tr>\n",
       "      <th>problem</th>\n",
       "      <th>study</th>\n",
       "      <th></th>\n",
       "      <th></th>\n",
       "    </tr>\n",
       "  </thead>\n",
       "  <tbody>\n",
       "    <tr>\n",
       "      <th rowspan=\"3\" valign=\"top\">0</th>\n",
       "      <th>HBWE04</th>\n",
       "      <td>15.76</td>\n",
       "      <td>0.88</td>\n",
       "    </tr>\n",
       "    <tr>\n",
       "      <th>HPKH08</th>\n",
       "      <td>10.05</td>\n",
       "      <td>0.62</td>\n",
       "    </tr>\n",
       "    <tr>\n",
       "      <th>UCS09</th>\n",
       "      <td>17.96</td>\n",
       "      <td>0.64</td>\n",
       "    </tr>\n",
       "    <tr>\n",
       "      <th rowspan=\"3\" valign=\"top\">1</th>\n",
       "      <th>HBWE04</th>\n",
       "      <td>24.84</td>\n",
       "      <td>0.44</td>\n",
       "    </tr>\n",
       "    <tr>\n",
       "      <th>HPKH08</th>\n",
       "      <td>16.63</td>\n",
       "      <td>0.55</td>\n",
       "    </tr>\n",
       "    <tr>\n",
       "      <th>UCS09</th>\n",
       "      <td>25.36</td>\n",
       "      <td>0.56</td>\n",
       "    </tr>\n",
       "    <tr>\n",
       "      <th rowspan=\"3\" valign=\"top\">2</th>\n",
       "      <th>HBWE04</th>\n",
       "      <td>21.96</td>\n",
       "      <td>0.28</td>\n",
       "    </tr>\n",
       "    <tr>\n",
       "      <th>HPKH08</th>\n",
       "      <td>13.97</td>\n",
       "      <td>0.11</td>\n",
       "    </tr>\n",
       "    <tr>\n",
       "      <th>UCS09</th>\n",
       "      <td>21.84</td>\n",
       "      <td>0.16</td>\n",
       "    </tr>\n",
       "    <tr>\n",
       "      <th rowspan=\"3\" valign=\"top\">3</th>\n",
       "      <th>HBWE04</th>\n",
       "      <td>27.64</td>\n",
       "      <td>0.56</td>\n",
       "    </tr>\n",
       "    <tr>\n",
       "      <th>HPKH08</th>\n",
       "      <td>13.37</td>\n",
       "      <td>0.45</td>\n",
       "    </tr>\n",
       "    <tr>\n",
       "      <th>UCS09</th>\n",
       "      <td>22.68</td>\n",
       "      <td>0.68</td>\n",
       "    </tr>\n",
       "    <tr>\n",
       "      <th rowspan=\"3\" valign=\"top\">4</th>\n",
       "      <th>HBWE04</th>\n",
       "      <td>14.92</td>\n",
       "      <td>0.20</td>\n",
       "    </tr>\n",
       "    <tr>\n",
       "      <th>HPKH08</th>\n",
       "      <td>13.02</td>\n",
       "      <td>0.15</td>\n",
       "    </tr>\n",
       "    <tr>\n",
       "      <th>UCS09</th>\n",
       "      <td>27.12</td>\n",
       "      <td>0.08</td>\n",
       "    </tr>\n",
       "    <tr>\n",
       "      <th rowspan=\"3\" valign=\"top\">5</th>\n",
       "      <th>HBWE04</th>\n",
       "      <td>20.32</td>\n",
       "      <td>0.12</td>\n",
       "    </tr>\n",
       "    <tr>\n",
       "      <th>HPKH08</th>\n",
       "      <td>17.00</td>\n",
       "      <td>0.28</td>\n",
       "    </tr>\n",
       "    <tr>\n",
       "      <th>UCS09</th>\n",
       "      <td>27.92</td>\n",
       "      <td>0.28</td>\n",
       "    </tr>\n",
       "  </tbody>\n",
       "</table>\n",
       "</div>"
      ],
      "text/plain": [
       "                samplesize  choice\n",
       "problem study                     \n",
       "0       HBWE04       15.76    0.88\n",
       "        HPKH08       10.05    0.62\n",
       "        UCS09        17.96    0.64\n",
       "1       HBWE04       24.84    0.44\n",
       "        HPKH08       16.63    0.55\n",
       "        UCS09        25.36    0.56\n",
       "2       HBWE04       21.96    0.28\n",
       "        HPKH08       13.97    0.11\n",
       "        UCS09        21.84    0.16\n",
       "3       HBWE04       27.64    0.56\n",
       "        HPKH08       13.37    0.45\n",
       "        UCS09        22.68    0.68\n",
       "4       HBWE04       14.92    0.20\n",
       "        HPKH08       13.02    0.15\n",
       "        UCS09        27.12    0.08\n",
       "5       HBWE04       20.32    0.12\n",
       "        HPKH08       17.00    0.28\n",
       "        UCS09        27.92    0.28"
      ]
     },
     "execution_count": 7,
     "metadata": {},
     "output_type": "execute_result"
    }
   ],
   "source": [
    "data.groupby(['problem', 'study']).agg({'choice': np.mean, 'samplesize': np.mean}).round(decimals=2)"
   ]
  },
  {
   "cell_type": "code",
   "execution_count": 127,
   "metadata": {},
   "outputs": [
    {
     "data": {
      "image/png": "[encoded data removed]",
      "text/plain": [
       "<matplotlib.figure.Figure at 0x1a1e171310>"
      ]
     },
     "metadata": {},
     "output_type": "display_data"
    }
   ],
   "source": [
    "g = sns.FacetGrid(data, col=\"study\", margin_titles=True)\n",
    "g.map(sns.distplot, \"samplesize\")\n",
    "plt.show()"
   ]
  },
  {
   "cell_type": "markdown",
   "metadata": {},
   "source": [
    "# Fit aggregate data"
   ]
  },
  {
   "cell_type": "code",
   "execution_count": 11,
   "metadata": {
    "collapsed": true
   },
   "outputs": [],
   "source": [
    "allresults = []\n",
    "\n",
    "PARSETS = {}\n",
    "PARSETS['optional'] = [['theta', 'tau_trunc', 'c_sigma'],\n",
    "                       ['theta', 'tau_trunc', 'c_sigma', 'prelec_elevation', 'prelec_gamma'],\n",
    "                       ]\n",
    "\n",
    "PARSETS['geometric'] = []"
   ]
  },
  {
   "cell_type": "code",
   "execution_count": null,
   "metadata": {
    "scrolled": true
   },
   "outputs": [],
   "source": [
    "#for stoprule in ['optional', 'geometric']:\n",
    "for stoprule in ['optional']:\n",
    "    \n",
    "    if stoprule == 'optional':\n",
    "        SIM_ID = 'process_chapter'\n",
    "        OUTDIR = 'process_fitresults_chapter'\n",
    "        m = CHASEProcessModel(problems=problems,\n",
    "                              stoprule='optional')\n",
    "        \n",
    "    elif stoprule == 'geometric':\n",
    "        SIM_ID = 'process_planned_chapter'\n",
    "        OUTDIR = 'process_planned_fitresults_chapter'\n",
    "        m = CHASEProcessModel(problems=problems,\n",
    "                              stoprule='fixedGeom')\n",
    "\n",
    "    FIXED = {'minsamplesize': 2, \n",
    "             'max_T': 1000, \n",
    "             'N': 20000, \n",
    "             'stoprule': stoprule}\n",
    "\n",
    "    for fitting in PARSETS[stoprule]:\n",
    "        results = fit_mlh(m, problems, data, \n",
    "                          SIM_ID, FIXED, fitting, ftol=.1, niter=N_ITER, outdir=OUTDIR,\n",
    "                          method='DE')"
   ]
  },
  {
   "cell_type": "code",
   "execution_count": 13,
   "metadata": {},
   "outputs": [
    {
     "data": {
      "text/html": [
       "<div>\n",
       "<style>\n",
       "    .dataframe thead tr:only-child th {\n",
       "        text-align: right;\n",
       "    }\n",
       "\n",
       "    .dataframe thead th {\n",
       "        text-align: left;\n",
       "    }\n",
       "\n",
       "    .dataframe tbody tr th {\n",
       "        vertical-align: top;\n",
       "    }\n",
       "</style>\n",
       "<table border=\"1\" class=\"dataframe\">\n",
       "  <thead>\n",
       "    <tr style=\"text-align: right;\">\n",
       "      <th></th>\n",
       "      <th>model</th>\n",
       "      <th>sim_id</th>\n",
       "      <th>dataset</th>\n",
       "      <th>stoprule</th>\n",
       "      <th>k</th>\n",
       "      <th>N</th>\n",
       "      <th>nllh</th>\n",
       "      <th>bic</th>\n",
       "      <th>tau</th>\n",
       "      <th>tau_trunc</th>\n",
       "      <th>tau_unif</th>\n",
       "      <th>theta</th>\n",
       "      <th>p_stop_geom</th>\n",
       "      <th>sc</th>\n",
       "      <th>sc2</th>\n",
       "      <th>sc0</th>\n",
       "      <th>c</th>\n",
       "      <th>c_sigma</th>\n",
       "      <th>c_0</th>\n",
       "      <th>pow_gain</th>\n",
       "      <th>w_loss</th>\n",
       "      <th>prelec_elevation</th>\n",
       "      <th>prelec_gamma</th>\n",
       "      <th>pars</th>\n",
       "    </tr>\n",
       "  </thead>\n",
       "  <tbody>\n",
       "    <tr>\n",
       "      <th>1</th>\n",
       "      <td>1</td>\n",
       "      <td>process_chapter(c_sigma,prelec_elevation,prele...</td>\n",
       "      <td>HBWE04</td>\n",
       "      <td>optional</td>\n",
       "      <td>5</td>\n",
       "      <td>530</td>\n",
       "      <td>2341.816876</td>\n",
       "      <td>4714.998138</td>\n",
       "      <td>NaN</td>\n",
       "      <td>17.087126</td>\n",
       "      <td>NaN</td>\n",
       "      <td>43.799912</td>\n",
       "      <td>NaN</td>\n",
       "      <td>NaN</td>\n",
       "      <td>NaN</td>\n",
       "      <td>NaN</td>\n",
       "      <td>NaN</td>\n",
       "      <td>10.184548</td>\n",
       "      <td>NaN</td>\n",
       "      <td>NaN</td>\n",
       "      <td>NaN</td>\n",
       "      <td>0.968597</td>\n",
       "      <td>1.510954</td>\n",
       "      <td>c_sigma,prelec_elevation,prelec_gamma,tau_trun...</td>\n",
       "    </tr>\n",
       "    <tr>\n",
       "      <th>0</th>\n",
       "      <td>0</td>\n",
       "      <td>process_chapter(c_sigma,tau_trunc,theta|N=2000...</td>\n",
       "      <td>HBWE04</td>\n",
       "      <td>optional</td>\n",
       "      <td>3</td>\n",
       "      <td>530</td>\n",
       "      <td>2398.987072</td>\n",
       "      <td>4816.792775</td>\n",
       "      <td>NaN</td>\n",
       "      <td>50.820069</td>\n",
       "      <td>NaN</td>\n",
       "      <td>84.053618</td>\n",
       "      <td>NaN</td>\n",
       "      <td>NaN</td>\n",
       "      <td>NaN</td>\n",
       "      <td>NaN</td>\n",
       "      <td>NaN</td>\n",
       "      <td>21.089276</td>\n",
       "      <td>NaN</td>\n",
       "      <td>NaN</td>\n",
       "      <td>NaN</td>\n",
       "      <td>NaN</td>\n",
       "      <td>NaN</td>\n",
       "      <td>c_sigma,tau_trunc,theta</td>\n",
       "    </tr>\n",
       "  </tbody>\n",
       "</table>\n",
       "</div>"
      ],
      "text/plain": [
       "  model                                             sim_id dataset  stoprule  \\\n",
       "1     1  process_chapter(c_sigma,prelec_elevation,prele...  HBWE04  optional   \n",
       "0     0  process_chapter(c_sigma,tau_trunc,theta|N=2000...  HBWE04  optional   \n",
       "\n",
       "   k    N         nllh          bic  tau  tau_trunc  tau_unif      theta  \\\n",
       "1  5  530  2341.816876  4714.998138  NaN  17.087126       NaN  43.799912   \n",
       "0  3  530  2398.987072  4816.792775  NaN  50.820069       NaN  84.053618   \n",
       "\n",
       "   p_stop_geom  sc  sc2  sc0   c    c_sigma  c_0  pow_gain  w_loss  \\\n",
       "1          NaN NaN  NaN  NaN NaN  10.184548  NaN       NaN     NaN   \n",
       "0          NaN NaN  NaN  NaN NaN  21.089276  NaN       NaN     NaN   \n",
       "\n",
       "   prelec_elevation  prelec_gamma  \\\n",
       "1          0.968597      1.510954   \n",
       "0               NaN           NaN   \n",
       "\n",
       "                                                pars  \n",
       "1  c_sigma,prelec_elevation,prelec_gamma,tau_trun...  \n",
       "0                            c_sigma,tau_trunc,theta  "
      ]
     },
     "execution_count": 13,
     "metadata": {},
     "output_type": "execute_result"
    }
   ],
   "source": [
    "results = pd.DataFrame([], columns=['model', 'sim_id', 'dataset', 'stoprule', 'k', 'N', 'nllh', 'bic', \n",
    "                                    'tau', 'tau_trunc', 'tau_unif',\n",
    "                                    'theta', 'p_stop_geom', 'sc', 'sc2', 'sc0', 'c', 'c_sigma', 'c_0', \n",
    "                                    'pow_gain', 'w_loss', 'prelec_elevation', 'prelec_gamma'])\n",
    "    \n",
    "for stoprule in ['optional', 'geometric']:\n",
    "    \n",
    "    if stoprule == 'optional':\n",
    "        SIM_ID = 'process_chapter'\n",
    "        OUTDIR = 'process_fitresults_chapter'\n",
    "    elif stoprule == 'geometric':\n",
    "        SIM_ID = 'process_planned_chapter'\n",
    "        OUTDIR = 'process_planned_fitresults_chapter'\n",
    "    FIXED = {'minsamplesize': 2, 'max_T': 1000, 'N': 20000, 'stoprule': stoprule}\n",
    "\n",
    "    for i, parset in enumerate(PARSETS[stoprule]):\n",
    "        b = best_result(SIM_ID, FIXED, parset, outdir=OUTDIR)\n",
    "        if b is not None:\n",
    "            b['model'] = i\n",
    "            b['dataset'] = 'HBWE04'\n",
    "            b['stoprule'] = stoprule\n",
    "            results.loc[results.shape[0]] = b\n",
    "                \n",
    "results['pars'] = results['sim_id'].apply(lambda d: d.split('|')[0].split('(', 1)[1])\n",
    "allresults.append(results)\n",
    "results.sort_values('bic')"
   ]
  },
  {
   "cell_type": "markdown",
   "metadata": {},
   "source": [
    "# Fitted model predictions"
   ]
  },
  {
   "cell_type": "code",
   "execution_count": 14,
   "metadata": {
    "scrolled": false
   },
   "outputs": [
    {
     "name": "stdout",
     "output_type": "stream",
     "text": [
      "index                                                               0\n",
      "Unnamed: 0                                                          0\n",
      "iteration                                                           0\n",
      "success                                                          True\n",
      "nllh                                                          2341.82\n",
      "k                                                                   5\n",
      "N                                                                 530\n",
      "bic                                                              4715\n",
      "c_sigma                                                       10.1845\n",
      "prelec_elevation                                             0.968597\n",
      "prelec_gamma                                                  1.51095\n",
      "tau_trunc                                                     17.0871\n",
      "theta                                                         43.7999\n",
      "sim_id              process_chapter(c_sigma,prelec_elevation,prele...\n",
      "Name: 0, dtype: object\n"
     ]
    }
   ],
   "source": [
    "fitting = PARSETS['optional'][1]\n",
    "SIM_ID = 'process_chapter'\n",
    "OUTDIR = 'process_fitresults_chapter'\n",
    "m = CHASEProcessModel(problems=problems,\n",
    "                      stoprule='optional')\n",
    "FIXED = {'minsamplesize': 2, 'max_T': 1000, 'N': 20000, 'stoprule': 'optional'}\n",
    "\n",
    "best = best_result(SIM_ID, FIXED, fitting, outdir=OUTDIR)\n",
    "pred = predict_from_result(m, problems, data, SIM_ID, FIXED, \n",
    "                           fitting = fitting, \n",
    "                           outdir=OUTDIR, N=20000)\n",
    "print best"
   ]
  },
  {
   "cell_type": "code",
   "execution_count": 15,
   "metadata": {
    "collapsed": true
   },
   "outputs": [],
   "source": [
    "# store best-fitting parameters and predictions\n",
    "bf_par[SIM_ID] = best\n",
    "cp[SIM_ID] = data.groupby('problem').apply(lambda d: np.mean(d.choice))\n",
    "bf_cp[SIM_ID] = pred.groupby('problem').apply(lambda d: np.mean(d.pred_cp))\n",
    "\n",
    "quant[SIM_ID] = mquantiles(data.samplesize)\n",
    "bf_quant[SIM_ID] = pred[['pred_ss(.25)', 'pred_ss(.5)', 'pred_ss(.75)']].mean().values"
   ]
  },
  {
   "cell_type": "code",
   "execution_count": 16,
   "metadata": {},
   "outputs": [
    {
     "data": {
      "image/png": "[encoded data removed]",
      "text/plain": [
       "<matplotlib.figure.Figure at 0x1a1416d890>"
      ]
     },
     "metadata": {},
     "output_type": "display_data"
    }
   ],
   "source": [
    "fig, ax = plt.subplots(1, 2, figsize=(6, 3))\n",
    "axi = ax[0]\n",
    "axi.plot(range(1, 7), cp[SIM_ID].values, '-o',\n",
    "         color='gray', label='data')\n",
    "axi.plot(range(1, 7), bf_cp[SIM_ID], '-o', color='black', label='CHASE')\n",
    "axi.set_ylim(0, 1)\n",
    "axi.set_xlim(0, 7)\n",
    "axi.set_xticks(range(1,7))\n",
    "axi.set_xlabel('Problem')\n",
    "axi.set_ylabel('p(choose H)')\n",
    "axi.legend()\n",
    "\n",
    "axi = ax[1]\n",
    "axi.plot(quant[SIM_ID], [.25, .5, .75], '--o', color='gray', label='data')\n",
    "axi.plot(bf_quant[SIM_ID], [.25, .5, .75], '--x', color='black', label='CHASE')\n",
    "\n",
    "axi.set_xlim(0, 55)\n",
    "axi.legend(loc='upper left')\n",
    "axi.set_xlabel('Sample size')\n",
    "axi.set_ylabel('Quantile')\n",
    "\n",
    "plt.tight_layout()\n",
    "plt.show()"
   ]
  },
  {
   "cell_type": "code",
   "execution_count": 17,
   "metadata": {
    "collapsed": true
   },
   "outputs": [],
   "source": [
    "ch0 = pred[pred.problem==0].pred_cp\n",
    "ch4 = pred[pred.problem==4].pred_cp\n",
    "ch3 = np.abs(1 - pred[pred.problem==3].pred_cp)\n",
    "ch2 = np.abs(1 - pred[pred.problem==2].pred_cp)"
   ]
  },
  {
   "cell_type": "code",
   "execution_count": 18,
   "metadata": {},
   "outputs": [
    {
     "name": "stdout",
     "output_type": "stream",
     "text": [
      "Choice(4 w/ .8 vs. 3): 0.63\n",
      "Choice(32 w/ .1 vs. 3): 0.18\n",
      "Choice(-3 vs. -4 w/ .8): 0.37\n",
      "Choice(-3 vs. -32 w/ .1): 0.82\n",
      "Aggregate choice: 0.5\n"
     ]
    }
   ],
   "source": [
    "print 'Choice(%s):' % problems_str[0].replace('\\n', ' '), np.round(ch0.mean(), 2)\n",
    "print 'Choice(%s):' % problems_str[4].replace('\\n', ' '), np.round(ch4.mean(), 2)\n",
    "print 'Choice(%s):' % problems_str[3].replace('\\n', ' '), np.round(ch3.mean(), 2)\n",
    "print 'Choice(%s):' % problems_str[2].replace('\\n', ' '), np.round(ch2.mean(), 2)\n",
    "print 'Aggregate choice:', np.round(pd.concat([ch0, ch4, ch3, ch2]).mean(), 2)"
   ]
  },
  {
   "cell_type": "code",
   "execution_count": 19,
   "metadata": {},
   "outputs": [
    {
     "name": "stdout",
     "output_type": "stream",
     "text": [
      "Sample size(0): 20.69\n",
      "Sample size(4): 16.79\n",
      "Sample size(3): 20.44\n",
      "Sample size(2): 16.69\n",
      "Aggregate sample size: 18.64\n"
     ]
    }
   ],
   "source": [
    "for pid in [0, 4, 3, 2]:\n",
    "    print 'Sample size(%s):' % pid, np.round(pred[pred.problem==pid]['pred_ss_mean'].mean(), 2)\n",
    "print 'Aggregate sample size:', np.round(pred[pred.problem.isin([0, 4, 3, 2])].pred_ss_mean.mean(), 2)"
   ]
  }
 ],
 "metadata": {
  "kernelspec": {
   "display_name": "Python 2",
   "language": "python",
   "name": "python2"
  },
  "language_info": {
   "codemirror_mode": {
    "name": "ipython",
    "version": 2
   },
   "file_extension": ".py",
   "mimetype": "text/x-python",
   "name": "python",
   "nbconvert_exporter": "python",
   "pygments_lexer": "ipython2",
   "version": "2.7.13"
  }
 },
 "nbformat": 4,
 "nbformat_minor": 1
}
