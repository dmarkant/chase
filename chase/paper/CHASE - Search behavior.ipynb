{
 "cells": [
  {
   "cell_type": "code",
   "execution_count": null,
   "metadata": {
    "collapsed": true
   },
   "outputs": [],
   "source": [
    "from chase.base import *\n",
    "from chase.utils import *\n",
    "from chase.fit import *\n",
    "from mypy.explib.frey2014 import frey2014\n",
    "from mypy.explib.\n",
    "pd.set_option('display.max_colwidth', 100)"
   ]
  },
  {
   "cell_type": "markdown",
   "metadata": {},
   "source": [
    "# Proportion sampling each option"
   ]
  },
  {
   "cell_type": "code",
   "execution_count": 43,
   "metadata": {
    "collapsed": true
   },
   "outputs": [],
   "source": [
    "p_sample_H = {}"
   ]
  },
  {
   "cell_type": "code",
   "execution_count": 18,
   "metadata": {
    "collapsed": true
   },
   "outputs": [],
   "source": [
    "def sample_proportion(data):\n",
    "    arr = []\n",
    "    for i, grp in data.groupby(['subject', 'problem']):\n",
    "        p_sample_H = np.mean(1*(grp.option==1).values)\n",
    "        arr.append([grp.subject.values[0], grp.problem.values[0], p_sample_H])\n",
    "    df = pd.DataFrame(arr, columns=['subject', 'problem', 'p_sample_H'])\n",
    "    return df"
   ]
  },
  {
   "cell_type": "code",
   "execution_count": 124,
   "metadata": {
    "collapsed": false
   },
   "outputs": [],
   "source": [
    "data = pd.read_csv('data/hertwig2004/hertwig2004_trialdata.csv', index_col=0)\n",
    "df = sample_proportion(data)\n",
    "p_sample_H['hertwig2004'] = df.groupby('subject').agg(np.mean).reset_index()['p_sample_H']"
   ]
  },
  {
   "cell_type": "code",
   "execution_count": 49,
   "metadata": {
    "collapsed": false
   },
   "outputs": [],
   "source": [
    "from mypy.explib.hau2008 import hau2008\n",
    "sdata = hau2008.sampledata_by_subject(study=1)\n",
    "arr = []\n",
    "for sd in sdata:\n",
    "    arr.append(np.mean([np.mean(trial['sampled_option']) for trial in sdata[sd]]))\n",
    "p_sample_H['hau2008exp1'] = np.array(arr)\n",
    "\n",
    "sdata = hau2008.sampledata_by_subject(study=2)\n",
    "arr = []\n",
    "for sd in sdata:\n",
    "    arr.append(np.mean([np.mean(trial['sampled_option']) for trial in sdata[sd]]))\n",
    "p_sample_H['hau2008exp2'] = np.array(arr)"
   ]
  },
  {
   "cell_type": "code",
   "execution_count": 61,
   "metadata": {
    "collapsed": true
   },
   "outputs": [],
   "source": [
    "from mypy.explib.technion import technion\n",
    "technion.load_data('est')"
   ]
  },
  {
   "cell_type": "code",
   "execution_count": 86,
   "metadata": {
    "collapsed": false
   },
   "outputs": [],
   "source": [
    "data = technion.df[['ID', 'Problem', 'Trial', 'sampledH', 'sampout', 'choseH']]\n",
    "data.columns = ['subject', 'problem', 'trial', 'option', 'outcome', 'choice']\n",
    "df = sample_proportion(data)\n",
    "p_sample_H['tpt'] = df.groupby('subject').agg(np.mean).reset_index()['p_sample_H']"
   ]
  },
  {
   "cell_type": "code",
   "execution_count": 121,
   "metadata": {
    "collapsed": true
   },
   "outputs": [],
   "source": [
    "data = pd.read_csv('/Users/markant/code/ChaseExp/markant_trialdata.csv', index_col=0)"
   ]
  },
  {
   "cell_type": "code",
   "execution_count": 98,
   "metadata": {
    "collapsed": false
   },
   "outputs": [],
   "source": [
    "df = sample_proportion(data)\n",
    "p_sample_H['markant'] = df.groupby('subject').agg(np.mean).reset_index()['p_sample_H']"
   ]
  },
  {
   "cell_type": "code",
   "execution_count": 101,
   "metadata": {
    "collapsed": false
   },
   "outputs": [
    {
     "name": "stderr",
     "output_type": "stream",
     "text": [
      "/Users/markant/code/py/mypy/explib/frey2014/frey2014.py:15: FutureWarning: sort(columns=....) is deprecated, use sort_values(by=.....)\n",
      "  gambles_srt = gambles.sort(['domain', 'pairtype', 'session'])\n"
     ]
    }
   ],
   "source": [
    "from mypy.explib.frey2014 import frey2014"
   ]
  },
  {
   "cell_type": "code",
   "execution_count": 118,
   "metadata": {
    "collapsed": false
   },
   "outputs": [
    {
     "name": "stderr",
     "output_type": "stream",
     "text": [
      "/Users/markant/anaconda/lib/python2.7/site-packages/ipykernel/__main__.py:4: SettingWithCopyWarning: \n",
      "A value is trying to be set on a copy of a slice from a DataFrame.\n",
      "Try using .loc[row_indexer,col_indexer] = value instead\n",
      "\n",
      "See the caveats in the documentation: http://pandas.pydata.org/pandas-docs/stable/indexing.html#indexing-view-versus-copy\n",
      "/Users/markant/anaconda/lib/python2.7/site-packages/ipykernel/__main__.py:5: SettingWithCopyWarning: \n",
      "A value is trying to be set on a copy of a slice from a DataFrame.\n",
      "Try using .loc[row_indexer,col_indexer] = value instead\n",
      "\n",
      "See the caveats in the documentation: http://pandas.pydata.org/pandas-docs/stable/indexing.html#indexing-view-versus-copy\n"
     ]
    }
   ],
   "source": [
    "freydata = frey2014.load_data()\n",
    "data = freydata[['partid', 'gamble_lab', 'sample_ind', 'sample_opt', 'sample_out', 'decision']]\n",
    "data.columns = ['subject', 'problem', 'trial', 'option', 'outcome', 'choice']\n",
    "data['option'] = 1*(data['option'].values=='H')\n",
    "data['choice'] = 1*(data['choice'].values=='H')\n",
    "df = sample_proportion(data)\n",
    "p_sample_H['frey2015'] = df.groupby('subject').agg(np.mean).reset_index()['p_sample_H']"
   ]
  },
  {
   "cell_type": "code",
   "execution_count": 119,
   "metadata": {
    "collapsed": false
   },
   "outputs": [
    {
     "name": "stdout",
     "output_type": "stream",
     "text": [
      "hertwig2004 0.491 0.065\n",
      "hau2008exp1 0.499 0.058\n",
      "hau2008exp2 0.512 0.058\n",
      "tpt 0.491 0.021\n",
      "frey2015 0.5 0.024\n",
      "markant 0.51 0.044\n"
     ]
    }
   ],
   "source": [
    "for exp in ['hertwig2004', 'hau2008exp1', 'hau2008exp2', 'tpt', 'frey2015', 'markant']:\n",
    "    print exp, np.round(p_sample_H[exp].mean(), 3), np.round(p_sample_H[exp].std(), 3)"
   ]
  },
  {
   "cell_type": "code",
   "execution_count": 120,
   "metadata": {
    "collapsed": false
   },
   "outputs": [
    {
     "data": {
      "image/png": "[encoded data removed]",
      "text/plain": [
       "<matplotlib.figure.Figure at 0x11b77ce10>"
      ]
     },
     "metadata": {},
     "output_type": "display_data"
    }
   ],
   "source": [
    "for exp in ['hertwig2004', 'hau2008exp1', 'hau2008exp2', 'tpt', 'frey2015', 'markant']:\n",
    "    sns.distplot(p_sample_H[exp])"
   ]
  },
  {
   "cell_type": "code",
   "execution_count": 89,
   "metadata": {
    "collapsed": true
   },
   "outputs": [],
   "source": [
    "from scipy.stats import ttest_1samp"
   ]
  },
  {
   "cell_type": "code",
   "execution_count": 100,
   "metadata": {
    "collapsed": false
   },
   "outputs": [
    {
     "name": "stdout",
     "output_type": "stream",
     "text": [
      "Ttest_1sampResult(statistic=-0.98136578442044642, pvalue=0.33123322010484113)\n",
      "Ttest_1sampResult(statistic=-0.093196680789769573, pvalue=0.92620124509927093)\n",
      "Ttest_1sampResult(statistic=1.3137500286299362, pvalue=0.19680692665750951)\n",
      "Ttest_1sampResult(statistic=-2.7891557470383481, pvalue=0.0082133306539135201)\n",
      "Ttest_1sampResult(statistic=2.3520638709009583, pvalue=0.020649143715543307)\n"
     ]
    }
   ],
   "source": [
    "for exp in ['hertwig2004', 'hau2008exp1', 'hau2008exp2', 'tpt', 'markant']:\n",
    "    print ttest_1samp(p_sample_H[exp], .5)"
   ]
  },
  {
   "cell_type": "markdown",
   "metadata": {},
   "source": [
    "# Switching"
   ]
  },
  {
   "cell_type": "code",
   "execution_count": 2,
   "metadata": {
    "collapsed": false
   },
   "outputs": [
    {
     "data": {
      "text/html": [
       "<div>\n",
       "<table border=\"1\" class=\"dataframe\">\n",
       "  <thead>\n",
       "    <tr style=\"text-align: right;\">\n",
       "      <th></th>\n",
       "      <th>subject</th>\n",
       "      <th>problem</th>\n",
       "      <th>group</th>\n",
       "      <th>choice</th>\n",
       "      <th>samplesize</th>\n",
       "    </tr>\n",
       "  </thead>\n",
       "  <tbody>\n",
       "    <tr>\n",
       "      <th>0</th>\n",
       "      <td>1</td>\n",
       "      <td>S1G1</td>\n",
       "      <td>0</td>\n",
       "      <td>0</td>\n",
       "      <td>12</td>\n",
       "    </tr>\n",
       "    <tr>\n",
       "      <th>1</th>\n",
       "      <td>1</td>\n",
       "      <td>S2G1</td>\n",
       "      <td>0</td>\n",
       "      <td>1</td>\n",
       "      <td>10</td>\n",
       "    </tr>\n",
       "    <tr>\n",
       "      <th>2</th>\n",
       "      <td>1</td>\n",
       "      <td>S3G1</td>\n",
       "      <td>0</td>\n",
       "      <td>0</td>\n",
       "      <td>10</td>\n",
       "    </tr>\n",
       "    <tr>\n",
       "      <th>3</th>\n",
       "      <td>1</td>\n",
       "      <td>S4G1</td>\n",
       "      <td>0</td>\n",
       "      <td>0</td>\n",
       "      <td>10</td>\n",
       "    </tr>\n",
       "    <tr>\n",
       "      <th>4</th>\n",
       "      <td>1</td>\n",
       "      <td>S5G1</td>\n",
       "      <td>0</td>\n",
       "      <td>0</td>\n",
       "      <td>10</td>\n",
       "    </tr>\n",
       "    <tr>\n",
       "      <th>5</th>\n",
       "      <td>1</td>\n",
       "      <td>S6G1</td>\n",
       "      <td>0</td>\n",
       "      <td>1</td>\n",
       "      <td>10</td>\n",
       "    </tr>\n",
       "    <tr>\n",
       "      <th>6</th>\n",
       "      <td>1</td>\n",
       "      <td>S7G1</td>\n",
       "      <td>0</td>\n",
       "      <td>0</td>\n",
       "      <td>10</td>\n",
       "    </tr>\n",
       "    <tr>\n",
       "      <th>7</th>\n",
       "      <td>1</td>\n",
       "      <td>S8G1</td>\n",
       "      <td>0</td>\n",
       "      <td>0</td>\n",
       "      <td>12</td>\n",
       "    </tr>\n",
       "    <tr>\n",
       "      <th>8</th>\n",
       "      <td>1</td>\n",
       "      <td>S9G1</td>\n",
       "      <td>0</td>\n",
       "      <td>0</td>\n",
       "      <td>10</td>\n",
       "    </tr>\n",
       "    <tr>\n",
       "      <th>9</th>\n",
       "      <td>1</td>\n",
       "      <td>S10G1</td>\n",
       "      <td>0</td>\n",
       "      <td>0</td>\n",
       "      <td>10</td>\n",
       "    </tr>\n",
       "  </tbody>\n",
       "</table>\n",
       "</div>"
      ],
      "text/plain": [
       "   subject problem  group  choice  samplesize\n",
       "0        1    S1G1      0       0          12\n",
       "1        1    S2G1      0       1          10\n",
       "2        1    S3G1      0       0          10\n",
       "3        1    S4G1      0       0          10\n",
       "4        1    S5G1      0       0          10\n",
       "5        1    S6G1      0       1          10\n",
       "6        1    S7G1      0       0          10\n",
       "7        1    S8G1      0       0          12\n",
       "8        1    S9G1      0       0          10\n",
       "9        1   S10G1      0       0          10"
      ]
     },
     "execution_count": 2,
     "metadata": {},
     "output_type": "execute_result"
    }
   ],
   "source": [
    "data = pd.read_csv('data/frey_data.csv', index_col=0)\n",
    "problems = {gid: frey2014.get_options(gid) for gid in data.problem.unique()}\n",
    "data.head(10)"
   ]
  },
  {
   "cell_type": "code",
   "execution_count": 24,
   "metadata": {
    "collapsed": false
   },
   "outputs": [
    {
     "name": "stdout",
     "output_type": "stream",
     "text": [
      "0.1\n",
      "0.2\n",
      "0.3\n",
      "0.4\n",
      "0.5\n",
      "0.6\n",
      "0.7\n",
      "0.8\n",
      "0.9\n"
     ]
    }
   ],
   "source": [
    "arr = []\n",
    "for p_switch in np.arange(.1, 1, .1):\n",
    "    print p_switch\n",
    "    pars = {'theta': 5,\n",
    "            'firstoption': None,\n",
    "            'p_switch': p_switch}\n",
    "\n",
    "    m = CHASEOptionalStoppingSwitchingModel(drift='cpt',\n",
    "                                            startdist='laplace')\n",
    "    \n",
    "    for pid in problems:\n",
    "        \n",
    "        res = m(problems[pid], pars)\n",
    "        cp = res['p_resp'][1]\n",
    "        ss = np.dot(res['p_resp'], res['exp_samplesize'])        \n",
    "        arr.append([p_switch, pid, cp, ss])"
   ]
  },
  {
   "cell_type": "code",
   "execution_count": 25,
   "metadata": {
    "collapsed": true
   },
   "outputs": [],
   "source": [
    "df = pd.DataFrame(arr, columns=['p_switch', 'pid', 'pH', 'ss'])"
   ]
  },
  {
   "cell_type": "code",
   "execution_count": 26,
   "metadata": {
    "collapsed": false
   },
   "outputs": [],
   "source": [
    "aggdf = df.groupby('p_switch').agg(np.mean).reset_index()"
   ]
  },
  {
   "cell_type": "code",
   "execution_count": 27,
   "metadata": {
    "collapsed": false
   },
   "outputs": [
    {
     "data": {
      "text/html": [
       "<div>\n",
       "<table border=\"1\" class=\"dataframe\">\n",
       "  <thead>\n",
       "    <tr style=\"text-align: right;\">\n",
       "      <th></th>\n",
       "      <th>p_switch</th>\n",
       "      <th>pH</th>\n",
       "      <th>ss</th>\n",
       "    </tr>\n",
       "  </thead>\n",
       "  <tbody>\n",
       "    <tr>\n",
       "      <th>0</th>\n",
       "      <td>0.1</td>\n",
       "      <td>0.536616</td>\n",
       "      <td>13.101111</td>\n",
       "    </tr>\n",
       "    <tr>\n",
       "      <th>1</th>\n",
       "      <td>0.2</td>\n",
       "      <td>0.545747</td>\n",
       "      <td>15.141137</td>\n",
       "    </tr>\n",
       "    <tr>\n",
       "      <th>2</th>\n",
       "      <td>0.3</td>\n",
       "      <td>0.550499</td>\n",
       "      <td>16.733981</td>\n",
       "    </tr>\n",
       "    <tr>\n",
       "      <th>3</th>\n",
       "      <td>0.4</td>\n",
       "      <td>0.553290</td>\n",
       "      <td>18.003373</td>\n",
       "    </tr>\n",
       "    <tr>\n",
       "      <th>4</th>\n",
       "      <td>0.5</td>\n",
       "      <td>0.555004</td>\n",
       "      <td>19.040502</td>\n",
       "    </tr>\n",
       "    <tr>\n",
       "      <th>5</th>\n",
       "      <td>0.6</td>\n",
       "      <td>0.556071</td>\n",
       "      <td>19.909198</td>\n",
       "    </tr>\n",
       "    <tr>\n",
       "      <th>6</th>\n",
       "      <td>0.7</td>\n",
       "      <td>0.556729</td>\n",
       "      <td>20.655904</td>\n",
       "    </tr>\n",
       "    <tr>\n",
       "      <th>7</th>\n",
       "      <td>0.8</td>\n",
       "      <td>0.557120</td>\n",
       "      <td>21.317677</td>\n",
       "    </tr>\n",
       "    <tr>\n",
       "      <th>8</th>\n",
       "      <td>0.9</td>\n",
       "      <td>0.557334</td>\n",
       "      <td>21.931809</td>\n",
       "    </tr>\n",
       "  </tbody>\n",
       "</table>\n",
       "</div>"
      ],
      "text/plain": [
       "   p_switch        pH         ss\n",
       "0       0.1  0.536616  13.101111\n",
       "1       0.2  0.545747  15.141137\n",
       "2       0.3  0.550499  16.733981\n",
       "3       0.4  0.553290  18.003373\n",
       "4       0.5  0.555004  19.040502\n",
       "5       0.6  0.556071  19.909198\n",
       "6       0.7  0.556729  20.655904\n",
       "7       0.8  0.557120  21.317677\n",
       "8       0.9  0.557334  21.931809"
      ]
     },
     "execution_count": 27,
     "metadata": {},
     "output_type": "execute_result"
    }
   ],
   "source": [
    "aggdf"
   ]
  },
  {
   "cell_type": "code",
   "execution_count": null,
   "metadata": {
    "collapsed": true
   },
   "outputs": [],
   "source": []
  }
 ],
 "metadata": {
  "kernelspec": {
   "display_name": "Python 2",
   "language": "python",
   "name": "python2"
  },
  "language_info": {
   "codemirror_mode": {
    "name": "ipython",
    "version": 2
   },
   "file_extension": ".py",
   "mimetype": "text/x-python",
   "name": "python",
   "nbconvert_exporter": "python",
   "pygments_lexer": "ipython2",
   "version": "2.7.13"
  }
 },
 "nbformat": 4,
 "nbformat_minor": 0
}
