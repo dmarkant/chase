{
 "cells": [
  {
   "cell_type": "code",
   "execution_count": 65,
   "metadata": {
    "collapsed": false
   },
   "outputs": [],
   "source": [
    "pd.set_option('display.max_colwidth', 100)\n",
    "from copy import deepcopy\n",
    "from scipy.stats.mstats import mquantiles\n",
    "from chase.base import *\n",
    "from chase.utils import *\n",
    "from chase.fit import *\n",
    "from chase.cpt import w_prelec\n",
    "import itertools\n",
    "\n",
    "FIGDEST = '/Users/markant/code/chase/chase/paper/results_figures'\n",
    "TABDEST = '/Users/markant/code/chase/chase/paper/results_tables'\n",
    "outdir = lambda sim_id: 'results_fits/chase_fitresults_%s' % (sim_id)\n",
    "\n",
    "# number of iterations for each parameter set\n",
    "N_ITER = 1\n",
    "\n",
    "# a list of possible free parameters and their ranges\n",
    "# and starting point (optional)\n",
    "PARS = {'theta': [1, 5],\n",
    "        'p_stay': [0, 1, .5],\n",
    "        'tau': [0, 1, .5],\n",
    "        'prelec_gamma': [0, 5, 1.],\n",
    "        'prelec_elevation': [0, 5, 1.],\n",
    "        'pow_gain': [0., 5, 1.],\n",
    "        'w_loss': [0., np.inf, 1.],\n",
    "        'lambda': [-2, 2, 0.],\n",
    "        'sc': [0, 20, 1],\n",
    "        'p_stop': [0, 1, .5],\n",
    "        'k': [0, 5, 1],\n",
    "        'sep': [0, 10, 1]}\n",
    "\n",
    "PARSETS = {}\n",
    "PARSETS['optional'] = [['theta', 'tau', 'k', 'sep'],\n",
    "                       #['theta', 'p_stay', 'tau'],\n",
    "                       ['theta', 'tau', 'prelec_gamma', 'k', 'sep'],\n",
    "                       #['theta', 'p_stay', 'tau', 'prelec_gamma', 'prelec_elevation'],\n",
    "                       #['theta', 'p_stay', 'tau', 'pow_gain'],\n",
    "                       #['theta', 'p_stay', 'tau', 'pow_gain', 'w_loss'],\n",
    "                       ]\n",
    "\n",
    "PARSETS['geometric'] = [['p_stop', 'p_stay', 'tau'],\n",
    "                        ['p_stop', 'p_stay', 'tau', 'prelec_gamma'],\n",
    "                        #['p_stop', 'p_stay', 'tau', 'prelec_gamma', 'prelec_elevation'],\n",
    "                        ['p_stop', 'p_stay', 'tau', 'pow_gain'],\n",
    "                        #['theta', 'p_stay', 'tau', 'pow_gain', 'w_loss'],\n",
    "                        ]\n",
    "\n",
    "FIXED = {}\n",
    "for pref_units in ['sums', 'diffs']:\n",
    "    FIXED[('optional',pref_units)] = {'p_sample_H': 0.5,\n",
    "                                      'minsamplesize': 2,\n",
    "                                      'sc': .5,\n",
    "                                      'pref_units': pref_units,\n",
    "                                      'stoprule': 'optional',\n",
    "                                      'max_T': 100}\n",
    "\n",
    "    FIXED[('geometric',pref_units)] = {'p_sample_H': 0.5,\n",
    "                                       'minsamplesize': 2,\n",
    "                                       'pref_units': pref_units,\n",
    "                                       'stoprule': 'geometric',\n",
    "                                       'theta': 30}\n",
    "    \n",
    "cp = {}\n",
    "bf_cp = {}\n",
    "bf_par = {}\n",
    "msd_cp = {}\n",
    "quant = {}\n",
    "bf_quant = {}\n",
    "\n",
    "# load the six problems\n",
    "arr = np.genfromtxt('data/six_problems.csv', delimiter=',')\n",
    "problems = {i: arr[i].reshape((2,2,2)) for i in range(len(arr))}"
   ]
  },
  {
   "cell_type": "code",
   "execution_count": 48,
   "metadata": {
    "collapsed": true
   },
   "outputs": [],
   "source": [
    "data = pd.read_csv('data/hertwig2004/hertwig2004_data.csv', index_col=0)"
   ]
  },
  {
   "cell_type": "code",
   "execution_count": 49,
   "metadata": {
    "collapsed": false
   },
   "outputs": [
    {
     "data": {
      "text/plain": [
       "problem\n",
       "0    -7.469697\n",
       "1     6.129870\n",
       "2   -10.857143\n",
       "3    -7.298701\n",
       "4     6.600000\n",
       "5    -2.257576\n",
       "dtype: float64"
      ]
     },
     "execution_count": 49,
     "metadata": {},
     "output_type": "execute_result"
    }
   ],
   "source": [
    "data.groupby('problem').apply(lambda d: d[d.choice==1].samplesize.mean() - d[d.choice==0].samplesize.mean())"
   ]
  },
  {
   "cell_type": "code",
   "execution_count": 50,
   "metadata": {
    "collapsed": true
   },
   "outputs": [],
   "source": [
    "data = pd.read_csv('data/hau2008/hau_data.csv', index_col=0)\n",
    "data = data[data.group==1]"
   ]
  },
  {
   "cell_type": "code",
   "execution_count": 51,
   "metadata": {
    "collapsed": false
   },
   "outputs": [
    {
     "data": {
      "text/plain": [
       "problem\n",
       "0    -4.394410\n",
       "1     6.145658\n",
       "2    -7.537879\n",
       "3   -10.140056\n",
       "4     3.892157\n",
       "5    -8.025078\n",
       "dtype: float64"
      ]
     },
     "execution_count": 51,
     "metadata": {},
     "output_type": "execute_result"
    }
   ],
   "source": [
    "data.groupby('problem').apply(lambda d: d[d.choice==1].samplesize.mean() - d[d.choice==0].samplesize.mean())"
   ]
  },
  {
   "cell_type": "code",
   "execution_count": 52,
   "metadata": {
    "collapsed": false
   },
   "outputs": [
    {
     "data": {
      "text/plain": [
       "problem\n",
       "0     0.604278\n",
       "1    -1.839474\n",
       "2    -9.757143\n",
       "3   -20.305714\n",
       "4    -7.334286\n",
       "5    -2.357143\n",
       "dtype: float64"
      ]
     },
     "execution_count": 52,
     "metadata": {},
     "output_type": "execute_result"
    }
   ],
   "source": [
    "data = pd.read_csv('data/hau2008/hau_data.csv', index_col=0)\n",
    "data = data[data.group==2]\n",
    "data.groupby('problem').apply(lambda d: d[d.choice==1].samplesize.mean() - d[d.choice==0].samplesize.mean())"
   ]
  },
  {
   "cell_type": "markdown",
   "metadata": {},
   "source": [
    "# Fit"
   ]
  },
  {
   "cell_type": "code",
   "execution_count": 63,
   "metadata": {
    "collapsed": false
   },
   "outputs": [],
   "source": [
    "SIM_ID = 'hertwig2004_amp'\n",
    "OUTDIR  = outdir(SIM_ID)\n",
    "data = pd.read_csv('data/hertwig2004/hertwig2004_data.csv', index_col=0)"
   ]
  },
  {
   "cell_type": "code",
   "execution_count": 46,
   "metadata": {
    "collapsed": true
   },
   "outputs": [],
   "source": [
    "SIM_ID = 'hau_exp1_amp'\n",
    "OUTDIR  = outdir(SIM_ID)\n",
    "data = pd.read_csv('data/hau2008/hau_data.csv', index_col=0)\n",
    "data = data[data.group==1]"
   ]
  },
  {
   "cell_type": "code",
   "execution_count": 54,
   "metadata": {
    "collapsed": true
   },
   "outputs": [],
   "source": [
    "SIM_ID = 'hau_exp2_amp'\n",
    "OUTDIR  = outdir(SIM_ID)\n",
    "data = pd.read_csv('data/hau2008/hau_data.csv', index_col=0)\n",
    "data = data[data.group==2]"
   ]
  },
  {
   "cell_type": "code",
   "execution_count": 66,
   "metadata": {
    "collapsed": false,
    "scrolled": false
   },
   "outputs": [
    {
     "name": "stdout",
     "output_type": "stream",
     "text": [
      "[optional, diffs]\n",
      "saving results to results_fits/chase_fitresults_hertwig2004_amp\n",
      "hertwig2004_amp(k,sep,tau,theta|max_T=100,minsamplesize=2,p_sample_H=0.5,pref_units=diffs,sc=0.5,stoprule=optional)\n",
      "0/5\n",
      "['theta']: [ 1.]\n",
      "iteration           0\n",
      "success          True\n",
      "nllh          703.561\n",
      "k            0.653994\n",
      "N                 150\n",
      "bic           1427.16\n",
      "theta               1\n",
      "k            0.653994\n",
      "sep           6.27782\n",
      "tau               NaN\n",
      "Name: 0, dtype: object\n",
      "hertwig2004_amp(k,sep,tau,theta|max_T=100,minsamplesize=2,p_sample_H=0.5,pref_units=diffs,sc=0.5,stoprule=optional)\n",
      "1/5\n",
      "['theta']: [ 2.]\n",
      "iteration           0\n",
      "success          True\n",
      "nllh          681.834\n",
      "k            0.606654\n",
      "N                 150\n",
      "bic           1383.71\n",
      "theta               2\n",
      "k            0.606654\n",
      "sep           4.35909\n",
      "tau          0.302796\n",
      "Name: 1, dtype: object\n",
      "hertwig2004_amp(k,sep,tau,theta|max_T=100,minsamplesize=2,p_sample_H=0.5,pref_units=diffs,sc=0.5,stoprule=optional)\n",
      "2/5\n",
      "['theta']: [ 3.]\n",
      "iteration          0\n",
      "success         True\n",
      "nllh         722.576\n",
      "k            2.39904\n",
      "N                150\n",
      "bic           1465.2\n",
      "theta              3\n",
      "k            2.39904\n",
      "sep           1.2101\n",
      "tau                1\n",
      "Name: 2, dtype: object\n",
      "hertwig2004_amp(k,sep,tau,theta|max_T=100,minsamplesize=2,p_sample_H=0.5,pref_units=diffs,sc=0.5,stoprule=optional)\n",
      "3/5\n",
      "['theta']: [ 4.]\n",
      "iteration           0\n",
      "success          True\n",
      "nllh          679.735\n",
      "k            0.484128\n",
      "N                 150\n",
      "bic           1379.51\n",
      "theta               4\n",
      "k            0.484128\n",
      "sep            1.6845\n",
      "tau          0.649241\n",
      "Name: 3, dtype: object\n",
      "hertwig2004_amp(k,sep,tau,theta|max_T=100,minsamplesize=2,p_sample_H=0.5,pref_units=diffs,sc=0.5,stoprule=optional)\n",
      "4/5\n",
      "['theta']: [ 5.]\n",
      "iteration              0\n",
      "success             True\n",
      "nllh             697.555\n",
      "k            1.83856e-12\n",
      "N                    150\n",
      "bic              1415.15\n",
      "theta                  5\n",
      "k            1.83856e-12\n",
      "sep                3.048\n",
      "tau             0.719002\n",
      "Name: 4, dtype: object\n",
      "   iteration success        nllh             k    N          bic  theta  \\\n",
      "3          0    True  679.734877  4.841276e-01  150  1379.512295      4   \n",
      "1          0    True  681.833648  6.066544e-01  150  1383.709836      2   \n",
      "4          0    True  697.554775  1.838556e-12  150  1415.152091      5   \n",
      "0          0    True  703.561053  6.539943e-01  150  1427.164648      1   \n",
      "2          0    True  722.576266  2.399044e+00  150  1465.195072      3   \n",
      "\n",
      "              k       sep       tau  \n",
      "3  4.841276e-01  1.684502  0.649241  \n",
      "1  6.066544e-01  4.359089  0.302796  \n",
      "4  1.838556e-12  3.048003  0.719002  \n",
      "0  6.539943e-01  6.277816       NaN  \n",
      "2  2.399044e+00  1.210098  1.000000  \n",
      "hertwig2004_amp(k,prelec_gamma,sep,tau,theta|max_T=100,minsamplesize=2,p_sample_H=0.5,pref_units=diffs,sc=0.5,stoprule=optional)\n",
      "0/5\n",
      "['theta']: [ 1.]\n",
      "iteration              0\n",
      "success             True\n",
      "nllh             679.253\n",
      "k               0.460473\n",
      "N                    150\n",
      "bic              1383.56\n",
      "theta                  1\n",
      "k               0.460473\n",
      "prelec_gamma     1.58093\n",
      "sep              8.47265\n",
      "tau                  NaN\n",
      "Name: 0, dtype: object\n",
      "hertwig2004_amp(k,prelec_gamma,sep,tau,theta|max_T=100,minsamplesize=2,p_sample_H=0.5,pref_units=diffs,sc=0.5,stoprule=optional)\n",
      "1/5\n",
      "['theta']: [ 2.]\n",
      "iteration              0\n",
      "success             True\n",
      "nllh             678.287\n",
      "k               0.423099\n",
      "N                    150\n",
      "bic              1381.63\n",
      "theta                  2\n",
      "k               0.423099\n",
      "prelec_gamma     1.22703\n",
      "sep              6.06049\n",
      "tau             0.662043\n",
      "Name: 1, dtype: object\n",
      "hertwig2004_amp(k,prelec_gamma,sep,tau,theta|max_T=100,minsamplesize=2,p_sample_H=0.5,pref_units=diffs,sc=0.5,stoprule=optional)\n",
      "2/5\n",
      "['theta']: [ 3.]\n",
      "iteration              0\n",
      "success             True\n",
      "nllh              678.82\n",
      "k               0.355717\n",
      "N                    150\n",
      "bic              1382.69\n",
      "theta                  3\n",
      "k               0.355717\n",
      "prelec_gamma     1.13126\n",
      "sep              4.42188\n",
      "tau             0.549572\n",
      "Name: 2, dtype: object\n",
      "hertwig2004_amp(k,prelec_gamma,sep,tau,theta|max_T=100,minsamplesize=2,p_sample_H=0.5,pref_units=diffs,sc=0.5,stoprule=optional)\n",
      "3/5\n",
      "['theta']: [ 4.]\n",
      "iteration              0\n",
      "success             True\n",
      "nllh             679.094\n",
      "k                1.19157\n",
      "N                    150\n",
      "bic              1383.24\n",
      "theta                  4\n",
      "k                1.19157\n",
      "prelec_gamma    0.912021\n",
      "sep             0.895824\n",
      "tau             0.640356\n",
      "Name: 3, dtype: object\n",
      "hertwig2004_amp(k,prelec_gamma,sep,tau,theta|max_T=100,minsamplesize=2,p_sample_H=0.5,pref_units=diffs,sc=0.5,stoprule=optional)\n",
      "4/5\n",
      "['theta']: [ 5.]\n",
      "iteration              0\n",
      "success             True\n",
      "nllh             1828.44\n",
      "k                 2.7789\n",
      "N                    150\n",
      "bic              3681.93\n",
      "theta                  5\n",
      "k                 2.7789\n",
      "prelec_gamma     3.53528\n",
      "sep              9.99883\n",
      "tau             0.883522\n",
      "Name: 4, dtype: object\n",
      "   iteration success         nllh         k    N          bic  theta  \\\n",
      "1          0    True   678.287424  0.423099  150  1381.628025      2   \n",
      "2          0    True   678.819937  0.355717  150  1382.693051      3   \n",
      "3          0    True   679.093712  1.191569  150  1383.240601      4   \n",
      "0          0    True   679.253391  0.460473  150  1383.559958      1   \n",
      "4          0    True  1828.437644  2.778904  150  3681.928465      5   \n",
      "\n",
      "          k  prelec_gamma       sep       tau  \n",
      "1  0.423099      1.227030  6.060495  0.662043  \n",
      "2  0.355717      1.131262  4.421882  0.549572  \n",
      "3  1.191569      0.912021  0.895824  0.640356  \n",
      "0  0.460473      1.580927  8.472655       NaN  \n",
      "4  2.778904      3.535280  9.998826  0.883522  \n"
     ]
    },
    {
     "name": "stderr",
     "output_type": "stream",
     "text": [
      "/Users/markant/anaconda/lib/python2.7/site-packages/ipykernel/__main__.py:23: FutureWarning: sort(columns=....) is deprecated, use sort_values(by=.....)\n"
     ]
    }
   ],
   "source": [
    "#for stoprule, pref_units in itertools.product(['optional', 'geometric'], ['diffs', 'sums']):\n",
    "for stoprule, pref_units in itertools.product(['optional'], ['diffs']):    \n",
    "    print '[%s, %s]\\nsaving results to %s' % (stoprule, pref_units, OUTDIR)\n",
    "    P = PARSETS[stoprule]\n",
    "    F = FIXED[(stoprule,pref_units)]\n",
    "    \n",
    "    if stoprule == 'optional':      model = CHASEModel\n",
    "    elif stoprule == 'geometric':   model = CHASEAlternateStoppingModel\n",
    "        \n",
    "    for parset in P:\n",
    "\n",
    "        fitting = {p: PARS[p] for p in parset}\n",
    "\n",
    "        m = model(drift='cpt',\n",
    "                  startdist='laplace',\n",
    "                  problems=problems,\n",
    "                  stoprule=stoprule)\n",
    "\n",
    "        # fit\n",
    "        results = fit_mlh(m, problems, data, SIM_ID, F, fitting, \n",
    "                          niter=N_ITER, outdir=OUTDIR)\n",
    "\n",
    "        print results.sort('nllh')"
   ]
  },
  {
   "cell_type": "code",
   "execution_count": 191,
   "metadata": {
    "collapsed": false
   },
   "outputs": [],
   "source": [
    "# create a table summarizing the best-fitting result for each parameter\n",
    "# combination\n",
    "allresults = pd.DataFrame(columns=['sim_id', 'stoprule', 'pref_units', 'k', 'N', 'nllh', 'bic'])\n",
    "\n",
    "for stoprule, pref_units in itertools.product(['optional', 'geometric'], ['diffs', 'sums']):\n",
    "    \n",
    "    P = PARSETS[stoprule]\n",
    "    F = FIXED[(stoprule,pref_units)]\n",
    "            \n",
    "    for parset in P:\n",
    "        fitting = {p: PARS[p] for p in parset}\n",
    "        b = best_result(SIM_ID, F, fitting, outdir=OUTDIR, nopars=True)\n",
    "        b['stoprule'] = stoprule\n",
    "        b['pref_units'] = pref_units\n",
    "        allresults.loc[allresults.shape[0]] = b\n",
    "\n",
    "allresults.sort_values(by='bic', inplace=True)\n",
    "allresults.to_csv('%s/%s_fitsummary.csv' % (TABDEST, SIM_ID))"
   ]
  },
  {
   "cell_type": "code",
   "execution_count": 65,
   "metadata": {
    "collapsed": false
   },
   "outputs": [
    {
     "data": {
      "text/html": [
       "<div>\n",
       "<table border=\"1\" class=\"dataframe\">\n",
       "  <thead>\n",
       "    <tr style=\"text-align: right;\">\n",
       "      <th></th>\n",
       "      <th>sim_id</th>\n",
       "      <th>stoprule</th>\n",
       "      <th>pref_units</th>\n",
       "      <th>k</th>\n",
       "      <th>N</th>\n",
       "      <th>nllh</th>\n",
       "      <th>bic</th>\n",
       "    </tr>\n",
       "  </thead>\n",
       "  <tbody>\n",
       "    <tr>\n",
       "      <th>3</th>\n",
       "      <td>hau_exp1(p_stay,pow_gain,tau,theta|minsamplesize=2,p_sample_H=0.5,pref_units=diffs,stoprule=opti...</td>\n",
       "      <td>optional</td>\n",
       "      <td>diffs</td>\n",
       "      <td>4.0</td>\n",
       "      <td>230.0</td>\n",
       "      <td>943.430803</td>\n",
       "      <td>1908.613923</td>\n",
       "    </tr>\n",
       "    <tr>\n",
       "      <th>7</th>\n",
       "      <td>hau_exp1(p_stay,pow_gain,tau,theta|minsamplesize=2,p_sample_H=0.5,pref_units=sums,stoprule=optio...</td>\n",
       "      <td>optional</td>\n",
       "      <td>sums</td>\n",
       "      <td>4.0</td>\n",
       "      <td>230.0</td>\n",
       "      <td>943.613630</td>\n",
       "      <td>1908.979577</td>\n",
       "    </tr>\n",
       "    <tr>\n",
       "      <th>5</th>\n",
       "      <td>hau_exp1(p_stay,prelec_gamma,tau,theta|minsamplesize=2,p_sample_H=0.5,pref_units=sums,stoprule=o...</td>\n",
       "      <td>optional</td>\n",
       "      <td>sums</td>\n",
       "      <td>4.0</td>\n",
       "      <td>230.0</td>\n",
       "      <td>944.284709</td>\n",
       "      <td>1910.321735</td>\n",
       "    </tr>\n",
       "    <tr>\n",
       "      <th>11</th>\n",
       "      <td>hau_exp1(p_stay,p_stop,pow_gain,tau|minsamplesize=2,p_sample_H=0.5,pref_units=diffs,stoprule=geo...</td>\n",
       "      <td>geometric</td>\n",
       "      <td>diffs</td>\n",
       "      <td>4.0</td>\n",
       "      <td>230.0</td>\n",
       "      <td>944.577584</td>\n",
       "      <td>1910.907486</td>\n",
       "    </tr>\n",
       "    <tr>\n",
       "      <th>2</th>\n",
       "      <td>hau_exp1(p_stay,prelec_elevation,prelec_gamma,tau,theta|minsamplesize=2,p_sample_H=0.5,pref_unit...</td>\n",
       "      <td>optional</td>\n",
       "      <td>diffs</td>\n",
       "      <td>5.0</td>\n",
       "      <td>230.0</td>\n",
       "      <td>943.754519</td>\n",
       "      <td>1914.699435</td>\n",
       "    </tr>\n",
       "    <tr>\n",
       "      <th>6</th>\n",
       "      <td>hau_exp1(p_stay,prelec_elevation,prelec_gamma,tau,theta|minsamplesize=2,p_sample_H=0.5,pref_unit...</td>\n",
       "      <td>optional</td>\n",
       "      <td>sums</td>\n",
       "      <td>5.0</td>\n",
       "      <td>230.0</td>\n",
       "      <td>943.878372</td>\n",
       "      <td>1914.947140</td>\n",
       "    </tr>\n",
       "    <tr>\n",
       "      <th>14</th>\n",
       "      <td>hau_exp1(p_stay,p_stop,prelec_elevation,prelec_gamma,tau|minsamplesize=2,p_sample_H=0.5,pref_uni...</td>\n",
       "      <td>geometric</td>\n",
       "      <td>sums</td>\n",
       "      <td>5.0</td>\n",
       "      <td>230.0</td>\n",
       "      <td>952.438909</td>\n",
       "      <td>1932.068215</td>\n",
       "    </tr>\n",
       "    <tr>\n",
       "      <th>10</th>\n",
       "      <td>hau_exp1(p_stay,p_stop,prelec_elevation,prelec_gamma,tau|minsamplesize=2,p_sample_H=0.5,pref_uni...</td>\n",
       "      <td>geometric</td>\n",
       "      <td>diffs</td>\n",
       "      <td>5.0</td>\n",
       "      <td>230.0</td>\n",
       "      <td>957.636249</td>\n",
       "      <td>1942.462895</td>\n",
       "    </tr>\n",
       "    <tr>\n",
       "      <th>1</th>\n",
       "      <td>hau_exp1(p_stay,prelec_gamma,tau,theta|minsamplesize=2,p_sample_H=0.5,pref_units=diffs,stoprule=...</td>\n",
       "      <td>optional</td>\n",
       "      <td>diffs</td>\n",
       "      <td>4.0</td>\n",
       "      <td>230.0</td>\n",
       "      <td>962.258383</td>\n",
       "      <td>1946.269083</td>\n",
       "    </tr>\n",
       "    <tr>\n",
       "      <th>9</th>\n",
       "      <td>hau_exp1(p_stay,p_stop,prelec_gamma,tau|minsamplesize=2,p_sample_H=0.5,pref_units=diffs,stoprule...</td>\n",
       "      <td>geometric</td>\n",
       "      <td>diffs</td>\n",
       "      <td>4.0</td>\n",
       "      <td>230.0</td>\n",
       "      <td>963.330438</td>\n",
       "      <td>1948.413194</td>\n",
       "    </tr>\n",
       "    <tr>\n",
       "      <th>12</th>\n",
       "      <td>hau_exp1(p_stay,p_stop,tau|minsamplesize=2,p_sample_H=0.5,pref_units=sums,stoprule=geometric,the...</td>\n",
       "      <td>geometric</td>\n",
       "      <td>sums</td>\n",
       "      <td>3.0</td>\n",
       "      <td>230.0</td>\n",
       "      <td>971.080452</td>\n",
       "      <td>1958.475142</td>\n",
       "    </tr>\n",
       "    <tr>\n",
       "      <th>8</th>\n",
       "      <td>hau_exp1(p_stay,p_stop,tau|minsamplesize=2,p_sample_H=0.5,pref_units=diffs,stoprule=geometric,th...</td>\n",
       "      <td>geometric</td>\n",
       "      <td>diffs</td>\n",
       "      <td>3.0</td>\n",
       "      <td>230.0</td>\n",
       "      <td>971.083686</td>\n",
       "      <td>1958.481609</td>\n",
       "    </tr>\n",
       "    <tr>\n",
       "      <th>4</th>\n",
       "      <td>hau_exp1(p_stay,tau,theta|minsamplesize=2,p_sample_H=0.5,pref_units=sums,stoprule=optional)</td>\n",
       "      <td>optional</td>\n",
       "      <td>sums</td>\n",
       "      <td>3.0</td>\n",
       "      <td>230.0</td>\n",
       "      <td>971.798062</td>\n",
       "      <td>1959.910362</td>\n",
       "    </tr>\n",
       "    <tr>\n",
       "      <th>0</th>\n",
       "      <td>hau_exp1(p_stay,tau,theta|minsamplesize=2,p_sample_H=0.5,pref_units=diffs,stoprule=optional)</td>\n",
       "      <td>optional</td>\n",
       "      <td>diffs</td>\n",
       "      <td>3.0</td>\n",
       "      <td>230.0</td>\n",
       "      <td>973.225161</td>\n",
       "      <td>1962.764561</td>\n",
       "    </tr>\n",
       "    <tr>\n",
       "      <th>15</th>\n",
       "      <td>hau_exp1(p_stay,p_stop,pow_gain,tau|minsamplesize=2,p_sample_H=0.5,pref_units=sums,stoprule=geom...</td>\n",
       "      <td>geometric</td>\n",
       "      <td>sums</td>\n",
       "      <td>4.0</td>\n",
       "      <td>230.0</td>\n",
       "      <td>971.088683</td>\n",
       "      <td>1963.929683</td>\n",
       "    </tr>\n",
       "    <tr>\n",
       "      <th>13</th>\n",
       "      <td>hau_exp1(p_stay,p_stop,prelec_gamma,tau|minsamplesize=2,p_sample_H=0.5,pref_units=sums,stoprule=...</td>\n",
       "      <td>geometric</td>\n",
       "      <td>sums</td>\n",
       "      <td>NaN</td>\n",
       "      <td>NaN</td>\n",
       "      <td>NaN</td>\n",
       "      <td>NaN</td>\n",
       "    </tr>\n",
       "  </tbody>\n",
       "</table>\n",
       "</div>"
      ],
      "text/plain": [
       "                                                                                                 sim_id  \\\n",
       "3   hau_exp1(p_stay,pow_gain,tau,theta|minsamplesize=2,p_sample_H=0.5,pref_units=diffs,stoprule=opti...   \n",
       "7   hau_exp1(p_stay,pow_gain,tau,theta|minsamplesize=2,p_sample_H=0.5,pref_units=sums,stoprule=optio...   \n",
       "5   hau_exp1(p_stay,prelec_gamma,tau,theta|minsamplesize=2,p_sample_H=0.5,pref_units=sums,stoprule=o...   \n",
       "11  hau_exp1(p_stay,p_stop,pow_gain,tau|minsamplesize=2,p_sample_H=0.5,pref_units=diffs,stoprule=geo...   \n",
       "2   hau_exp1(p_stay,prelec_elevation,prelec_gamma,tau,theta|minsamplesize=2,p_sample_H=0.5,pref_unit...   \n",
       "6   hau_exp1(p_stay,prelec_elevation,prelec_gamma,tau,theta|minsamplesize=2,p_sample_H=0.5,pref_unit...   \n",
       "14  hau_exp1(p_stay,p_stop,prelec_elevation,prelec_gamma,tau|minsamplesize=2,p_sample_H=0.5,pref_uni...   \n",
       "10  hau_exp1(p_stay,p_stop,prelec_elevation,prelec_gamma,tau|minsamplesize=2,p_sample_H=0.5,pref_uni...   \n",
       "1   hau_exp1(p_stay,prelec_gamma,tau,theta|minsamplesize=2,p_sample_H=0.5,pref_units=diffs,stoprule=...   \n",
       "9   hau_exp1(p_stay,p_stop,prelec_gamma,tau|minsamplesize=2,p_sample_H=0.5,pref_units=diffs,stoprule...   \n",
       "12  hau_exp1(p_stay,p_stop,tau|minsamplesize=2,p_sample_H=0.5,pref_units=sums,stoprule=geometric,the...   \n",
       "8   hau_exp1(p_stay,p_stop,tau|minsamplesize=2,p_sample_H=0.5,pref_units=diffs,stoprule=geometric,th...   \n",
       "4           hau_exp1(p_stay,tau,theta|minsamplesize=2,p_sample_H=0.5,pref_units=sums,stoprule=optional)   \n",
       "0          hau_exp1(p_stay,tau,theta|minsamplesize=2,p_sample_H=0.5,pref_units=diffs,stoprule=optional)   \n",
       "15  hau_exp1(p_stay,p_stop,pow_gain,tau|minsamplesize=2,p_sample_H=0.5,pref_units=sums,stoprule=geom...   \n",
       "13  hau_exp1(p_stay,p_stop,prelec_gamma,tau|minsamplesize=2,p_sample_H=0.5,pref_units=sums,stoprule=...   \n",
       "\n",
       "     stoprule pref_units    k      N        nllh          bic  \n",
       "3    optional      diffs  4.0  230.0  943.430803  1908.613923  \n",
       "7    optional       sums  4.0  230.0  943.613630  1908.979577  \n",
       "5    optional       sums  4.0  230.0  944.284709  1910.321735  \n",
       "11  geometric      diffs  4.0  230.0  944.577584  1910.907486  \n",
       "2    optional      diffs  5.0  230.0  943.754519  1914.699435  \n",
       "6    optional       sums  5.0  230.0  943.878372  1914.947140  \n",
       "14  geometric       sums  5.0  230.0  952.438909  1932.068215  \n",
       "10  geometric      diffs  5.0  230.0  957.636249  1942.462895  \n",
       "1    optional      diffs  4.0  230.0  962.258383  1946.269083  \n",
       "9   geometric      diffs  4.0  230.0  963.330438  1948.413194  \n",
       "12  geometric       sums  3.0  230.0  971.080452  1958.475142  \n",
       "8   geometric      diffs  3.0  230.0  971.083686  1958.481609  \n",
       "4    optional       sums  3.0  230.0  971.798062  1959.910362  \n",
       "0    optional      diffs  3.0  230.0  973.225161  1962.764561  \n",
       "15  geometric       sums  4.0  230.0  971.088683  1963.929683  \n",
       "13  geometric       sums  NaN    NaN         NaN          NaN  "
      ]
     },
     "execution_count": 65,
     "metadata": {},
     "output_type": "execute_result"
    }
   ],
   "source": [
    "allresults = pd.read_csv('%s/%s_fitsummary.csv' % (TABDEST, SIM_ID), index_col=0)\n",
    "allresults"
   ]
  },
  {
   "cell_type": "code",
   "execution_count": 70,
   "metadata": {
    "collapsed": false
   },
   "outputs": [],
   "source": [
    "# setup a selected model to show results\n",
    "OUTDIR  = outdir(SIM_ID)\n",
    "stoprule = 'optional'\n",
    "pref_units = 'diffs'\n",
    "parset = PARSETS[stoprule][0]\n",
    "F = FIXED[(stoprule,pref_units)]\n",
    "fitting = {p: PARS[p] for p in parset}\n",
    "r = best_result(SIM_ID, F, fitting, outdir=OUTDIR)\n",
    "bf_par[SIM_ID] = {p: r[p] for p in fitting}"
   ]
  },
  {
   "cell_type": "code",
   "execution_count": 71,
   "metadata": {
    "collapsed": false
   },
   "outputs": [
    {
     "name": "stdout",
     "output_type": "stream",
     "text": [
      "MSD: 0.025\n"
     ]
    }
   ],
   "source": [
    "# for the selected model, run the model and get the \n",
    "# predicted choice proportions and sample size distribution\n",
    "if stoprule == 'optional':      model = CHASEModel\n",
    "elif stoprule == 'geometric':   model = CHASEAlternateStoppingModel\n",
    "m = model(drift='cpt',\n",
    "          startdist='laplace',\n",
    "          problems=problems,\n",
    "          stoprule=stoprule)\n",
    "\n",
    "\n",
    "#m = CHASEModel(drift='cpt', startdist='laplace')\n",
    "pred = predict_from_result(m, problems, data, SIM_ID, F, \n",
    "                           fitting = fitting, \n",
    "                           outdir=OUTDIR)\n",
    "\n",
    "cp[SIM_ID] = data.groupby('problem').apply(lambda d: np.mean(d.choice))\n",
    "bf_cp[SIM_ID] = pred.groupby('problem').apply(lambda d: np.mean(d.cp))\n",
    "\n",
    "quant[SIM_ID] = mquantiles(data.samplesize)\n",
    "bf_quant[SIM_ID] = pred[['ss(.25)', 'ss(.5)', 'ss(.75)']].mean(axis=0).values\n",
    "\n",
    "msd_cp[SIM_ID] = np.round(((cp[SIM_ID] - bf_cp[SIM_ID])**2).mean(), 3)\n",
    "print 'MSD: %s' % msd_cp[SIM_ID]"
   ]
  },
  {
   "cell_type": "code",
   "execution_count": 72,
   "metadata": {
    "collapsed": false
   },
   "outputs": [
    {
     "data": {
      "image/png": "[encoded data removed]",
      "text/plain": [
       "<matplotlib.figure.Figure at 0x11a0ff9d0>"
      ]
     },
     "metadata": {},
     "output_type": "display_data"
    }
   ],
   "source": [
    "fig, ax = plt.subplots(1, 2, figsize=(6, 3))\n",
    "axi = ax[0]\n",
    "axi.plot(range(1, 7), cp[SIM_ID].values, '-o',\n",
    "         color='gray', label='data')\n",
    "axi.plot(range(1, 7), bf_cp[SIM_ID].values, '-o', color='black', label='CHASE')\n",
    "axi.set_ylim(0, 1)\n",
    "axi.set_xlim(0, 7)\n",
    "axi.set_xticks(range(1,7))\n",
    "axi.set_xlabel('Problem')\n",
    "axi.set_ylabel('p(choose H)')\n",
    "axi.legend()\n",
    "\n",
    "axi = ax[1]\n",
    "axi.plot(quant[SIM_ID], [.25, .5, .75], '--o', color='gray', label='data')\n",
    "axi.plot(bf_quant[SIM_ID], [.25, .5, .75], '--x', color='black', label='CHASE')\n",
    "#axi.set_xlim(0, mq[-1] + 2)\n",
    "axi.set_xlim(0, 55)\n",
    "axi.legend(loc='upper left')\n",
    "axi.set_xlabel('Sample size')\n",
    "axi.set_ylabel('Quantile')\n",
    "\n",
    "plt.tight_layout()\n",
    "plt.show()"
   ]
  },
  {
   "cell_type": "code",
   "execution_count": 17,
   "metadata": {
    "collapsed": false
   },
   "outputs": [],
   "source": [
    "from copy import deepcopy \n",
    "parset = deepcopy(bf_par[SIM_ID])"
   ]
  },
  {
   "cell_type": "code",
   "execution_count": 18,
   "metadata": {
    "collapsed": true
   },
   "outputs": [],
   "source": [
    "parset.update(F)"
   ]
  },
  {
   "cell_type": "code",
   "execution_count": 19,
   "metadata": {
    "collapsed": false
   },
   "outputs": [
    {
     "data": {
      "text/plain": [
       "{'minsamplesize': 2,\n",
       " 'p_sample_H': 0.5,\n",
       " 'p_stay': 0.79467007632699993,\n",
       " 'pref_units': 'sums',\n",
       " 'prelec_gamma': 1.3973844709600001,\n",
       " 'stepsize': 0.2,\n",
       " 'stoprule': 'optional',\n",
       " 'tau': 0.65992823838399994,\n",
       " 'theta': 1}"
      ]
     },
     "execution_count": 19,
     "metadata": {},
     "output_type": "execute_result"
    }
   ],
   "source": [
    "parset"
   ]
  },
  {
   "cell_type": "code",
   "execution_count": 20,
   "metadata": {
    "collapsed": false
   },
   "outputs": [
    {
     "ename": "KeyError",
     "evalue": "'probid'",
     "output_type": "error",
     "traceback": [
      "\u001b[0;31m---------------------------------------------------------------------------\u001b[0m",
      "\u001b[0;31mKeyError\u001b[0m                                  Traceback (most recent call last)",
      "\u001b[0;32m<ipython-input-20-755b16d5c60b>\u001b[0m in \u001b[0;36m<module>\u001b[0;34m()\u001b[0m\n\u001b[1;32m      1\u001b[0m \u001b[0marr\u001b[0m \u001b[0;34m=\u001b[0m \u001b[0;34m[\u001b[0m\u001b[0;34m]\u001b[0m\u001b[0;34m\u001b[0m\u001b[0m\n\u001b[1;32m      2\u001b[0m \u001b[0;32mfor\u001b[0m \u001b[0mi\u001b[0m \u001b[0;32min\u001b[0m \u001b[0mrange\u001b[0m\u001b[0;34m(\u001b[0m\u001b[0;36m6\u001b[0m\u001b[0;34m)\u001b[0m\u001b[0;34m:\u001b[0m\u001b[0;34m\u001b[0m\u001b[0m\n\u001b[0;32m----> 3\u001b[0;31m     \u001b[0mr\u001b[0m \u001b[0;34m=\u001b[0m \u001b[0mm\u001b[0m\u001b[0;34m(\u001b[0m\u001b[0mproblems\u001b[0m\u001b[0;34m[\u001b[0m\u001b[0mi\u001b[0m\u001b[0;34m]\u001b[0m\u001b[0;34m,\u001b[0m \u001b[0mparset\u001b[0m\u001b[0;34m)\u001b[0m\u001b[0;34m\u001b[0m\u001b[0m\n\u001b[0m\u001b[1;32m      4\u001b[0m     \u001b[0mess\u001b[0m \u001b[0;34m=\u001b[0m \u001b[0mnp\u001b[0m\u001b[0;34m.\u001b[0m\u001b[0marray\u001b[0m\u001b[0;34m(\u001b[0m\u001b[0mr\u001b[0m\u001b[0;34m[\u001b[0m\u001b[0;34m'exp_samplesize'\u001b[0m\u001b[0;34m]\u001b[0m\u001b[0;34m)\u001b[0m\u001b[0;34m[\u001b[0m\u001b[0;36m0\u001b[0m\u001b[0;34m]\u001b[0m\u001b[0;34m\u001b[0m\u001b[0m\n\u001b[1;32m      5\u001b[0m     \u001b[0;32mfor\u001b[0m \u001b[0mss\u001b[0m \u001b[0;32min\u001b[0m \u001b[0mess\u001b[0m\u001b[0;34m:\u001b[0m\u001b[0;34m\u001b[0m\u001b[0m\n",
      "\u001b[0;32m/Users/markant/code/chase/chase/base.pyc\u001b[0m in \u001b[0;36m__call__\u001b[0;34m(self, options, pars)\u001b[0m\n\u001b[1;32m     76\u001b[0m \u001b[0;34m\u001b[0m\u001b[0m\n\u001b[1;32m     77\u001b[0m         \u001b[0;31m# transition matrix\u001b[0m\u001b[0;34m\u001b[0m\u001b[0;34m\u001b[0m\u001b[0m\n\u001b[0;32m---> 78\u001b[0;31m         \u001b[0mtm_pqr\u001b[0m \u001b[0;34m=\u001b[0m \u001b[0mself\u001b[0m\u001b[0;34m.\u001b[0m\u001b[0mtransition_matrix_PQR\u001b[0m\u001b[0;34m(\u001b[0m\u001b[0moptions\u001b[0m\u001b[0;34m,\u001b[0m \u001b[0mpars\u001b[0m\u001b[0;34m)\u001b[0m\u001b[0;34m\u001b[0m\u001b[0m\n\u001b[0m\u001b[1;32m     79\u001b[0m         \u001b[0mQ\u001b[0m \u001b[0;34m=\u001b[0m \u001b[0mtm_pqr\u001b[0m\u001b[0;34m[\u001b[0m\u001b[0;36m2\u001b[0m\u001b[0;34m:\u001b[0m\u001b[0;34m,\u001b[0m\u001b[0;36m2\u001b[0m\u001b[0;34m:\u001b[0m\u001b[0;34m]\u001b[0m\u001b[0;34m\u001b[0m\u001b[0m\n\u001b[1;32m     80\u001b[0m         \u001b[0mI\u001b[0m \u001b[0;34m=\u001b[0m \u001b[0mnp\u001b[0m\u001b[0;34m.\u001b[0m\u001b[0meye\u001b[0m\u001b[0;34m(\u001b[0m\u001b[0mself\u001b[0m\u001b[0;34m.\u001b[0m\u001b[0mm\u001b[0m \u001b[0;34m-\u001b[0m \u001b[0;36m2\u001b[0m\u001b[0;34m)\u001b[0m\u001b[0;34m\u001b[0m\u001b[0m\n",
      "\u001b[0;32m/Users/markant/code/chase/chase/base.pyc\u001b[0m in \u001b[0;36mtransition_matrix_PQR\u001b[0;34m(self, options, pars, full)\u001b[0m\n\u001b[1;32m    143\u001b[0m     \u001b[0;32mdef\u001b[0m \u001b[0mtransition_matrix_PQR\u001b[0m\u001b[0;34m(\u001b[0m\u001b[0mself\u001b[0m\u001b[0;34m,\u001b[0m \u001b[0moptions\u001b[0m\u001b[0;34m,\u001b[0m \u001b[0mpars\u001b[0m\u001b[0;34m,\u001b[0m \u001b[0mfull\u001b[0m\u001b[0;34m=\u001b[0m\u001b[0mFalse\u001b[0m\u001b[0;34m)\u001b[0m\u001b[0;34m:\u001b[0m\u001b[0;34m\u001b[0m\u001b[0m\n\u001b[1;32m    144\u001b[0m \u001b[0;34m\u001b[0m\u001b[0m\n\u001b[0;32m--> 145\u001b[0;31m         \u001b[0md\u001b[0m \u001b[0;34m=\u001b[0m \u001b[0mself\u001b[0m\u001b[0;34m.\u001b[0m\u001b[0mdrift\u001b[0m\u001b[0;34m(\u001b[0m\u001b[0moptions\u001b[0m\u001b[0;34m,\u001b[0m \u001b[0mpars\u001b[0m\u001b[0;34m)\u001b[0m\u001b[0;34m\u001b[0m\u001b[0m\n\u001b[0m\u001b[1;32m    146\u001b[0m         \u001b[0mtp\u001b[0m \u001b[0;34m=\u001b[0m \u001b[0mnp\u001b[0m\u001b[0;34m.\u001b[0m\u001b[0mtile\u001b[0m\u001b[0;34m(\u001b[0m\u001b[0mself\u001b[0m\u001b[0;34m.\u001b[0m\u001b[0mtransition_probs\u001b[0m\u001b[0;34m(\u001b[0m\u001b[0md\u001b[0m\u001b[0;34m,\u001b[0m \u001b[0mpars\u001b[0m\u001b[0;34m)\u001b[0m\u001b[0;34m,\u001b[0m \u001b[0;34m(\u001b[0m\u001b[0mself\u001b[0m\u001b[0;34m.\u001b[0m\u001b[0mm\u001b[0m \u001b[0;34m-\u001b[0m \u001b[0;36m2\u001b[0m\u001b[0;34m,\u001b[0m \u001b[0;36m1\u001b[0m\u001b[0;34m)\u001b[0m\u001b[0;34m)\u001b[0m\u001b[0;34m\u001b[0m\u001b[0m\n\u001b[1;32m    147\u001b[0m \u001b[0;34m\u001b[0m\u001b[0m\n",
      "\u001b[0;32m/Users/markant/code/chase/chase/drift.pyc\u001b[0m in \u001b[0;36m__call__\u001b[0;34m(self, options, pars, **kwargs)\u001b[0m\n\u001b[1;32m     25\u001b[0m \u001b[0;34m\u001b[0m\u001b[0m\n\u001b[1;32m     26\u001b[0m         \u001b[0;31m# subjective evaluation of options\u001b[0m\u001b[0;34m\u001b[0m\u001b[0;34m\u001b[0m\u001b[0m\n\u001b[0;32m---> 27\u001b[0;31m         \u001b[0mse\u001b[0m \u001b[0;34m=\u001b[0m \u001b[0mself\u001b[0m\u001b[0;34m.\u001b[0m\u001b[0mevaluate\u001b[0m\u001b[0;34m(\u001b[0m\u001b[0moptions\u001b[0m\u001b[0;34m,\u001b[0m \u001b[0mpars\u001b[0m\u001b[0;34m)\u001b[0m\u001b[0;34m\u001b[0m\u001b[0m\n\u001b[0m\u001b[1;32m     28\u001b[0m         \u001b[0mV\u001b[0m \u001b[0;34m=\u001b[0m \u001b[0mse\u001b[0m\u001b[0;34m[\u001b[0m\u001b[0;34m'V'\u001b[0m\u001b[0;34m]\u001b[0m \u001b[0;31m# expected values\u001b[0m\u001b[0;34m\u001b[0m\u001b[0m\n\u001b[1;32m     29\u001b[0m         \u001b[0msigma2\u001b[0m \u001b[0;34m=\u001b[0m \u001b[0mse\u001b[0m\u001b[0;34m[\u001b[0m\u001b[0;34m'sigma2'\u001b[0m\u001b[0;34m]\u001b[0m \u001b[0;31m# expected variances\u001b[0m\u001b[0;34m\u001b[0m\u001b[0m\n",
      "\u001b[0;32m/Users/markant/code/chase/chase/drift.pyc\u001b[0m in \u001b[0;36mevaluate\u001b[0;34m(self, options, pars)\u001b[0m\n\u001b[1;32m     76\u001b[0m \u001b[0;34m\u001b[0m\u001b[0m\n\u001b[1;32m     77\u001b[0m \u001b[0;34m\u001b[0m\u001b[0m\n\u001b[0;32m---> 78\u001b[0;31m         \u001b[0mweights\u001b[0m\u001b[0;34m,\u001b[0m \u001b[0mvalues\u001b[0m\u001b[0;34m,\u001b[0m \u001b[0mV\u001b[0m\u001b[0;34m,\u001b[0m \u001b[0mevar\u001b[0m \u001b[0;34m=\u001b[0m \u001b[0mself\u001b[0m\u001b[0;34m.\u001b[0m\u001b[0mweighting\u001b[0m\u001b[0;34m(\u001b[0m\u001b[0moptions\u001b[0m\u001b[0;34m,\u001b[0m \u001b[0mpars\u001b[0m\u001b[0;34m)\u001b[0m\u001b[0;34m\u001b[0m\u001b[0m\n\u001b[0m\u001b[1;32m     79\u001b[0m \u001b[0;34m\u001b[0m\u001b[0m\n\u001b[1;32m     80\u001b[0m         \u001b[0;32mif\u001b[0m \u001b[0moptiontype\u001b[0m \u001b[0;32mis\u001b[0m \u001b[0;34m'normal'\u001b[0m\u001b[0;34m:\u001b[0m\u001b[0;34m\u001b[0m\u001b[0m\n",
      "\u001b[0;32m/Users/markant/code/chase/chase/drift.pyc\u001b[0m in \u001b[0;36mweighting\u001b[0;34m(self, options, pars)\u001b[0m\n\u001b[1;32m    148\u001b[0m             \u001b[0;32mif\u001b[0m \u001b[0;34m'prelec_gamma'\u001b[0m \u001b[0;32min\u001b[0m \u001b[0mpars\u001b[0m \u001b[0;32mor\u001b[0m \u001b[0;34m'prelec_elevation'\u001b[0m \u001b[0;32min\u001b[0m \u001b[0mpars\u001b[0m\u001b[0;34m:\u001b[0m\u001b[0;34m\u001b[0m\u001b[0m\n\u001b[1;32m    149\u001b[0m                 \u001b[0;32mif\u001b[0m \u001b[0mself\u001b[0m\u001b[0;34m.\u001b[0m\u001b[0mrdw\u001b[0m \u001b[0;32mis\u001b[0m \u001b[0mNone\u001b[0m\u001b[0;34m:\u001b[0m \u001b[0mwopt\u001b[0m \u001b[0;34m=\u001b[0m \u001b[0moptions\u001b[0m\u001b[0;34m\u001b[0m\u001b[0m\n\u001b[0;32m--> 150\u001b[0;31m                 \u001b[0;32melse\u001b[0m\u001b[0;34m:\u001b[0m                \u001b[0mwopt\u001b[0m \u001b[0;34m=\u001b[0m \u001b[0mself\u001b[0m\u001b[0;34m.\u001b[0m\u001b[0mrdw\u001b[0m\u001b[0;34m[\u001b[0m\u001b[0mpars\u001b[0m\u001b[0;34m[\u001b[0m\u001b[0;34m'probid'\u001b[0m\u001b[0;34m]\u001b[0m\u001b[0;34m]\u001b[0m\u001b[0;34m\u001b[0m\u001b[0m\n\u001b[0m\u001b[1;32m    151\u001b[0m                 \u001b[0mweights\u001b[0m \u001b[0;34m=\u001b[0m \u001b[0mnp\u001b[0m\u001b[0;34m.\u001b[0m\u001b[0marray\u001b[0m\u001b[0;34m(\u001b[0m\u001b[0;34m[\u001b[0m\u001b[0mcpt\u001b[0m\u001b[0;34m.\u001b[0m\u001b[0mpweight_prelec\u001b[0m\u001b[0;34m(\u001b[0m\u001b[0moption\u001b[0m\u001b[0;34m,\u001b[0m \u001b[0mpars\u001b[0m\u001b[0;34m)\u001b[0m \u001b[0;32mfor\u001b[0m \u001b[0moption\u001b[0m \u001b[0;32min\u001b[0m \u001b[0mwopt\u001b[0m\u001b[0;34m]\u001b[0m\u001b[0;34m)\u001b[0m\u001b[0;34m\u001b[0m\u001b[0m\n\u001b[1;32m    152\u001b[0m \u001b[0;34m\u001b[0m\u001b[0m\n",
      "\u001b[0;31mKeyError\u001b[0m: 'probid'"
     ]
    }
   ],
   "source": [
    "arr = []\n",
    "for i in range(6):\n",
    "    r = m(problems[i], parset)\n",
    "    ess = np.array(r['exp_samplesize'])[0]\n",
    "    for ss in ess:\n",
    "        arr.append(ss)\n",
    "arr = np.array(arr)"
   ]
  },
  {
   "cell_type": "code",
   "execution_count": 32,
   "metadata": {
    "collapsed": false
   },
   "outputs": [
    {
     "ename": "ValueError",
     "evalue": "Length of values does not match length of index",
     "output_type": "error",
     "traceback": [
      "\u001b[0;31m---------------------------------------------------------------------------\u001b[0m",
      "\u001b[0;31mValueError\u001b[0m                                Traceback (most recent call last)",
      "\u001b[0;32m<ipython-input-32-6bd60115c16b>\u001b[0m in \u001b[0;36m<module>\u001b[0;34m()\u001b[0m\n\u001b[1;32m      1\u001b[0m \u001b[0mchdf\u001b[0m \u001b[0;34m=\u001b[0m \u001b[0mdata\u001b[0m\u001b[0;34m.\u001b[0m\u001b[0mgroupby\u001b[0m\u001b[0;34m(\u001b[0m\u001b[0;34m[\u001b[0m\u001b[0;34m'problem'\u001b[0m\u001b[0;34m,\u001b[0m \u001b[0;34m'choice'\u001b[0m\u001b[0;34m]\u001b[0m\u001b[0;34m)\u001b[0m\u001b[0;34m.\u001b[0m\u001b[0mapply\u001b[0m\u001b[0;34m(\u001b[0m\u001b[0;32mlambda\u001b[0m \u001b[0md\u001b[0m\u001b[0;34m:\u001b[0m \u001b[0md\u001b[0m\u001b[0;34m.\u001b[0m\u001b[0msamplesize\u001b[0m\u001b[0;34m.\u001b[0m\u001b[0mmean\u001b[0m\u001b[0;34m(\u001b[0m\u001b[0;34m)\u001b[0m\u001b[0;34m)\u001b[0m\u001b[0;34m.\u001b[0m\u001b[0mreset_index\u001b[0m\u001b[0;34m(\u001b[0m\u001b[0;34m)\u001b[0m\u001b[0;34m\u001b[0m\u001b[0m\n\u001b[1;32m      2\u001b[0m \u001b[0mchdf\u001b[0m\u001b[0;34m.\u001b[0m\u001b[0mcolumns\u001b[0m \u001b[0;34m=\u001b[0m \u001b[0;34m[\u001b[0m\u001b[0;34m'problem'\u001b[0m\u001b[0;34m,\u001b[0m \u001b[0;34m'choice'\u001b[0m\u001b[0;34m,\u001b[0m \u001b[0;34m'mn_ss'\u001b[0m\u001b[0;34m]\u001b[0m\u001b[0;34m\u001b[0m\u001b[0m\n\u001b[0;32m----> 3\u001b[0;31m \u001b[0mchdf\u001b[0m\u001b[0;34m[\u001b[0m\u001b[0;34m'pred_mn_ss'\u001b[0m\u001b[0;34m]\u001b[0m \u001b[0;34m=\u001b[0m \u001b[0marr\u001b[0m\u001b[0;34m\u001b[0m\u001b[0m\n\u001b[0m",
      "\u001b[0;32m/Users/markant/anaconda/lib/python2.7/site-packages/pandas/core/frame.pyc\u001b[0m in \u001b[0;36m__setitem__\u001b[0;34m(self, key, value)\u001b[0m\n\u001b[1;32m   2415\u001b[0m         \u001b[0;32melse\u001b[0m\u001b[0;34m:\u001b[0m\u001b[0;34m\u001b[0m\u001b[0m\n\u001b[1;32m   2416\u001b[0m             \u001b[0;31m# set column\u001b[0m\u001b[0;34m\u001b[0m\u001b[0;34m\u001b[0m\u001b[0m\n\u001b[0;32m-> 2417\u001b[0;31m             \u001b[0mself\u001b[0m\u001b[0;34m.\u001b[0m\u001b[0m_set_item\u001b[0m\u001b[0;34m(\u001b[0m\u001b[0mkey\u001b[0m\u001b[0;34m,\u001b[0m \u001b[0mvalue\u001b[0m\u001b[0;34m)\u001b[0m\u001b[0;34m\u001b[0m\u001b[0m\n\u001b[0m\u001b[1;32m   2418\u001b[0m \u001b[0;34m\u001b[0m\u001b[0m\n\u001b[1;32m   2419\u001b[0m     \u001b[0;32mdef\u001b[0m \u001b[0m_setitem_slice\u001b[0m\u001b[0;34m(\u001b[0m\u001b[0mself\u001b[0m\u001b[0;34m,\u001b[0m \u001b[0mkey\u001b[0m\u001b[0;34m,\u001b[0m \u001b[0mvalue\u001b[0m\u001b[0;34m)\u001b[0m\u001b[0;34m:\u001b[0m\u001b[0;34m\u001b[0m\u001b[0m\n",
      "\u001b[0;32m/Users/markant/anaconda/lib/python2.7/site-packages/pandas/core/frame.pyc\u001b[0m in \u001b[0;36m_set_item\u001b[0;34m(self, key, value)\u001b[0m\n\u001b[1;32m   2481\u001b[0m \u001b[0;34m\u001b[0m\u001b[0m\n\u001b[1;32m   2482\u001b[0m         \u001b[0mself\u001b[0m\u001b[0;34m.\u001b[0m\u001b[0m_ensure_valid_index\u001b[0m\u001b[0;34m(\u001b[0m\u001b[0mvalue\u001b[0m\u001b[0;34m)\u001b[0m\u001b[0;34m\u001b[0m\u001b[0m\n\u001b[0;32m-> 2483\u001b[0;31m         \u001b[0mvalue\u001b[0m \u001b[0;34m=\u001b[0m \u001b[0mself\u001b[0m\u001b[0;34m.\u001b[0m\u001b[0m_sanitize_column\u001b[0m\u001b[0;34m(\u001b[0m\u001b[0mkey\u001b[0m\u001b[0;34m,\u001b[0m \u001b[0mvalue\u001b[0m\u001b[0;34m)\u001b[0m\u001b[0;34m\u001b[0m\u001b[0m\n\u001b[0m\u001b[1;32m   2484\u001b[0m         \u001b[0mNDFrame\u001b[0m\u001b[0;34m.\u001b[0m\u001b[0m_set_item\u001b[0m\u001b[0;34m(\u001b[0m\u001b[0mself\u001b[0m\u001b[0;34m,\u001b[0m \u001b[0mkey\u001b[0m\u001b[0;34m,\u001b[0m \u001b[0mvalue\u001b[0m\u001b[0;34m)\u001b[0m\u001b[0;34m\u001b[0m\u001b[0m\n\u001b[1;32m   2485\u001b[0m \u001b[0;34m\u001b[0m\u001b[0m\n",
      "\u001b[0;32m/Users/markant/anaconda/lib/python2.7/site-packages/pandas/core/frame.pyc\u001b[0m in \u001b[0;36m_sanitize_column\u001b[0;34m(self, key, value)\u001b[0m\n\u001b[1;32m   2636\u001b[0m \u001b[0;34m\u001b[0m\u001b[0m\n\u001b[1;32m   2637\u001b[0m             \u001b[0;31m# turn me into an ndarray\u001b[0m\u001b[0;34m\u001b[0m\u001b[0;34m\u001b[0m\u001b[0m\n\u001b[0;32m-> 2638\u001b[0;31m             \u001b[0mvalue\u001b[0m \u001b[0;34m=\u001b[0m \u001b[0m_sanitize_index\u001b[0m\u001b[0;34m(\u001b[0m\u001b[0mvalue\u001b[0m\u001b[0;34m,\u001b[0m \u001b[0mself\u001b[0m\u001b[0;34m.\u001b[0m\u001b[0mindex\u001b[0m\u001b[0;34m,\u001b[0m \u001b[0mcopy\u001b[0m\u001b[0;34m=\u001b[0m\u001b[0mFalse\u001b[0m\u001b[0;34m)\u001b[0m\u001b[0;34m\u001b[0m\u001b[0m\n\u001b[0m\u001b[1;32m   2639\u001b[0m             \u001b[0;32mif\u001b[0m \u001b[0;32mnot\u001b[0m \u001b[0misinstance\u001b[0m\u001b[0;34m(\u001b[0m\u001b[0mvalue\u001b[0m\u001b[0;34m,\u001b[0m \u001b[0;34m(\u001b[0m\u001b[0mnp\u001b[0m\u001b[0;34m.\u001b[0m\u001b[0mndarray\u001b[0m\u001b[0;34m,\u001b[0m \u001b[0mIndex\u001b[0m\u001b[0;34m)\u001b[0m\u001b[0;34m)\u001b[0m\u001b[0;34m:\u001b[0m\u001b[0;34m\u001b[0m\u001b[0m\n\u001b[1;32m   2640\u001b[0m                 \u001b[0;32mif\u001b[0m \u001b[0misinstance\u001b[0m\u001b[0;34m(\u001b[0m\u001b[0mvalue\u001b[0m\u001b[0;34m,\u001b[0m \u001b[0mlist\u001b[0m\u001b[0;34m)\u001b[0m \u001b[0;32mand\u001b[0m \u001b[0mlen\u001b[0m\u001b[0;34m(\u001b[0m\u001b[0mvalue\u001b[0m\u001b[0;34m)\u001b[0m \u001b[0;34m>\u001b[0m \u001b[0;36m0\u001b[0m\u001b[0;34m:\u001b[0m\u001b[0;34m\u001b[0m\u001b[0m\n",
      "\u001b[0;32m/Users/markant/anaconda/lib/python2.7/site-packages/pandas/core/series.pyc\u001b[0m in \u001b[0;36m_sanitize_index\u001b[0;34m(data, index, copy)\u001b[0m\n\u001b[1;32m   2796\u001b[0m \u001b[0;34m\u001b[0m\u001b[0m\n\u001b[1;32m   2797\u001b[0m     \u001b[0;32mif\u001b[0m \u001b[0mlen\u001b[0m\u001b[0;34m(\u001b[0m\u001b[0mdata\u001b[0m\u001b[0;34m)\u001b[0m \u001b[0;34m!=\u001b[0m \u001b[0mlen\u001b[0m\u001b[0;34m(\u001b[0m\u001b[0mindex\u001b[0m\u001b[0;34m)\u001b[0m\u001b[0;34m:\u001b[0m\u001b[0;34m\u001b[0m\u001b[0m\n\u001b[0;32m-> 2798\u001b[0;31m         \u001b[0;32mraise\u001b[0m \u001b[0mValueError\u001b[0m\u001b[0;34m(\u001b[0m\u001b[0;34m'Length of values does not match length of '\u001b[0m \u001b[0;34m'index'\u001b[0m\u001b[0;34m)\u001b[0m\u001b[0;34m\u001b[0m\u001b[0m\n\u001b[0m\u001b[1;32m   2799\u001b[0m \u001b[0;34m\u001b[0m\u001b[0m\n\u001b[1;32m   2800\u001b[0m     \u001b[0;32mif\u001b[0m \u001b[0misinstance\u001b[0m\u001b[0;34m(\u001b[0m\u001b[0mdata\u001b[0m\u001b[0;34m,\u001b[0m \u001b[0mPeriodIndex\u001b[0m\u001b[0;34m)\u001b[0m\u001b[0;34m:\u001b[0m\u001b[0;34m\u001b[0m\u001b[0m\n",
      "\u001b[0;31mValueError\u001b[0m: Length of values does not match length of index"
     ]
    }
   ],
   "source": [
    "chdf = data.groupby(['problem', 'choice']).apply(lambda d: d.samplesize.mean()).reset_index()\n",
    "chdf.columns = ['problem', 'choice', 'mn_ss']\n",
    "chdf['pred_mn_ss'] = arr"
   ]
  },
  {
   "cell_type": "code",
   "execution_count": 96,
   "metadata": {
    "collapsed": false
   },
   "outputs": [
    {
     "data": {
      "image/png": "[encoded data removed]",
      "text/plain": [
       "<matplotlib.figure.Figure at 0x119881410>"
      ]
     },
     "metadata": {},
     "output_type": "display_data"
    }
   ],
   "source": [
    "fig, ax = plt.subplots(1, 2)\n",
    "sns.pointplot(x='problem', y='mn_ss', hue='choice', data=chdf, ax=ax[0])\n",
    "sns.pointplot(x='problem', y='pred_mn_ss', hue='choice', data=chdf, ax=ax[1])\n",
    "plt.show()"
   ]
  },
  {
   "cell_type": "code",
   "execution_count": 33,
   "metadata": {
    "collapsed": false
   },
   "outputs": [
    {
     "data": {
      "image/png": "[encoded data removed]",
      "text/plain": [
       "<matplotlib.figure.Figure at 0x105a015d0>"
      ]
     },
     "metadata": {},
     "output_type": "display_data"
    }
   ],
   "source": [
    "cols_L = ['ss_L(.25)','ss_L(.5)','ss_L(.75)']\n",
    "cols_H = ['ss_H(.25)','ss_H(.5)','ss_H(.75)']\n",
    "pred_ss_L = pred.groupby('problem').apply(lambda d: d[cols_L].mean()).reset_index()[cols_L].mean().values\n",
    "pred_ss_H = pred.groupby('problem').apply(lambda d: d[cols_H].mean()).reset_index()[cols_H].mean().values\n",
    "\n",
    "fig, ax = plt.subplots()\n",
    "ax.plot(pred_ss_L, [.25, .5, .75], '--', color='red')\n",
    "ax.plot(pred_ss_H, [.25, .5, .75],'--', color='blue')\n",
    "ax.plot(mquantiles(data[data.choice==0].samplesize), [.25, .5, .75], '-', color='red')\n",
    "ax.plot(mquantiles(data[data.choice==1].samplesize), [.25, .5, .75], '-', color='blue')\n",
    "ax.set_xlim(0, 60)\n",
    "plt.show()"
   ]
  },
  {
   "cell_type": "markdown",
   "metadata": {},
   "source": [
    "# Combine results"
   ]
  },
  {
   "cell_type": "code",
   "execution_count": 23,
   "metadata": {
    "collapsed": false
   },
   "outputs": [],
   "source": [
    "studies = ['hertwig2004', 'hau_exp1', 'hau_exp2']\n",
    "labels = ['HBWE04', 'HPKH08, Exp 1', 'HPKH08, Exp 2']\n",
    "col = ['red', 'blue', 'purple']\n",
    "\n",
    "def pars_to_latex(s):\n",
    "    s = s.replace('|c=0.5,minsamplesize=2', '')\n",
    "    s = s.replace(',tau,theta', '')\n",
    "    s = s.replace('p_stay', '$\\theta$, $p_{stay}$, $\\tau$')\n",
    "    s = s.replace('pow_gain', ' $\\\\alpha$')\n",
    "    s = s.replace('prelec_gamma', ' $\\\\gamma$')\n",
    "    s = s.replace('prelec_elevation', ' $\\\\delta$')\n",
    "    s = s.replace('w_loss', ' $\\\\lambda$')\n",
    "    return s\n",
    "\n",
    "\n",
    "res = {}\n",
    "for study in studies:\n",
    "    res[study] = pd.read_csv('%s/%s_fitsummary.csv' % (TABDEST, study), index_col=0)\n",
    "\n",
    "models = res[studies[0]].sim_id\n",
    "summed_bic = [np.sum([res[r].loc[i].bic for r in res]) for i in range(len(models))]\n",
    "\n",
    "arr = []\n",
    "for i in range(len(models)):\n",
    "    arr.append([res['hertwig2004'].loc[i].sim_id.lstrip('hertwig2004(').rstrip(')')] + \\\n",
    "               [np.round(res[r].loc[i].bic, 1) for r in studies] + \\\n",
    "               [np.round(np.sum([res[r].loc[i].bic for r in studies]), 1)])\n",
    "\n",
    "bicdf = pd.DataFrame(arr, columns=['sim_id', 'bic_hertwig2004', 'bic_hau_exp1', 'bic_hau_exp2', 'bic_combined'])\n",
    "bicdf.sort_values(by='bic_combined', inplace=True)\n",
    "bicdf.to_csv('%s/bics_combined_6problems.csv' % TABDEST)\n",
    "bicdf['sim_id'] = map(pars_to_latex, bicdf.sim_id.values)\n",
    "bicdf.to_latex('%s/bics_combined_6problems.tex' % TABDEST)"
   ]
  },
  {
   "cell_type": "code",
   "execution_count": 24,
   "metadata": {
    "collapsed": false
   },
   "outputs": [
    {
     "data": {
      "text/html": [
       "<div>\n",
       "<table border=\"1\" class=\"dataframe\">\n",
       "  <thead>\n",
       "    <tr style=\"text-align: right;\">\n",
       "      <th></th>\n",
       "      <th>sim_id</th>\n",
       "      <th>bic_hertwig2004</th>\n",
       "      <th>bic_hau_exp1</th>\n",
       "      <th>bic_hau_exp2</th>\n",
       "      <th>bic_combined</th>\n",
       "    </tr>\n",
       "  </thead>\n",
       "  <tbody>\n",
       "    <tr>\n",
       "      <th>5</th>\n",
       "      <td>$\\theta$, $p_{stay}$, $\\tau$, $\\gamma$|minsamplesize=2,p_sample_H=0.5,pref_units=sums,stoprule=o...</td>\n",
       "      <td>1371.2</td>\n",
       "      <td>1910.3</td>\n",
       "      <td>2506.9</td>\n",
       "      <td>5788.5</td>\n",
       "    </tr>\n",
       "    <tr>\n",
       "      <th>3</th>\n",
       "      <td>$\\theta$, $p_{stay}$, $\\tau$, $\\alpha$|minsamplesize=2,p_sample_H=0.5,pref_units=diffs,stoprule=...</td>\n",
       "      <td>1379.2</td>\n",
       "      <td>1908.6</td>\n",
       "      <td>2504.6</td>\n",
       "      <td>5792.4</td>\n",
       "    </tr>\n",
       "    <tr>\n",
       "      <th>7</th>\n",
       "      <td>$\\theta$, $p_{stay}$, $\\tau$, $\\alpha$|minsamplesize=2,p_sample_H=0.5,pref_units=sums,stoprule=o...</td>\n",
       "      <td>1385.9</td>\n",
       "      <td>1909.0</td>\n",
       "      <td>2502.2</td>\n",
       "      <td>5797.0</td>\n",
       "    </tr>\n",
       "    <tr>\n",
       "      <th>6</th>\n",
       "      <td>$\\theta$, $p_{stay}$, $\\tau$, $\\delta$, $\\gamma$|minsamplesize=2,p_sample_H=0.5,pref_units=sums,...</td>\n",
       "      <td>1376.1</td>\n",
       "      <td>1914.9</td>\n",
       "      <td>2506.0</td>\n",
       "      <td>5797.1</td>\n",
       "    </tr>\n",
       "    <tr>\n",
       "      <th>2</th>\n",
       "      <td>$\\theta$, $p_{stay}$, $\\tau$, $\\delta$, $\\gamma$|minsamplesize=2,p_sample_H=0.5,pref_units=diffs...</td>\n",
       "      <td>1379.5</td>\n",
       "      <td>1914.7</td>\n",
       "      <td>2506.7</td>\n",
       "      <td>5800.9</td>\n",
       "    </tr>\n",
       "    <tr>\n",
       "      <th>11</th>\n",
       "      <td>$\\theta$, $p_{stay}$, $\\tau$,p_stop, $\\alpha$,tau|minsamplesize=2,p_sample_H=0.5,pref_units=diff...</td>\n",
       "      <td>1390.9</td>\n",
       "      <td>1910.9</td>\n",
       "      <td>2502.4</td>\n",
       "      <td>5804.2</td>\n",
       "    </tr>\n",
       "    <tr>\n",
       "      <th>14</th>\n",
       "      <td>$\\theta$, $p_{stay}$, $\\tau$,p_stop, $\\delta$, $\\gamma$,tau|minsamplesize=2,p_sample_H=0.5,pref_...</td>\n",
       "      <td>1389.8</td>\n",
       "      <td>1932.1</td>\n",
       "      <td>2507.1</td>\n",
       "      <td>5828.9</td>\n",
       "    </tr>\n",
       "    <tr>\n",
       "      <th>1</th>\n",
       "      <td>$\\theta$, $p_{stay}$, $\\tau$, $\\gamma$|minsamplesize=2,p_sample_H=0.5,pref_units=diffs,stoprule=...</td>\n",
       "      <td>1379.8</td>\n",
       "      <td>1946.3</td>\n",
       "      <td>2517.4</td>\n",
       "      <td>5843.5</td>\n",
       "    </tr>\n",
       "    <tr>\n",
       "      <th>9</th>\n",
       "      <td>$\\theta$, $p_{stay}$, $\\tau$,p_stop, $\\gamma$,tau|minsamplesize=2,p_sample_H=0.5,pref_units=diff...</td>\n",
       "      <td>1396.2</td>\n",
       "      <td>1948.4</td>\n",
       "      <td>2510.7</td>\n",
       "      <td>5855.3</td>\n",
       "    </tr>\n",
       "    <tr>\n",
       "      <th>15</th>\n",
       "      <td>$\\theta$, $p_{stay}$, $\\tau$,p_stop, $\\alpha$,tau|minsamplesize=2,p_sample_H=0.5,pref_units=sums...</td>\n",
       "      <td>1394.1</td>\n",
       "      <td>1963.9</td>\n",
       "      <td>2511.5</td>\n",
       "      <td>5869.5</td>\n",
       "    </tr>\n",
       "    <tr>\n",
       "      <th>4</th>\n",
       "      <td>$\\theta$, $p_{stay}$, $\\tau$|minsamplesize=2,p_sample_H=0.5,pref_units=sums,stoprule=optional</td>\n",
       "      <td>1407.7</td>\n",
       "      <td>1959.9</td>\n",
       "      <td>2505.8</td>\n",
       "      <td>5873.4</td>\n",
       "    </tr>\n",
       "    <tr>\n",
       "      <th>12</th>\n",
       "      <td>$\\theta$, $p_{stay}$, $\\tau$,p_stop,tau|minsamplesize=2,p_sample_H=0.5,pref_units=sums,stoprule=...</td>\n",
       "      <td>1409.1</td>\n",
       "      <td>1958.5</td>\n",
       "      <td>2506.0</td>\n",
       "      <td>5873.6</td>\n",
       "    </tr>\n",
       "    <tr>\n",
       "      <th>0</th>\n",
       "      <td>$\\theta$, $p_{stay}$, $\\tau$|minsamplesize=2,p_sample_H=0.5,pref_units=diffs,stoprule=optional</td>\n",
       "      <td>1404.5</td>\n",
       "      <td>1962.8</td>\n",
       "      <td>2512.1</td>\n",
       "      <td>5879.3</td>\n",
       "    </tr>\n",
       "    <tr>\n",
       "      <th>8</th>\n",
       "      <td>$\\theta$, $p_{stay}$, $\\tau$,p_stop,tau|minsamplesize=2,p_sample_H=0.5,pref_units=diffs,stoprule...</td>\n",
       "      <td>1416.5</td>\n",
       "      <td>1958.5</td>\n",
       "      <td>2506.0</td>\n",
       "      <td>5881.0</td>\n",
       "    </tr>\n",
       "    <tr>\n",
       "      <th>10</th>\n",
       "      <td>$\\theta$, $p_{stay}$, $\\tau$,p_stop, $\\delta$, $\\gamma$,tau|minsamplesize=2,p_sample_H=0.5,pref_...</td>\n",
       "      <td>NaN</td>\n",
       "      <td>1942.5</td>\n",
       "      <td>2507.4</td>\n",
       "      <td>NaN</td>\n",
       "    </tr>\n",
       "    <tr>\n",
       "      <th>13</th>\n",
       "      <td>$\\theta$, $p_{stay}$, $\\tau$,p_stop, $\\gamma$,tau|minsamplesize=2,p_sample_H=0.5,pref_units=sums...</td>\n",
       "      <td>NaN</td>\n",
       "      <td>NaN</td>\n",
       "      <td>2511.5</td>\n",
       "      <td>NaN</td>\n",
       "    </tr>\n",
       "  </tbody>\n",
       "</table>\n",
       "</div>"
      ],
      "text/plain": [
       "                                                                                                 sim_id  \\\n",
       "5   $\\theta$, $p_{stay}$, $\\tau$, $\\gamma$|minsamplesize=2,p_sample_H=0.5,pref_units=sums,stoprule=o...   \n",
       "3   $\\theta$, $p_{stay}$, $\\tau$, $\\alpha$|minsamplesize=2,p_sample_H=0.5,pref_units=diffs,stoprule=...   \n",
       "7   $\\theta$, $p_{stay}$, $\\tau$, $\\alpha$|minsamplesize=2,p_sample_H=0.5,pref_units=sums,stoprule=o...   \n",
       "6   $\\theta$, $p_{stay}$, $\\tau$, $\\delta$, $\\gamma$|minsamplesize=2,p_sample_H=0.5,pref_units=sums,...   \n",
       "2   $\\theta$, $p_{stay}$, $\\tau$, $\\delta$, $\\gamma$|minsamplesize=2,p_sample_H=0.5,pref_units=diffs...   \n",
       "11  $\\theta$, $p_{stay}$, $\\tau$,p_stop, $\\alpha$,tau|minsamplesize=2,p_sample_H=0.5,pref_units=diff...   \n",
       "14  $\\theta$, $p_{stay}$, $\\tau$,p_stop, $\\delta$, $\\gamma$,tau|minsamplesize=2,p_sample_H=0.5,pref_...   \n",
       "1   $\\theta$, $p_{stay}$, $\\tau$, $\\gamma$|minsamplesize=2,p_sample_H=0.5,pref_units=diffs,stoprule=...   \n",
       "9   $\\theta$, $p_{stay}$, $\\tau$,p_stop, $\\gamma$,tau|minsamplesize=2,p_sample_H=0.5,pref_units=diff...   \n",
       "15  $\\theta$, $p_{stay}$, $\\tau$,p_stop, $\\alpha$,tau|minsamplesize=2,p_sample_H=0.5,pref_units=sums...   \n",
       "4         $\\theta$, $p_{stay}$, $\\tau$|minsamplesize=2,p_sample_H=0.5,pref_units=sums,stoprule=optional   \n",
       "12  $\\theta$, $p_{stay}$, $\\tau$,p_stop,tau|minsamplesize=2,p_sample_H=0.5,pref_units=sums,stoprule=...   \n",
       "0        $\\theta$, $p_{stay}$, $\\tau$|minsamplesize=2,p_sample_H=0.5,pref_units=diffs,stoprule=optional   \n",
       "8   $\\theta$, $p_{stay}$, $\\tau$,p_stop,tau|minsamplesize=2,p_sample_H=0.5,pref_units=diffs,stoprule...   \n",
       "10  $\\theta$, $p_{stay}$, $\\tau$,p_stop, $\\delta$, $\\gamma$,tau|minsamplesize=2,p_sample_H=0.5,pref_...   \n",
       "13  $\\theta$, $p_{stay}$, $\\tau$,p_stop, $\\gamma$,tau|minsamplesize=2,p_sample_H=0.5,pref_units=sums...   \n",
       "\n",
       "    bic_hertwig2004  bic_hau_exp1  bic_hau_exp2  bic_combined  \n",
       "5            1371.2        1910.3        2506.9        5788.5  \n",
       "3            1379.2        1908.6        2504.6        5792.4  \n",
       "7            1385.9        1909.0        2502.2        5797.0  \n",
       "6            1376.1        1914.9        2506.0        5797.1  \n",
       "2            1379.5        1914.7        2506.7        5800.9  \n",
       "11           1390.9        1910.9        2502.4        5804.2  \n",
       "14           1389.8        1932.1        2507.1        5828.9  \n",
       "1            1379.8        1946.3        2517.4        5843.5  \n",
       "9            1396.2        1948.4        2510.7        5855.3  \n",
       "15           1394.1        1963.9        2511.5        5869.5  \n",
       "4            1407.7        1959.9        2505.8        5873.4  \n",
       "12           1409.1        1958.5        2506.0        5873.6  \n",
       "0            1404.5        1962.8        2512.1        5879.3  \n",
       "8            1416.5        1958.5        2506.0        5881.0  \n",
       "10              NaN        1942.5        2507.4           NaN  \n",
       "13              NaN           NaN        2511.5           NaN  "
      ]
     },
     "execution_count": 24,
     "metadata": {},
     "output_type": "execute_result"
    }
   ],
   "source": [
    "bicdf"
   ]
  },
  {
   "cell_type": "code",
   "execution_count": 25,
   "metadata": {
    "collapsed": false
   },
   "outputs": [
    {
     "data": {
      "image/png": "[encoded data removed]",
      "text/plain": [
       "<matplotlib.figure.Figure at 0x1190f2a90>"
      ]
     },
     "metadata": {},
     "output_type": "display_data"
    }
   ],
   "source": [
    "fig, ax = plt.subplots(1, 3, figsize=(8, 3), sharey=True)\n",
    "for i, study in enumerate(['hertwig2004', 'hau_exp1', 'hau_exp2']):\n",
    "    axi = ax[i]\n",
    "    axi.plot(range(1, 7), cp[study], '--o', markerfacecolor='white', markeredgecolor=col[i], \n",
    "             markeredgewidth=1, color=col[i], alpha=.5,\n",
    "             label='data')\n",
    "\n",
    "    # hacky\n",
    "    axi.plot(range(1, 7), cp[study], 'o', markerfacecolor='white', markeredgecolor=col[i],\n",
    "             markeredgewidth=1)\n",
    "\n",
    "\n",
    "    axi.plot(range(1, 7), bf_cp[study], '-o', markerfacecolor=col[i], markeredgecolor='white', \n",
    "             markeredgewidth=1, color=col[i], label='CHASE')\n",
    "    axi.set_ylim(0, 1)\n",
    "    axi.set_xlim(0, 7)\n",
    "    axi.set_xticks(range(1,7))\n",
    "    axi.set_xlabel('Problem')\n",
    "    axi.set_ylabel('p(choose H)')\n",
    "    axi.set_title(labels[i])\n",
    "    axi.legend()\n",
    "plt.tight_layout()\n",
    "plt.show()\n",
    "fig.savefig('%s/6problems_choiceprop.pdf' % FIGDEST, bbox_inches='tight')"
   ]
  },
  {
   "cell_type": "code",
   "execution_count": 26,
   "metadata": {
    "collapsed": false
   },
   "outputs": [
    {
     "data": {
      "image/png": "[encoded data removed]",
      "text/plain": [
       "<matplotlib.figure.Figure at 0x1190f2c90>"
      ]
     },
     "metadata": {},
     "output_type": "display_data"
    }
   ],
   "source": [
    "fig, ax = plt.subplots(1, 1, figsize=(6, 3))\n",
    "\n",
    "axi = ax\n",
    "for i, study in enumerate(['hertwig2004', 'hau_exp1', 'hau_exp2']):\n",
    "\n",
    "    axi.plot(quant[study], [.25, .5, .75], '--o', color=col[i],\n",
    "             markerfacecolor='white', markeredgecolor=col[i], \n",
    "             markeredgewidth=1, label='%s, data' % labels[i], alpha=.6)\n",
    "    \n",
    "    # hacky\n",
    "    axi.plot(quant[study], [.25, .5, .75], 'o', color=col[i],\n",
    "             markerfacecolor='white', markeredgecolor=col[i], markeredgewidth=1)\n",
    "\n",
    "    axi.plot(bf_quant[study], [.25, .5, .75], '-o', color=col[i], \n",
    "             markerfacecolor=col[i], markeredgecolor='white',\n",
    "             markeredgewidth=1, label='%s, CHASE' % labels[i])\n",
    "\n",
    "axi.set_xlim(0, 60)\n",
    "axi.legend(loc='center left', bbox_to_anchor=(1,.5))\n",
    "axi.set_xlabel('Sample size')\n",
    "axi.set_ylabel('Quantile')\n",
    "axi.set_yticks([.25, .5, .75])\n",
    "\n",
    "plt.tight_layout()\n",
    "plt.show()\n",
    "fig.savefig('%s/6problems_quantiles.pdf' % FIGDEST, bbox_inches='tight')"
   ]
  },
  {
   "cell_type": "code",
   "execution_count": 28,
   "metadata": {
    "collapsed": false
   },
   "outputs": [
    {
     "data": {
      "image/png": "[encoded data removed]",
      "text/plain": [
       "<matplotlib.figure.Figure at 0x119d15610>"
      ]
     },
     "metadata": {},
     "output_type": "display_data"
    }
   ],
   "source": [
    "p = np.arange(0, 1.01, .01)\n",
    "fig, axi = plt.subplots(figsize=(4,4))\n",
    "axi.plot([0, 1], [0, 1], color='gray', alpha=.3)\n",
    "for i, sim in enumerate(studies):\n",
    "    delta = bf_par[sim]['prelec_elevation']\n",
    "    gamma = bf_par[sim]['prelec_gamma']\n",
    "    axi.plot(p, w_prelec(p, delta, gamma), '-', label=labels[i], color=col[i])\n",
    "axi.set_title('Probability weighting')\n",
    "axi.set_xlabel('Objective probability')\n",
    "axi.set_ylabel('Decision weight')\n",
    "axi.legend(loc='lower right')\n",
    "plt.tight_layout()\n",
    "plt.show()\n",
    "fig.savefig('%s/6problems_weighting.pdf' % FIGDEST, bbox_inches='tight')"
   ]
  },
  {
   "cell_type": "code",
   "execution_count": 29,
   "metadata": {
    "collapsed": false
   },
   "outputs": [
    {
     "data": {
      "text/plain": [
       "{'hau_exp1': {'p_stay': 0.92333321961899995,\n",
       "  'prelec_elevation': 0.40287165908799999,\n",
       "  'prelec_gamma': 3.2019775354000002,\n",
       "  'tau': nan,\n",
       "  'theta': 1},\n",
       " 'hau_exp2': {'p_stay': 0.46330962427900002,\n",
       "  'prelec_elevation': 1.303858065,\n",
       "  'prelec_gamma': 0.880205374682,\n",
       "  'tau': 0.66615972116900002,\n",
       "  'theta': 5},\n",
       " 'hertwig2004': {'p_stay': 0.35895100487099996,\n",
       "  'prelec_elevation': 0.95295431956499999,\n",
       "  'prelec_gamma': 1.52571445931,\n",
       "  'tau': 0.64802866992700003,\n",
       "  'theta': 4}}"
      ]
     },
     "execution_count": 29,
     "metadata": {},
     "output_type": "execute_result"
    }
   ],
   "source": [
    "bf_par"
   ]
  }
 ],
 "metadata": {
  "kernelspec": {
   "display_name": "Python 2",
   "language": "python",
   "name": "python2"
  },
  "language_info": {
   "codemirror_mode": {
    "name": "ipython",
    "version": 2
   },
   "file_extension": ".py",
   "mimetype": "text/x-python",
   "name": "python",
   "nbconvert_exporter": "python",
   "pygments_lexer": "ipython2",
   "version": "2.7.12"
  }
 },
 "nbformat": 4,
 "nbformat_minor": 0
}
