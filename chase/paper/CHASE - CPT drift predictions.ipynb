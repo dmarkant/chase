{
 "cells": [
  {
   "cell_type": "code",
   "execution_count": 1,
   "metadata": {
    "collapsed": false
   },
   "outputs": [],
   "source": [
    "import seaborn as sns\n",
    "from cogmod import cpt\n",
    "from chase.base import *\n",
    "from chase.utils import *\n",
    "from chase.fit import *\n",
    "\n",
    "FIGDEST = '/Users/markant/Dropbox/sharelatex/ssDFE/ssDFEpsychrev_v0/figures/'\n",
    "\n",
    "def expected_value(opt):\n",
    "    return np.dot(opt[:,0], opt[:,1])"
   ]
  },
  {
   "cell_type": "code",
   "execution_count": 19,
   "metadata": {
    "collapsed": false
   },
   "outputs": [
    {
     "data": {
      "text/plain": [
       "5910522063.0232916"
      ]
     },
     "execution_count": 19,
     "metadata": {},
     "output_type": "execute_result"
    }
   ],
   "source": [
    "mu = 10\n",
    "sigma = 5\n",
    "alpha = 1\n",
    "np.exp(mu * alpha) * np.exp(.5 * (sigma**2) * (alpha**2) )"
   ]
  },
  {
   "cell_type": "code",
   "execution_count": 14,
   "metadata": {
    "collapsed": false
   },
   "outputs": [
    {
     "data": {
      "text/plain": [
       "[<matplotlib.lines.Line2D at 0x119cb5410>]"
      ]
     },
     "execution_count": 14,
     "metadata": {},
     "output_type": "execute_result"
    },
    {
     "data": {
      "image/png": "[encoded data removed]",
      "text/plain": [
       "<matplotlib.figure.Figure at 0x119aa5990>"
      ]
     },
     "metadata": {},
     "output_type": "display_data"
    }
   ],
   "source": [
    "alpha = .1\n",
    "x = np.arange(-10,10,.01)\n",
    "p = (2/(alpha*np.sqrt(2*np.pi))) * (x**((1./alpha)-1)) * np.exp(-.5 * (x**(2./alpha)))\n",
    "plt.plot(x, p)"
   ]
  },
  {
   "cell_type": "code",
   "execution_count": 7,
   "metadata": {
    "collapsed": false
   },
   "outputs": [
    {
     "data": {
      "text/plain": [
       "0.60653065971263342"
      ]
     },
     "execution_count": 7,
     "metadata": {},
     "output_type": "execute_result"
    }
   ],
   "source": [
    "\n",
    "np.exp(-.5 * (x**(2./alpha)))"
   ]
  },
  {
   "cell_type": "code",
   "execution_count": 135,
   "metadata": {
    "collapsed": false
   },
   "outputs": [
    {
     "data": {
      "text/plain": [
       "<matplotlib.axes._subplots.AxesSubplot at 0x11ee81950>"
      ]
     },
     "execution_count": 135,
     "metadata": {},
     "output_type": "execute_result"
    },
    {
     "data": {
      "image/png": "[encoded data removed]",
      "text/plain": [
       "<matplotlib.figure.Figure at 0x11eb6cb90>"
      ]
     },
     "metadata": {},
     "output_type": "display_data"
    }
   ],
   "source": [
    "from scipy.stats import norm\n",
    "mu = 50\n",
    "sd = 5\n",
    "dist = norm(mu, sd)\n",
    "x = dist.rvs(size=100000)\n",
    "sns.distplot(x)"
   ]
  },
  {
   "cell_type": "code",
   "execution_count": null,
   "metadata": {
    "collapsed": true
   },
   "outputs": [],
   "source": [
    "[[ 48.   12.5]\n",
    " [ 62.   12.5]]\n",
    "0.443087174432\n",
    "6.22315934412 0.0248273943943"
   ]
  },
  {
   "cell_type": "code",
   "execution_count": 136,
   "metadata": {
    "collapsed": false
   },
   "outputs": [
    {
     "name": "stdout",
     "output_type": "stream",
     "text": [
      "109.4922624\n",
      "171.972826698\n"
     ]
    }
   ],
   "source": [
    "alpha = 1.2\n",
    "sNeg = -(np.abs(x[x<0])**alpha)\n",
    "sPos = x[x>0]**alpha\n",
    "y = np.concatenate((sNeg, sPos))\n",
    "print np.mean(y)\n",
    "print np.var(y)"
   ]
  },
  {
   "cell_type": "code",
   "execution_count": 117,
   "metadata": {
    "collapsed": true
   },
   "outputs": [],
   "source": [
    "import scipy.integrate as integrate"
   ]
  },
  {
   "cell_type": "code",
   "execution_count": 147,
   "metadata": {
    "collapsed": true
   },
   "outputs": [],
   "source": [
    "alpha = 2\n",
    "mu = 62\n",
    "sigma = np.sqrt(12.5)\n",
    "sigma2 = sigma**2\n",
    "\n",
    "def f_positive(x):\n",
    "    return x**alpha*(1/np.sqrt(2*np.pi*(sigma2)))*np.exp(-((x - mu)**2)/(2*sigma2))\n",
    "\n",
    "def f_negative(x):\n",
    "    return -((x - 2*mu)**(alpha))*(1/np.sqrt(2*np.pi*(sigma2)))*np.exp(-((x - mu)**2)/(2*sigma2))\n",
    "\n",
    "def f_var_positive(x):\n",
    "    return x**(2*alpha)*(1/np.sqrt(2*np.pi*(sigma2)))*np.exp(-((x - mu)**2)/(2*sigma2))\n",
    "\n",
    "def f_var_negative(x):\n",
    "    return (((x - 2*mu)**(2*alpha)))*(1/np.sqrt(2*np.pi*(sigma2)))*np.exp(-((x - mu)**2)/(2*sigma2))"
   ]
  },
  {
   "cell_type": "code",
   "execution_count": 148,
   "metadata": {
    "collapsed": false
   },
   "outputs": [
    {
     "name": "stdout",
     "output_type": "stream",
     "text": [
      "3856.5 192512.5\n"
     ]
    }
   ],
   "source": [
    "# integrate f_positive over [0, np.inf]\n",
    "sPos = integrate.quad(lambda x: f_positive(x), 0, np.inf)[0]\n",
    "\n",
    "# integrate f_negative over [2*mu, np.inf]\n",
    "sNeg = integrate.quad(lambda x: f_negative(x), mu*2, np.inf)[0]\n",
    "\n",
    "\n",
    "vPos = integrate.quad(lambda x: f_var_positive(x), 0, np.inf)[0]\n",
    "vNeg = integrate.quad(lambda x: f_var_negative(x), mu*2, np.inf)[0]\n",
    "    \n",
    "ev = sPos + sNeg\n",
    "evar = vPos + vNeg - ev**2\n",
    "print ev, evar"
   ]
  },
  {
   "cell_type": "code",
   "execution_count": 166,
   "metadata": {
    "collapsed": false
   },
   "outputs": [
    {
     "name": "stderr",
     "output_type": "stream",
     "text": [
      "/Users/markant/anaconda/lib/python2.7/site-packages/ipykernel/__main__.py:7: RuntimeWarning: divide by zero encountered in log\n",
      "/Users/markant/anaconda/lib/python2.7/site-packages/ipykernel/__main__.py:10: RuntimeWarning: divide by zero encountered in log\n"
     ]
    },
    {
     "data": {
      "text/plain": [
       "(-7.588967520304301e-70, 4.0483667678776246e-74)"
      ]
     },
     "execution_count": 166,
     "metadata": {},
     "output_type": "execute_result"
    }
   ],
   "source": [
    "integrate.quad(lambda x: f_positive(x), 0, np.inf)\n",
    "integrate.quad(lambda x: f_negative(x), mu*2, np.inf)"
   ]
  },
  {
   "cell_type": "code",
   "execution_count": 241,
   "metadata": {
    "collapsed": false
   },
   "outputs": [],
   "source": [
    "xs = np.arange(0, 100, 1)\n",
    "mu = 62\n",
    "sigma = np.sqrt(12.5)\n",
    "sigma2 = 12.5"
   ]
  },
  {
   "cell_type": "code",
   "execution_count": 242,
   "metadata": {
    "collapsed": true
   },
   "outputs": [],
   "source": [
    "def q(x, mu, sd): \n",
    "    return 1 - norm.cdf(x, mu, sd)\n",
    "\n",
    "def w(q, delta, gamma):\n",
    "    return np.exp(-delta*(-np.log(q))**gamma)\n",
    "\n",
    "def wprime(q, delta, gamma):\n",
    "    wp = np.zeros(q.shape)\n",
    "    i = np.where(q > 0)[0]\n",
    "    qnz = q[i]\n",
    "    wpnz = ((delta*gamma)/qnz) * np.exp(-delta*(-np.log(qnz))**(gamma)) * ((-np.log(qnz))**(gamma-1))\n",
    "    wp[i] = wpnz\n",
    "    return wp"
   ]
  },
  {
   "cell_type": "code",
   "execution_count": 243,
   "metadata": {
    "collapsed": false
   },
   "outputs": [
    {
     "name": "stderr",
     "output_type": "stream",
     "text": [
      "/Users/markant/anaconda/lib/python2.7/site-packages/ipykernel/__main__.py:5: RuntimeWarning: divide by zero encountered in log\n"
     ]
    },
    {
     "data": {
      "image/png": "[encoded data removed]",
      "text/plain": [
       "<matplotlib.figure.Figure at 0x1203ef8d0>"
      ]
     },
     "metadata": {},
     "output_type": "display_data"
    }
   ],
   "source": [
    "fig, ax = plt.subplots()\n",
    "ax.plot(xs, w(q(xs, mu, sigma), 1, 1))\n",
    "ax.plot(xs, w(q(xs, mu, sigma), 1, 2))\n",
    "ax.plot(xs, w(q(xs, mu, sigma), 1.5, .5))\n",
    "plt.show()"
   ]
  },
  {
   "cell_type": "code",
   "execution_count": 244,
   "metadata": {
    "collapsed": false
   },
   "outputs": [
    {
     "data": {
      "text/plain": [
       "[<matplotlib.lines.Line2D at 0x123419d50>]"
      ]
     },
     "execution_count": 244,
     "metadata": {},
     "output_type": "execute_result"
    },
    {
     "data": {
      "image/png": "[encoded data removed]",
      "text/plain": [
       "<matplotlib.figure.Figure at 0x1207d42d0>"
      ]
     },
     "metadata": {},
     "output_type": "display_data"
    }
   ],
   "source": [
    "#print q(xs, mu, sigma)\n",
    "omega = wprime(q(xs, mu, sigma), 1, 1.5)\n",
    "plt.plot(xs, norm.pdf(xs, mu, sigma))\n",
    "plt.plot(omega)"
   ]
  },
  {
   "cell_type": "code",
   "execution_count": 312,
   "metadata": {
    "collapsed": false
   },
   "outputs": [
    {
     "name": "stderr",
     "output_type": "stream",
     "text": [
      "/Users/markant/anaconda/lib/python2.7/site-packages/ipykernel/__main__.py:5: RuntimeWarning: divide by zero encountered in log\n"
     ]
    },
    {
     "data": {
      "image/png": "[encoded data removed]",
      "text/plain": [
       "<matplotlib.figure.Figure at 0x125725290>"
      ]
     },
     "metadata": {},
     "output_type": "display_data"
    }
   ],
   "source": [
    "ps = np.arange(0, 1.01, .01)\n",
    "plt.plot(ps, w(ps, delta, gamma))\n",
    "plt.show()"
   ]
  },
  {
   "cell_type": "code",
   "execution_count": 315,
   "metadata": {
    "collapsed": false
   },
   "outputs": [
    {
     "name": "stdout",
     "output_type": "stream",
     "text": [
      "6.23173744325e-09\n",
      "11680815832.7 -1.36441457786e+20\n"
     ]
    }
   ],
   "source": [
    "delta = 1\n",
    "gamma = 1.54\n",
    "\n",
    "def pr(x):\n",
    "    return (1/np.sqrt(2*np.pi*(sigma2)))*np.exp(-((x - mu)**2)/(2*sigma2))\n",
    "\n",
    "def q(x): \n",
    "    return 1 - norm.cdf(x, mu, sd)\n",
    "\n",
    "def wprime(q):\n",
    "    if q==0:\n",
    "        return 0\n",
    "    else:\n",
    "        return ((delta*gamma)/q) * np.exp(-delta*(-np.log(q))**(gamma)) * ((-np.log(q))**(gamma-1))\n",
    "\n",
    "def decision_weight(x, C=1):\n",
    "    return (1/C) * pr(x) * wprime(q(x))\n",
    "\n",
    "def sev(x, C):\n",
    "    return decision_weight(x, C=C) * (x)\n",
    "\n",
    "def svar(x, C):\n",
    "    return decision_weight(x, C=C) * (x**2)\n",
    "\n",
    "#print integrate.quad(lambda x: pr(x), 0, np.inf)[0]\n",
    "#print integrate.quad(lambda q: wprime(q), 0, 1)[0]\n",
    "C = integrate.quad(lambda x: decision_weight(x), 0, np.inf)[0]\n",
    "print C\n",
    "\n",
    "ev = integrate.quad(lambda x: sev(x, C=C), 0, np.inf)[0]\n",
    "evar = integrate.quad(lambda x: svar(x, C=C), 0, np.inf)[0] - ev**2\n",
    "print ev, evar"
   ]
  },
  {
   "cell_type": "code",
   "execution_count": 314,
   "metadata": {
    "collapsed": true
   },
   "outputs": [],
   "source": [
    "wp_a = np.array([wprime(q(x)) for x in xs])"
   ]
  },
  {
   "cell_type": "code",
   "execution_count": 316,
   "metadata": {
    "collapsed": true
   },
   "outputs": [],
   "source": [
    "wp_b = np.array([wprime(q(x)) for x in xs])"
   ]
  },
  {
   "cell_type": "code",
   "execution_count": 320,
   "metadata": {
    "collapsed": false
   },
   "outputs": [
    {
     "data": {
      "text/plain": [
       "[<matplotlib.lines.Line2D at 0x125d11a90>]"
      ]
     },
     "execution_count": 320,
     "metadata": {},
     "output_type": "execute_result"
    },
    {
     "data": {
      "image/png": "[encoded data removed]",
      "text/plain": [
       "<matplotlib.figure.Figure at 0x125a4fd10>"
      ]
     },
     "metadata": {},
     "output_type": "display_data"
    }
   ],
   "source": [
    "plt.plot(wp_b - wp_a)"
   ]
  },
  {
   "cell_type": "code",
   "execution_count": 308,
   "metadata": {
    "collapsed": false
   },
   "outputs": [
    {
     "data": {
      "text/plain": [
       "[<matplotlib.lines.Line2D at 0x1254b3250>]"
      ]
     },
     "execution_count": 308,
     "metadata": {},
     "output_type": "execute_result"
    },
    {
     "data": {
      "image/png": "[encoded data removed]",
      "text/plain": [
       "<matplotlib.figure.Figure at 0x1254b3990>"
      ]
     },
     "metadata": {},
     "output_type": "display_data"
    }
   ],
   "source": [
    "wp = np.array([wprime(q(x)) for x in xs])\n",
    "p = np.array([pr(x) for x in xs])\n",
    "#dw = np.array([decision_weight(x, C=C) for x in xs])\n",
    "plt.plot(xs, p)\n",
    "#plt.plot(xs, dw)\n",
    "plt.plot(xs, wp)"
   ]
  },
  {
   "cell_type": "code",
   "execution_count": 186,
   "metadata": {
    "collapsed": false
   },
   "outputs": [
    {
     "name": "stderr",
     "output_type": "stream",
     "text": [
      "/Users/markant/anaconda/lib/python2.7/site-packages/ipykernel/__main__.py:8: RuntimeWarning: divide by zero encountered in divide\n",
      "/Users/markant/anaconda/lib/python2.7/site-packages/ipykernel/__main__.py:8: RuntimeWarning: divide by zero encountered in log\n",
      "/Users/markant/anaconda/lib/python2.7/site-packages/ipykernel/__main__.py:8: RuntimeWarning: invalid value encountered in multiply\n"
     ]
    },
    {
     "data": {
      "image/png": "[encoded data removed]",
      "text/plain": [
       "<matplotlib.figure.Figure at 0x1207c98d0>"
      ]
     },
     "metadata": {},
     "output_type": "display_data"
    }
   ],
   "source": [
    "fig, ax = plt.subplots()\n",
    "ax.plot(xs, wprime(q(xs, mu, sigma), 1, 1))\n",
    "plt.show()"
   ]
  },
  {
   "cell_type": "code",
   "execution_count": 10,
   "metadata": {
    "collapsed": false
   },
   "outputs": [],
   "source": [
    "R = np.array([[10., .5],\n",
    "              [30., .5]])\n",
    "S = np.zeros(R.shape)\n",
    "S[0,:] = [expected_value(R), 1.]\n",
    "options = np.array([S, R])\n",
    "\n",
    "R = np.array([[-10, .5],\n",
    "              [-30., .5]])\n",
    "S = np.zeros(R.shape)\n",
    "S[0,:] = [expected_value(R), 1.]\n",
    "options_loss = np.array([S, R])"
   ]
  },
  {
   "cell_type": "code",
   "execution_count": 15,
   "metadata": {
    "collapsed": false
   },
   "outputs": [],
   "source": [
    "pars = {'theta': 4,\n",
    "        'p_stay': 0.3,\n",
    "        'pow_gain': .5,\n",
    "        'w_loss': 10.}\n",
    "\n",
    "m = CHASEModel(drift='cpt', startdist='indifferent')"
   ]
  },
  {
   "cell_type": "code",
   "execution_count": 16,
   "metadata": {
    "collapsed": false
   },
   "outputs": [
    {
     "name": "stdout",
     "output_type": "stream",
     "text": [
      "[[ 1.   0. ]\n",
      " [ 0.5  0.5]]\n",
      "[[ 4.47213595  0.        ]\n",
      " [ 3.16227766  5.47722558]]\n",
      "[[ 1.   0. ]\n",
      " [ 0.5  0.5]]\n",
      "[[-44.72135955   0.        ]\n",
      " [-31.6227766  -54.77225575]]\n"
     ]
    }
   ],
   "source": [
    "r_gain = m(options, pars)\n",
    "r_loss = m(options_loss, pars)"
   ]
  },
  {
   "cell_type": "code",
   "execution_count": 17,
   "metadata": {
    "collapsed": false
   },
   "outputs": [
    {
     "name": "stdout",
     "output_type": "stream",
     "text": [
      "[[ 1.   0. ]\n",
      " [ 0.5  0.5]]\n",
      "[[ 4.47213595  0.        ]\n",
      " [ 3.16227766  5.47722558]]\n"
     ]
    },
    {
     "data": {
      "text/plain": [
       "-0.065826248793698042"
      ]
     },
     "execution_count": 17,
     "metadata": {},
     "output_type": "execute_result"
    }
   ],
   "source": [
    "m.drift(options, pars)"
   ]
  },
  {
   "cell_type": "code",
   "execution_count": 18,
   "metadata": {
    "collapsed": false
   },
   "outputs": [
    {
     "name": "stdout",
     "output_type": "stream",
     "text": [
      "[[ 1.   0. ]\n",
      " [ 0.5  0.5]]\n",
      "[[-44.72135955   0.        ]\n",
      " [-31.6227766  -54.77225575]]\n"
     ]
    },
    {
     "data": {
      "text/plain": [
       "0.065826248793697792"
      ]
     },
     "execution_count": 18,
     "metadata": {},
     "output_type": "execute_result"
    }
   ],
   "source": [
    "m.drift(options_loss, pars)"
   ]
  },
  {
   "cell_type": "code",
   "execution_count": 216,
   "metadata": {
    "collapsed": false
   },
   "outputs": [
    {
     "name": "stdout",
     "output_type": "stream",
     "text": [
      "gain\n",
      "[ 0.64471614  0.35528386]\n",
      "[[ 22.2450168  22.2450168]]\n",
      "loss\n",
      "[ 0.35528386  0.64471614]\n",
      "[[ 22.2450168  22.2450168]]\n"
     ]
    }
   ],
   "source": [
    "print 'gain'\n",
    "print r_gain['p_resp']\n",
    "print r_gain['exp_samplesize']\n",
    "\n",
    "print 'loss'\n",
    "print r_loss['p_resp']\n",
    "print r_loss['exp_samplesize']"
   ]
  },
  {
   "cell_type": "code",
   "execution_count": 191,
   "metadata": {
    "collapsed": true
   },
   "outputs": [],
   "source": [
    "pars = {'theta': 10,\n",
    "        'p_stay': 0.,\n",
    "        'prelec_gamma': 1.5}\n",
    "\n",
    "m = CHASEModel(drift='cpt', startdist='indifferent')"
   ]
  },
  {
   "cell_type": "code",
   "execution_count": 192,
   "metadata": {
    "collapsed": false
   },
   "outputs": [],
   "source": [
    "X = np.array([10, 20, 30, 40, 50, 60, 70])"
   ]
  },
  {
   "cell_type": "code",
   "execution_count": 193,
   "metadata": {
    "collapsed": true
   },
   "outputs": [],
   "source": [
    "p_flat = np.ones(len(X))/float(len(X))"
   ]
  },
  {
   "cell_type": "code",
   "execution_count": 194,
   "metadata": {
    "collapsed": true
   },
   "outputs": [],
   "source": [
    "w_peaked = np.array([1, 1, 10, 20, 10, 1, 1])\n",
    "p_peaked = w_peaked/float(np.sum(w_peaked))"
   ]
  },
  {
   "cell_type": "code",
   "execution_count": 195,
   "metadata": {
    "collapsed": true
   },
   "outputs": [],
   "source": [
    "w_extreme = np.array([20, 1, 1, 1, 1, 1, 1])\n",
    "p_extreme = w_extreme/float(sum(w_extreme))"
   ]
  },
  {
   "cell_type": "code",
   "execution_count": 196,
   "metadata": {
    "collapsed": false
   },
   "outputs": [
    {
     "name": "stdout",
     "output_type": "stream",
     "text": [
      "[39.999999999999993, 39.999999999999993]\n",
      "0.0590785543359\n",
      "[ 0.23452244  0.76547756]\n"
     ]
    }
   ],
   "source": [
    "R = np.transpose((X, p_flat))\n",
    "S = np.zeros(R.shape)\n",
    "S[0,:] = [expected_value(R), 1.]\n",
    "options = np.array([S, R])\n",
    "print map(expected_value, options)\n",
    "print m.drift(options, pars)\n",
    "print m(options, pars)['p_resp']"
   ]
  },
  {
   "cell_type": "code",
   "execution_count": 197,
   "metadata": {
    "collapsed": false
   },
   "outputs": [
    {
     "name": "stdout",
     "output_type": "stream",
     "text": [
      "[40.000000000000007, 40.000000000000007]\n",
      "0.040476843023\n",
      "[ 0.30789488  0.69210512]\n"
     ]
    }
   ],
   "source": [
    "R = np.transpose((X, p_peaked))\n",
    "S = np.zeros(R.shape)\n",
    "S[0,:] = [expected_value(R), 1.]\n",
    "options = np.array([S, R])\n",
    "print map(expected_value, options)\n",
    "print m.drift(options, pars)\n",
    "print m(options, pars)['p_resp']"
   ]
  },
  {
   "cell_type": "code",
   "execution_count": 198,
   "metadata": {
    "collapsed": false
   },
   "outputs": [
    {
     "name": "stdout",
     "output_type": "stream",
     "text": [
      "[40.07692307692308, 40.07692307692308]\n",
      "-0.172876126195\n",
      "[ 0.97047642  0.02952358]\n"
     ]
    }
   ],
   "source": [
    "R = np.transpose((X + 22, p_extreme))\n",
    "S = np.zeros(R.shape)\n",
    "S[0,:] = [expected_value(R), 1.]\n",
    "options = np.array([S, R])\n",
    "#print options\n",
    "print map(expected_value, options)\n",
    "print m.drift(options, pars)\n",
    "print m(options, pars)['p_resp']"
   ]
  },
  {
   "cell_type": "markdown",
   "metadata": {},
   "source": [
    "# Problem sets"
   ]
  },
  {
   "cell_type": "code",
   "execution_count": 505,
   "metadata": {
    "collapsed": false
   },
   "outputs": [
    {
     "name": "stdout",
     "output_type": "stream",
     "text": [
      "0.0295766559171\n",
      "0.0294077445669\n",
      "0.0299746652591\n",
      "0.0313043649924\n",
      "0.0292495078444\n",
      "0.0284616594684\n",
      "0.0288816872597\n",
      "0.0289959517387\n",
      "0.0308364451204\n",
      "0.028547372005\n"
     ]
    }
   ],
   "source": [
    "int_high = np.array([10, 30, 60, 100])\n",
    "\n",
    "M = 10\n",
    "problems_rare = []\n",
    "for i in range(M):\n",
    "    low = np.random.random() * 50\n",
    "    highs = low + int_high + np.random.random(4) * 10\n",
    "    \n",
    "    p_low = [.1, .06, .03, .01]\n",
    "    \n",
    "    R = [[low, .8]]\n",
    "    for h, p in zip(highs, p_low):\n",
    "        R.append([h, p])\n",
    "    R = np.array(R)\n",
    "\n",
    "    S = [[expected_value(R) - 1, 1.]]\n",
    "    for h in highs:\n",
    "        S.append([0., 0.])\n",
    "    S = np.array(S)\n",
    "    \n",
    "    problems_rare.append(np.array([S, R]))\n",
    "    print m.drift(problems_rare[-1], pars)"
   ]
  },
  {
   "cell_type": "code",
   "execution_count": null,
   "metadata": {
    "collapsed": true
   },
   "outputs": [],
   "source": [
    "D = [m.drift(prob, pars) for prob in problems_rare]\n",
    "print D\n",
    "print np.mean(D)"
   ]
  },
  {
   "cell_type": "markdown",
   "metadata": {},
   "source": [
    "# Different thresholds\n",
    "\n",
    "### Low threshold"
   ]
  },
  {
   "cell_type": "code",
   "execution_count": 555,
   "metadata": {
    "collapsed": false
   },
   "outputs": [
    {
     "data": {
      "text/plain": [
       "problem\n",
       "0    0.5129\n",
       "1    0.5119\n",
       "2    0.5088\n",
       "3    0.5231\n",
       "4    0.5113\n",
       "5    0.5153\n",
       "6    0.5138\n",
       "7    0.5168\n",
       "8    0.5189\n",
       "9    0.5254\n",
       "Name: choice, dtype: float64"
      ]
     },
     "execution_count": 555,
     "metadata": {},
     "output_type": "execute_result"
    }
   ],
   "source": [
    "problems = problems_rare\n",
    "\n",
    "cols = ['subject', 'problem', 'group', 'choice', 'samplesize']\n",
    "pars = {'theta': 1,\n",
    "        'p_stay': 0.,\n",
    "        'N': 10000}\n",
    "\n",
    "# create the model with EV-based drift\n",
    "m = CHASEModel(drift='ev', startdist='indifferent')\n",
    "\n",
    "arr = []\n",
    "for j in range(M):\n",
    "    traj = m.sample_trajectories(problems[j], pars)\n",
    "    for i, tr in enumerate(traj):\n",
    "        arr.append([i, j, 0, tr['choice'], tr['samplesize']])\n",
    "df = pd.DataFrame(arr, columns=cols)\n",
    "\n",
    "# this is the choice proportion across entire simulated \n",
    "# dataset, which is slightly in favor of the H option\n",
    "df.groupby('problem').agg(np.mean)['choice']"
   ]
  },
  {
   "cell_type": "code",
   "execution_count": 527,
   "metadata": {
    "collapsed": false
   },
   "outputs": [
    {
     "name": "stdout",
     "output_type": "stream",
     "text": [
      "cptfit_problems_rare(prelec_gamma,s|)\n"
     ]
    },
    {
     "data": {
      "text/html": [
       "<div style=\"max-height:1000px;max-width:1500px;overflow:auto;\">\n",
       "<table border=\"1\" class=\"dataframe\">\n",
       "  <thead>\n",
       "    <tr style=\"text-align: right;\">\n",
       "      <th></th>\n",
       "      <th>iteration</th>\n",
       "      <th>success</th>\n",
       "      <th>k</th>\n",
       "      <th>N</th>\n",
       "      <th>msd</th>\n",
       "      <th>prelec_gamma</th>\n",
       "      <th>s</th>\n",
       "    </tr>\n",
       "  </thead>\n",
       "  <tbody>\n",
       "    <tr>\n",
       "      <th>0</th>\n",
       "      <td>0</td>\n",
       "      <td>True</td>\n",
       "      <td>2</td>\n",
       "      <td>100000</td>\n",
       "      <td>0.000006</td>\n",
       "      <td>1.069005</td>\n",
       "      <td>0.447</td>\n",
       "    </tr>\n",
       "  </tbody>\n",
       "</table>\n",
       "</div>"
      ],
      "text/plain": [
       "   iteration success  k       N       msd  prelec_gamma      s\n",
       "0          0    True  2  100000  0.000006      1.069005  0.447"
      ]
     },
     "execution_count": 527,
     "metadata": {},
     "output_type": "execute_result"
    }
   ],
   "source": [
    "# can fit CPT to the choice proportion for this \n",
    "# single problem\n",
    "fitting = {'s': [0, np.inf, 1.],\n",
    "           'prelec_gamma': [0, np.inf, 1.]}\n",
    "cpt.fit_msd(problems_rare, df, 'cptfit_problems_rare', fixed={}, fitting=fitting)"
   ]
  },
  {
   "cell_type": "code",
   "execution_count": 528,
   "metadata": {
    "collapsed": false
   },
   "outputs": [
    {
     "name": "stdout",
     "output_type": "stream",
     "text": [
      "cptfit_problems_rare(prelec_gamma|)\n"
     ]
    },
    {
     "data": {
      "text/html": [
       "<div style=\"max-height:1000px;max-width:1500px;overflow:auto;\">\n",
       "<table border=\"1\" class=\"dataframe\">\n",
       "  <thead>\n",
       "    <tr style=\"text-align: right;\">\n",
       "      <th></th>\n",
       "      <th>iteration</th>\n",
       "      <th>success</th>\n",
       "      <th>k</th>\n",
       "      <th>N</th>\n",
       "      <th>msd</th>\n",
       "      <th>prelec_gamma</th>\n",
       "    </tr>\n",
       "  </thead>\n",
       "  <tbody>\n",
       "    <tr>\n",
       "      <th>0</th>\n",
       "      <td>0</td>\n",
       "      <td>True</td>\n",
       "      <td>1</td>\n",
       "      <td>100000</td>\n",
       "      <td>0.000018</td>\n",
       "      <td>1.076074</td>\n",
       "    </tr>\n",
       "  </tbody>\n",
       "</table>\n",
       "</div>"
      ],
      "text/plain": [
       "   iteration success  k       N       msd  prelec_gamma\n",
       "0          0    True  1  100000  0.000018      1.076074"
      ]
     },
     "execution_count": 528,
     "metadata": {},
     "output_type": "execute_result"
    }
   ],
   "source": [
    "# can fit CPT to the choice proportion for this \n",
    "# single problem\n",
    "fitting = {'prelec_gamma': [0, 5, 1.],}\n",
    "cpt.fit_msd(problems_rare, df, 'cptfit_problems_rare', fixed={}, fitting=fitting)"
   ]
  },
  {
   "cell_type": "code",
   "execution_count": 517,
   "metadata": {
    "collapsed": false
   },
   "outputs": [
    {
     "name": "stdout",
     "output_type": "stream",
     "text": [
      "cptfit_problems_rare_0(prelec_gamma,s|)\n",
      "cptfit_problems_rare_1(prelec_gamma,s|)\n",
      "cptfit_problems_rare_2(prelec_gamma,s|)\n",
      "cptfit_problems_rare_3(prelec_gamma,s|)\n",
      "cptfit_problems_rare_4(prelec_gamma,s|)\n",
      "cptfit_problems_rare_5(prelec_gamma,s|)\n",
      "cptfit_problems_rare_6(prelec_gamma,s|)\n",
      "cptfit_problems_rare_7(prelec_gamma,s|)\n",
      "cptfit_problems_rare_8(prelec_gamma,s|)\n",
      "cptfit_problems_rare_9(prelec_gamma,s|)\n"
     ]
    }
   ],
   "source": [
    "# generate simulated datasets and fit CPT to get\n",
    "# distribution of gamma parameters\n",
    "\n",
    "N = 10\n",
    "SIM_ID = 'sim1_recovery_CHASE_N=%s' % N\n",
    "N_FIT_ITER = 5\n",
    "OUTDIR = 'sim1_recovery_CHASE'\n",
    "\n",
    "arr_th1 = []\n",
    "for iteration in range(10):\n",
    "    \n",
    "    # sample dataset\n",
    "    ds = df.groupby('problem').apply(lambda d: d.iloc[np.random.randint(d.shape[0], size=N)]).reset_index(0, drop=True)\n",
    "    \n",
    "    # fit with CPT\n",
    "    r = cpt.fit_msd(problems_rare, ds, 'cptfit_problems_rare_%s' % iteration, fixed={}, fitting=fitting)\n",
    "    arr_th1.append(r[['prelec_gamma', 's']].values[0])\n",
    "    \n",
    "    # fit with CHASE\n",
    "    m = CHASEModel(drift='cpt',\n",
    "                   startdist='softmax')\n",
    "\n",
    "    fitting_CHASE = {'theta': [1, 10],\n",
    "                     'p_stay': [0, 1],\n",
    "                     'tau': [0, np.inf, 1.],\n",
    "                     'prelec_gamma': [0, 5, 1.],}\n",
    "\n",
    "    results = fit_mlh(m, problems_rare, ds, \n",
    "                      SIM_ID, {}, fitting_CHASE, niter=N_FIT_ITER, outdir=OUTDIR)"
   ]
  },
  {
   "cell_type": "code",
   "execution_count": 566,
   "metadata": {
    "collapsed": false,
    "scrolled": false
   },
   "outputs": [
    {
     "name": "stdout",
     "output_type": "stream",
     "text": [
      "cptfit_problems_rare_0(prelec_gamma|)\n",
      "sim1_recovery_CHASE_N=20_theta=1_iter=0(p_stay,prelec_gamma,theta|)\n",
      "0/9\n",
      "1/9\n",
      "2/9\n",
      "3/9\n",
      "4/9\n",
      "5/9\n",
      "6/9\n",
      "7/9\n",
      "8/9\n",
      "   iteration success         nllh  k    N          bic  theta        p_stay  \\\n",
      "0          0    True   138.263364  3  200   292.421679      1  1.319775e-10   \n",
      "3          1    True   138.263364  3  200   292.421679      1  2.550535e-10   \n",
      "6          2    True   138.263364  3  200   292.421679      1  4.309036e-10   \n",
      "1          0    True  4743.435206  3  200  9502.765363      2  6.860071e-01   \n",
      "4          1    True  4743.435206  3  200  9502.765363      2  7.608090e-01   \n",
      "7          2    True  4743.435206  3  200  9502.765363      2  2.823140e-01   \n",
      "2          0    True  4743.438299  3  200  9502.771549      3  7.552063e-01   \n",
      "5          1    True  4743.438299  3  200  9502.771549      3  5.207595e-01   \n",
      "8          2    True  4743.438299  3  200  9502.771549      3  6.189121e-01   \n",
      "\n",
      "   prelec_gamma  \n",
      "0      0.907026  \n",
      "3      0.907110  \n",
      "6      0.906996  \n",
      "1      0.997442  \n",
      "4      0.997442  \n",
      "7      0.997442  \n",
      "2      1.026257  \n",
      "5      1.026257  \n",
      "8      1.026257  \n",
      "cptfit_problems_rare_1(prelec_gamma|)\n",
      "sim1_recovery_CHASE_N=20_theta=1_iter=1(p_stay,prelec_gamma,theta|)\n",
      "0/9\n",
      "1/9\n",
      "2/9\n",
      "3/9\n",
      "4/9\n",
      "5/9\n",
      "6/9\n",
      "7/9\n",
      "8/9\n",
      "   iteration success         nllh  k    N          bic  theta        p_stay  \\\n",
      "3          1    True   134.158277  3  200   284.211507      1  2.763301e-10   \n",
      "6          2    True   134.158278  3  200   284.211508      1  1.691539e-09   \n",
      "0          0    True   134.158279  3  200   284.211509      1  3.683116e-10   \n",
      "1          0    True  4739.324227  3  200  9494.543406      2  2.117286e-01   \n",
      "4          1    True  4739.324227  3  200  9494.543406      2  7.672222e-01   \n",
      "7          2    True  4739.324227  3  200  9494.543406      2  2.376919e-02   \n",
      "8          2    True  4739.326824  3  200  9494.548600      3  7.405626e-01   \n",
      "2          0    True  4739.326824  3  200  9494.548600      3  4.212184e-02   \n",
      "5          1    True  4739.326824  3  200  9494.548600      3  2.970982e-01   \n",
      "\n",
      "   prelec_gamma  \n",
      "3      0.393618  \n",
      "6      0.393343  \n",
      "0      0.393220  \n",
      "1      0.756329  \n",
      "4      0.756329  \n",
      "7      0.756329  \n",
      "8      0.872987  \n",
      "2      0.872986  \n",
      "5      0.872986  \n",
      "cptfit_problems_rare_2(prelec_gamma|)\n",
      "sim1_recovery_CHASE_N=20_theta=1_iter=2(p_stay,prelec_gamma,theta|)\n",
      "0/9\n",
      "1/9\n",
      "2/9\n",
      "3/9\n",
      "4/9\n",
      "5/9\n",
      "6/9\n",
      "7/9\n",
      "8/9\n",
      "   iteration success         nllh  k    N          bic  theta        p_stay  \\\n",
      "0          0    True   138.626434  3  200   293.147820      1  3.855990e-10   \n",
      "6          2    True   138.626434  3  200   293.147821      1  5.852016e-10   \n",
      "3          1    True   138.626471  3  200   293.147894      1  7.287825e-09   \n",
      "1          0    True  4743.804725  3  200  9503.504403      2  2.432660e-02   \n",
      "4          1    True  4743.804725  3  200  9503.504403      2  7.913931e-01   \n",
      "7          2    True  4743.804725  3  200  9503.504403      2  3.837570e-01   \n",
      "5          1    True  4743.812980  3  200  9503.520912      3  6.112574e-01   \n",
      "8          2    True  4743.812980  3  200  9503.520912      3  2.357989e-01   \n",
      "2          0    True  4743.812980  3  200  9503.520912      3  9.626636e-01   \n",
      "\n",
      "   prelec_gamma  \n",
      "0      1.053627  \n",
      "6      1.053736  \n",
      "3      1.052016  \n",
      "1      1.067911  \n",
      "4      1.067911  \n",
      "7      1.067911  \n",
      "5      1.072627  \n",
      "8      1.072627  \n",
      "2      1.072627  \n",
      "cptfit_problems_rare_3(prelec_gamma|)\n",
      "sim1_recovery_CHASE_N=20_theta=1_iter=3(p_stay,prelec_gamma,theta|)\n",
      "0/9\n",
      "1/9\n",
      "2/9\n",
      "3/9\n",
      "4/9\n",
      "5/9\n",
      "6/9\n",
      "7/9\n",
      "8/9\n",
      "   iteration success         nllh  k    N          bic  theta        p_stay  \\\n",
      "3          1    True   138.624826  3  200   293.144605      1  4.073668e-10   \n",
      "6          2    True   138.624826  3  200   293.144605      1  1.207234e-09   \n",
      "0          0    True   138.624827  3  200   293.144606      1  3.614007e-09   \n",
      "1          0    True  4743.804933  3  200  9503.504819      2  9.042314e-01   \n",
      "4          1    True  4743.804933  3  200  9503.504819      2  1.500430e-01   \n",
      "7          2    True  4743.804933  3  200  9503.504819      2  1.504823e-01   \n",
      "2          0    True  4743.815133  3  200  9503.525219      3  1.270259e-01   \n",
      "5          1    True  4743.815133  3  200  9503.525219      3  6.341539e-01   \n",
      "8          2    True  4743.815133  3  200  9503.525219      3  9.193713e-01   \n",
      "\n",
      "   prelec_gamma  \n",
      "3      1.049559  \n",
      "6      1.049543  \n",
      "0      1.049534  \n",
      "1      1.065738  \n",
      "4      1.065738  \n",
      "7      1.065738  \n",
      "2      1.071135  \n",
      "5      1.071135  \n",
      "8      1.071135  \n",
      "cptfit_problems_rare_4(prelec_gamma|)\n",
      "sim1_recovery_CHASE_N=20_theta=1_iter=4(p_stay,prelec_gamma,theta|)\n",
      "0/9\n",
      "1/9\n",
      "2/9\n",
      "3/9\n",
      "4/9\n",
      "5/9\n",
      "6/9\n",
      "7/9\n",
      "8/9\n",
      "   iteration success         nllh  k    N          bic  theta        p_stay  \\\n",
      "6          2    True   137.454009  3  200   290.802971      1  1.175032e-10   \n",
      "0          0    True   137.454009  3  200   290.802971      1  4.034779e-10   \n",
      "3          1    True   137.454011  3  200   290.802973      1  4.062198e-11   \n",
      "2          0    True  4742.627911  3  200  9501.150774      3  8.822456e-01   \n",
      "8          2    True  4742.627911  3  200  9501.150774      3  5.414907e-01   \n",
      "5          1    True  4742.627911  3  200  9501.150774      3  9.524430e-01   \n",
      "1          0    True  4742.629159  3  200  9501.153270      2  2.782900e-01   \n",
      "4          1    True  4742.629159  3  200  9501.153270      2  1.896336e-01   \n",
      "7          2    True  4742.629159  3  200  9501.153270      2  4.367873e-01   \n",
      "\n",
      "   prelec_gamma  \n",
      "6      0.749047  \n",
      "0      0.748930  \n",
      "3      0.748648  \n",
      "2      0.981080  \n",
      "8      0.981080  \n",
      "5      0.981080  \n",
      "1      0.926364  \n",
      "4      0.926364  \n",
      "7      0.926364  \n",
      "cptfit_problems_rare_5(prelec_gamma|)\n",
      "sim1_recovery_CHASE_N=20_theta=1_iter=5(p_stay,prelec_gamma,theta|)\n",
      "0/9\n",
      "1/9\n",
      "2/9\n",
      "3/9\n",
      "4/9\n",
      "5/9\n",
      "6/9\n",
      "7/9\n",
      "8/9\n",
      "   iteration success         nllh  k    N          bic  theta        p_stay  \\\n",
      "3          1    True   138.584972  3  200   293.064896      1  7.737303e-11   \n",
      "0          0    True   138.584972  3  200   293.064896      1  9.826652e-11   \n",
      "6          2    True   138.584972  3  200   293.064897      1  8.054071e-10   \n",
      "5          1    True  4743.748939  3  200  9503.392831      3  8.151343e-01   \n",
      "2          0    True  4743.748939  3  200  9503.392831      3  2.493435e-01   \n",
      "8          2    True  4743.748939  3  200  9503.392831      3  4.015044e-01   \n",
      "1          0    True  4743.752002  3  200  9503.398956      2  8.363449e-01   \n",
      "4          1    True  4743.752002  3  200  9503.398956      2  5.543833e-02   \n",
      "7          2    True  4743.752002  3  200  9503.398956      2  6.682155e-01   \n",
      "\n",
      "   prelec_gamma  \n",
      "3      1.134883  \n",
      "0      1.134929  \n",
      "6      1.134929  \n",
      "5      1.099896  \n",
      "2      1.099896  \n",
      "8      1.099896  \n",
      "1      1.108745  \n",
      "4      1.108745  \n",
      "7      1.108745  \n",
      "cptfit_problems_rare_6(prelec_gamma|)\n",
      "sim1_recovery_CHASE_N=20_theta=1_iter=6(p_stay,prelec_gamma,theta|)\n",
      "0/9\n",
      "1/9\n",
      "2/9\n",
      "3/9\n",
      "4/9\n",
      "5/9\n",
      "6/9\n",
      "7/9\n",
      "8/9\n",
      "   iteration success         nllh  k    N          bic  theta        p_stay  \\\n",
      "0          0    True   137.179482  3  200   290.253915      1  5.699309e-10   \n",
      "3          1    True   137.179482  3  200   290.253915      1  1.542792e-10   \n",
      "6          2    True   137.179482  3  200   290.253916      1  7.840834e-10   \n",
      "2          0    True  4742.333821  3  200  9500.562594      3  1.509598e-01   \n",
      "5          1    True  4742.333821  3  200  9500.562594      3  3.379495e-01   \n",
      "8          2    True  4742.333821  3  200  9500.562594      3  6.458996e-01   \n",
      "1          0    True  4742.341522  3  200  9500.577997      2  9.814679e-01   \n",
      "4          1    True  4742.341522  3  200  9500.577997      2  7.124419e-02   \n",
      "7          2    True  4742.341522  3  200  9500.577997      2  5.372520e-01   \n",
      "\n",
      "   prelec_gamma  \n",
      "0      0.710492  \n",
      "3      0.710356  \n",
      "6      0.710614  \n",
      "2      0.968868  \n",
      "5      0.968868  \n",
      "8      0.968868  \n",
      "1      0.907986  \n",
      "4      0.907985  \n",
      "7      0.907985  \n",
      "cptfit_problems_rare_7(prelec_gamma|)\n",
      "sim1_recovery_CHASE_N=20_theta=1_iter=7(p_stay,prelec_gamma,theta|)\n",
      "0/9\n",
      "1/9\n",
      "2/9\n",
      "3/9\n",
      "4/9\n",
      "5/9\n",
      "6/9\n",
      "7/9\n",
      "8/9\n",
      "   iteration success         nllh  k    N          bic  theta        p_stay  \\\n",
      "0          0    True   138.316374  3  200   292.527700      1  2.175476e-10   \n",
      "6          2    True   138.316374  3  200   292.527700      1  5.811272e-10   \n",
      "3          1    True   138.316374  3  200   292.527700      1  1.193212e-09   \n",
      "2          0    True  4743.477807  3  200  9502.850566      3  4.764739e-01   \n",
      "5          1    True  4743.477807  3  200  9502.850566      3  8.001841e-01   \n",
      "8          2    True  4743.477807  3  200  9502.850566      3  2.792869e-01   \n",
      "1          0    True  4743.485193  3  200  9502.865339      2  5.341375e-01   \n",
      "4          1    True  4743.485193  3  200  9502.865339      2  6.515798e-01   \n",
      "7          2    True  4743.485193  3  200  9502.865339      2  7.883059e-01   \n",
      "\n",
      "   prelec_gamma  \n",
      "0      1.223537  \n",
      "6      1.223532  \n",
      "3      1.223627  \n",
      "2      1.129441  \n",
      "5      1.129441  \n",
      "8      1.129441  \n",
      "1      1.153008  \n",
      "4      1.153008  \n",
      "7      1.153008  \n",
      "cptfit_problems_rare_8(prelec_gamma|)\n",
      "sim1_recovery_CHASE_N=20_theta=1_iter=8(p_stay,prelec_gamma,theta|)\n",
      "0/9\n",
      "1/9\n",
      "2/9\n",
      "3/9\n",
      "4/9\n",
      "5/9\n",
      "6/9\n",
      "7/9\n",
      "8/9\n",
      "   iteration success         nllh  k    N          bic  theta        p_stay  \\\n",
      "3          1    True   138.504618  3  200   292.904189      1  9.940907e-10   \n",
      "6          2    True   138.504618  3  200   292.904189      1  4.996421e-10   \n",
      "0          0    True   138.504623  3  200   292.904198      1  1.215531e-09   \n",
      "7          2    True  4743.678927  3  200  9503.252807      2  6.033999e-01   \n",
      "1          0    True  4743.678927  3  200  9503.252807      2  2.233913e-01   \n",
      "4          1    True  4743.678927  3  200  9503.252807      2  6.833712e-01   \n",
      "2          0    True  4743.685163  3  200  9503.265278      3  2.914550e-01   \n",
      "5          1    True  4743.685163  3  200  9503.265278      3  5.178676e-01   \n",
      "8          2    True  4743.685163  3  200  9503.265278      3  7.250195e-02   \n",
      "\n",
      "   prelec_gamma  \n",
      "3      1.172640  \n",
      "6      1.172845  \n",
      "0      1.172211  \n",
      "7      1.129423  \n",
      "1      1.129423  \n",
      "4      1.129423  \n",
      "2      1.114084  \n",
      "5      1.114084  \n",
      "8      1.114084  \n",
      "cptfit_problems_rare_9(prelec_gamma|)\n",
      "sim1_recovery_CHASE_N=20_theta=1_iter=9(p_stay,prelec_gamma,theta|)\n",
      "0/9\n",
      "1/9\n",
      "2/9\n",
      "3/9\n",
      "4/9\n",
      "5/9\n",
      "6/9\n",
      "7/9\n",
      "8/9\n",
      "   iteration success         nllh  k    N          bic  theta        p_stay  \\\n",
      "6          2    True   138.542202  3  200   292.979356      1  2.564732e-10   \n",
      "3          1    True   138.542202  3  200   292.979356      1  8.188264e-10   \n",
      "0          0    True   138.542202  3  200   292.979356      1  1.010295e-09   \n",
      "2          0    True  4743.708709  3  200  9503.312370      3  7.664955e-01   \n",
      "5          1    True  4743.708709  3  200  9503.312370      3  1.551906e-01   \n",
      "8          2    True  4743.708709  3  200  9503.312370      3  1.792197e-01   \n",
      "1          0    True  4743.710616  3  200  9503.316185      2  9.262192e-01   \n",
      "4          1    True  4743.710616  3  200  9503.316185      2  9.056589e-01   \n",
      "7          2    True  4743.710616  3  200  9503.316185      2  7.345124e-01   \n",
      "\n",
      "   prelec_gamma  \n",
      "6      1.000749  \n",
      "3      1.000770  \n",
      "0      1.000679  \n",
      "2      1.055761  \n",
      "5      1.055761  \n",
      "8      1.055761  \n",
      "1      1.042321  \n",
      "4      1.042321  \n",
      "7      1.042321  \n"
     ]
    }
   ],
   "source": [
    "# generate simulated datasets and fit CPT to get\n",
    "# distribution of gamma parameters\n",
    "N = 20\n",
    "N_FIT_ITER = 3\n",
    "OUTDIR = 'sim1_recovery_CHASE'\n",
    "\n",
    "\n",
    "arr_th1 = []\n",
    "for iteration in range(10):\n",
    "    \n",
    "    # sample dataset\n",
    "    ds = df.groupby('problem').apply(lambda d: d.iloc[np.random.randint(d.shape[0], size=N)]).reset_index(0, drop=True)\n",
    "    \n",
    "    # fit CPT\n",
    "    r = cpt.fit_msd(problems_rare, ds, 'cptfit_problems_rare_%s' % iteration, fixed={}, fitting=fitting)\n",
    "    arr_th1.append(r['prelec_gamma'].values[0])\n",
    "    \n",
    "    # fit CHASE\n",
    "    m = CHASEModel(drift='cpt',\n",
    "                   startdist='indifferent')\n",
    "    SIM_ID = 'sim1_recovery_CHASE_N=%s_theta=1_iter=%s' % (N, iteration)\n",
    "\n",
    "    fitting_CHASE = {'theta': [1, 3],\n",
    "                     'p_stay': [0, 1],\n",
    "                     'prelec_gamma': [0, 5, 1.],}\n",
    "\n",
    "    results = fit_mlh(m, problems_rare, ds, \n",
    "                      SIM_ID, {}, fitting_CHASE, niter=N_FIT_ITER, outdir=OUTDIR)\n",
    "    print results.sort('nllh')"
   ]
  },
  {
   "cell_type": "code",
   "execution_count": 567,
   "metadata": {
    "collapsed": false
   },
   "outputs": [],
   "source": [
    "arr = []\n",
    "N = 20\n",
    "for iteration in range(10):\n",
    "    SIM_ID = 'sim1_recovery_CHASE_N=%s_theta=1_iter=%s' % (N, iteration)\n",
    "    best = best_result(SIM_ID, {}, fitting_CHASE, OUTDIR)\n",
    "    arr.append([j, N, iteration, best['theta'], best['p_stay'], best['prelec_gamma']])\n",
    "fitdf = pd.DataFrame(arr, columns=['dataset', 'N', 'iteration', 'bf_theta', 'bf_p_stay', 'bf_gamma'])"
   ]
  },
  {
   "cell_type": "code",
   "execution_count": 574,
   "metadata": {
    "collapsed": false
   },
   "outputs": [
    {
     "data": {
      "text/plain": [
       "<matplotlib.axes._subplots.AxesSubplot at 0x10dbb8e50>"
      ]
     },
     "execution_count": 574,
     "metadata": {},
     "output_type": "execute_result"
    },
    {
     "data": {
      "image/png": "[encoded data removed]",
      "text/plain": [
       "<matplotlib.figure.Figure at 0x10fa7dd90>"
      ]
     },
     "metadata": {},
     "output_type": "display_data"
    }
   ],
   "source": [
    "fitdf['bf_gamma'].hist()"
   ]
  },
  {
   "cell_type": "markdown",
   "metadata": {},
   "source": [
    "### High threshold"
   ]
  },
  {
   "cell_type": "code",
   "execution_count": 582,
   "metadata": {
    "collapsed": false
   },
   "outputs": [
    {
     "data": {
      "text/plain": [
       "problem\n",
       "0    0.7557\n",
       "1    0.7725\n",
       "2    0.7714\n",
       "3    0.7705\n",
       "4    0.7574\n",
       "5    0.7588\n",
       "6    0.7604\n",
       "7    0.7650\n",
       "8    0.7753\n",
       "9    0.7522\n",
       "Name: choice, dtype: float64"
      ]
     },
     "execution_count": 582,
     "metadata": {},
     "output_type": "execute_result"
    }
   ],
   "source": [
    "pars = {'theta': 20,\n",
    "        'p_stay': 0.,\n",
    "        'N': 10000}\n",
    "\n",
    "# create the model with EV-based drift\n",
    "m = CHASEModel(drift='ev', startdist='indifferent')\n",
    "\n",
    "arr = []\n",
    "for j in range(M):\n",
    "    traj = m.sample_trajectories(problems[j], pars)\n",
    "    for i, tr in enumerate(traj):\n",
    "        arr.append([i, j, 0, tr['choice'], tr['samplesize']])\n",
    "df = pd.DataFrame(arr, columns=cols)\n",
    "\n",
    "# this is the choice proportion across entire simulated \n",
    "# dataset, which is slightly in favor of the H option\n",
    "df.groupby('problem').agg(np.mean)['choice']"
   ]
  },
  {
   "cell_type": "code",
   "execution_count": null,
   "metadata": {
    "collapsed": false,
    "scrolled": false
   },
   "outputs": [
    {
     "name": "stdout",
     "output_type": "stream",
     "text": [
      "cptfit_problems_rare_0(prelec_gamma|)\n",
      "sim1_recovery_CHASE_N=10000_theta=20_iter=0(p_stay,prelec_gamma,theta|)"
     ]
    }
   ],
   "source": [
    "# generate simulated datasets and fit CPT to get\n",
    "# distribution of gamma parameters\n",
    "N = 10000\n",
    "arr_th20 = []\n",
    "for iteration in range(100):\n",
    "    \n",
    "    # sample dataset\n",
    "    ds = df.groupby('problem').apply(lambda d: d.iloc[np.random.randint(d.shape[0], size=N)]).reset_index(0, drop=True)\n",
    "    \n",
    "    # fit CPT\n",
    "    r = cpt.fit_msd(problems_rare, ds, 'cptfit_problems_rare_%s' % iteration, fixed={}, fitting=fitting)\n",
    "    arr_th20.append(r['prelec_gamma'].values[0])\n",
    "    \n",
    "    # fit CHASE\n",
    "    m = CHASEModel(drift='cpt',\n",
    "                   startdist='indifferent')\n",
    "    SIM_ID = 'sim1_recovery_CHASE_N=%s_theta=20_iter=%s' % (N, iteration)\n",
    "\n",
    "    fitting_CHASE = {'theta': [18, 22],\n",
    "                     'p_stay': [0, 1],\n",
    "                     'prelec_gamma': [0, 5, 1.],}\n",
    "\n",
    "    results = fit_mlh(m, problems_rare, ds, \n",
    "                      SIM_ID, {}, fitting_CHASE, niter=N_FIT_ITER, outdir=OUTDIR)\n",
    "    print results.sort('nllh')"
   ]
  },
  {
   "cell_type": "code",
   "execution_count": 578,
   "metadata": {
    "collapsed": false
   },
   "outputs": [
    {
     "data": {
      "image/png": "[encoded data removed]",
      "text/plain": [
       "<matplotlib.figure.Figure at 0x10f700290>"
      ]
     },
     "metadata": {},
     "output_type": "display_data"
    }
   ],
   "source": [
    "fig, ax = plt.subplots(2, 1, figsize=(4,3), sharex=True)\n",
    "axi = ax[0]\n",
    "sns.distplot(arr_th1, hist=False, rug=False, label=r'$\\theta=1$', ax=axi, color='black')\n",
    "sns.distplot(arr_th20, hist=False, rug=False, label=r'$\\theta=20$', ax=axi, color='gray')\n",
    "axi.set_xlabel(r'$\\gamma$')\n",
    "axi.set_ylabel('Density')\n",
    "axi.set_title('Simulation 1: Underweighting\\nwith low threshold')\n",
    "\n",
    "axi = ax[1]\n",
    "sns.distplot(fitdf['bf_gamma'].values)\n",
    "\n",
    "plt.tight_layout()\n",
    "plt.show()\n",
    "fig.savefig(FIGDEST+'sim1_cpt.pdf', bbox_inches='tight')"
   ]
  },
  {
   "cell_type": "markdown",
   "metadata": {},
   "source": [
    "# Different start point variability"
   ]
  },
  {
   "cell_type": "code",
   "execution_count": 546,
   "metadata": {
    "collapsed": false
   },
   "outputs": [
    {
     "data": {
      "text/plain": [
       "problem\n",
       "0    0.6877\n",
       "1    0.6800\n",
       "2    0.6909\n",
       "3    0.6959\n",
       "4    0.6889\n",
       "5    0.6855\n",
       "6    0.6870\n",
       "7    0.6891\n",
       "8    0.6855\n",
       "9    0.6766\n",
       "Name: choice, dtype: float64"
      ]
     },
     "execution_count": 546,
     "metadata": {},
     "output_type": "execute_result"
    }
   ],
   "source": [
    "problems = problems_rare\n",
    "theta = 20\n",
    "\n",
    "cols = ['subject', 'problem', 'group', 'choice', 'samplesize']\n",
    "pars = {'theta': theta,\n",
    "        'p_stay': 0.,\n",
    "        'N': 10000}\n",
    "\n",
    "# create the model with EV-based drift\n",
    "m = CHASEModel(drift='ev', startdist='uniform')\n",
    "\n",
    "arr = []\n",
    "for j in range(M):\n",
    "    traj = m.sample_trajectories(problems[j], pars)\n",
    "    for i, tr in enumerate(traj):\n",
    "        arr.append([i, j, 0, tr['choice'], tr['samplesize']])\n",
    "df = pd.DataFrame(arr, columns=cols)\n",
    "\n",
    "# this is the choice proportion across entire simulated \n",
    "# dataset, which is slightly in favor of the H option\n",
    "df.groupby('problem').agg(np.mean)['choice']"
   ]
  },
  {
   "cell_type": "code",
   "execution_count": 458,
   "metadata": {
    "collapsed": false
   },
   "outputs": [
    {
     "name": "stdout",
     "output_type": "stream",
     "text": [
      "cptfit_problems_rare(prelec_gamma|)\n"
     ]
    },
    {
     "data": {
      "text/html": [
       "<div style=\"max-height:1000px;max-width:1500px;overflow:auto;\">\n",
       "<table border=\"1\" class=\"dataframe\">\n",
       "  <thead>\n",
       "    <tr style=\"text-align: right;\">\n",
       "      <th></th>\n",
       "      <th>iteration</th>\n",
       "      <th>success</th>\n",
       "      <th>k</th>\n",
       "      <th>N</th>\n",
       "      <th>msd</th>\n",
       "      <th>prelec_gamma</th>\n",
       "    </tr>\n",
       "  </thead>\n",
       "  <tbody>\n",
       "    <tr>\n",
       "      <th>0</th>\n",
       "      <td>0</td>\n",
       "      <td>True</td>\n",
       "      <td>1</td>\n",
       "      <td>100000</td>\n",
       "      <td>0.000133</td>\n",
       "      <td>1.043262</td>\n",
       "    </tr>\n",
       "  </tbody>\n",
       "</table>\n",
       "</div>"
      ],
      "text/plain": [
       "   iteration success  k       N       msd  prelec_gamma\n",
       "0          0    True  1  100000  0.000133      1.043262"
      ]
     },
     "execution_count": 458,
     "metadata": {},
     "output_type": "execute_result"
    }
   ],
   "source": [
    "# can fit CPT to the choice proportion for this \n",
    "# single problem\n",
    "fitting = {'prelec_gamma': [0, 5, 1.],}\n",
    "cpt.fit_msd(problems_rare, df, 'cptfit_problems_rare', fixed={}, fitting=fitting)"
   ]
  },
  {
   "cell_type": "code",
   "execution_count": 459,
   "metadata": {
    "collapsed": false
   },
   "outputs": [
    {
     "name": "stdout",
     "output_type": "stream",
     "text": [
      "cptfit_problems_rare_0(prelec_gamma|)\n",
      "cptfit_problems_rare_1(prelec_gamma|)\n",
      "cptfit_problems_rare_2(prelec_gamma|)\n",
      "cptfit_problems_rare_3(prelec_gamma|)\n",
      "cptfit_problems_rare_4(prelec_gamma|)\n",
      "cptfit_problems_rare_5(prelec_gamma|)\n",
      "cptfit_problems_rare_6(prelec_gamma|)\n",
      "cptfit_problems_rare_7(prelec_gamma|)\n",
      "cptfit_problems_rare_8(prelec_gamma|)\n",
      "cptfit_problems_rare_9(prelec_gamma|)\n"
     ]
    }
   ],
   "source": [
    "# generate simulated datasets and fit CPT to get\n",
    "# distribution of gamma parameters\n",
    "N = 20\n",
    "arr_tau_low = []\n",
    "for iteration in range(10):\n",
    "    ds = df.groupby('problem').apply(lambda d: d.iloc[np.random.randint(d.shape[0], size=N)]).reset_index(0, drop=True)\n",
    "    r = cpt.fit_msd(problems_rare, ds, 'cptfit_problems_rare_%s' % iteration, fixed={}, fitting=fitting)\n",
    "    arr_tau_low.append(r['prelec_gamma'].values[0])"
   ]
  },
  {
   "cell_type": "code",
   "execution_count": 460,
   "metadata": {
    "collapsed": false
   },
   "outputs": [
    {
     "data": {
      "text/plain": [
       "problem\n",
       "0    0.6449\n",
       "1    0.6451\n",
       "2    0.5915\n",
       "3    0.6242\n",
       "4    0.5966\n",
       "5    0.5945\n",
       "6    0.6391\n",
       "7    0.6424\n",
       "8    0.6032\n",
       "9    0.6108\n",
       "Name: choice, dtype: float64"
      ]
     },
     "execution_count": 460,
     "metadata": {},
     "output_type": "execute_result"
    }
   ],
   "source": [
    "pars = {'theta': theta,\n",
    "        'p_stay': 0.,\n",
    "        'N': 10000}\n",
    "\n",
    "# create the model with EV-based drift\n",
    "m = CHASEModel(drift='ev', startdist='indifferent')\n",
    "\n",
    "arr = []\n",
    "for j in range(M):\n",
    "    traj = m.sample_trajectories(problems[j], pars)\n",
    "    for i, tr in enumerate(traj):\n",
    "        arr.append([i, j, 0, tr['choice'], tr['samplesize']])\n",
    "df = pd.DataFrame(arr, columns=cols)\n",
    "\n",
    "# this is the choice proportion across entire simulated \n",
    "# dataset, which is slightly in favor of the H option\n",
    "df.groupby('problem').agg(np.mean)['choice']"
   ]
  },
  {
   "cell_type": "code",
   "execution_count": 461,
   "metadata": {
    "collapsed": false
   },
   "outputs": [
    {
     "name": "stdout",
     "output_type": "stream",
     "text": [
      "cptfit_problems_rare_0(prelec_gamma|)\n",
      "cptfit_problems_rare_1(prelec_gamma|)\n",
      "cptfit_problems_rare_2(prelec_gamma|)\n",
      "cptfit_problems_rare_3(prelec_gamma|)\n",
      "cptfit_problems_rare_4(prelec_gamma|)\n",
      "cptfit_problems_rare_5(prelec_gamma|)\n",
      "cptfit_problems_rare_6(prelec_gamma|)\n",
      "cptfit_problems_rare_7(prelec_gamma|)\n",
      "cptfit_problems_rare_8(prelec_gamma|)\n",
      "cptfit_problems_rare_9(prelec_gamma|)\n"
     ]
    }
   ],
   "source": [
    "# generate simulated datasets and fit CPT to get\n",
    "# distribution of gamma parameters\n",
    "N = 20\n",
    "arr_tau_high = []\n",
    "for iteration in range(10):\n",
    "    ds = df.groupby('problem').apply(lambda d: d.iloc[np.random.randint(d.shape[0], size=N)]).reset_index(0, drop=True)\n",
    "    r = cpt.fit_msd(problems_rare, ds, 'cptfit_problems_rare_%s' % iteration, fixed={}, fitting=fitting)\n",
    "    arr_tau_high.append(r['prelec_gamma'].values[0])"
   ]
  },
  {
   "cell_type": "code",
   "execution_count": 462,
   "metadata": {
    "collapsed": false
   },
   "outputs": [
    {
     "data": {
      "image/png": "[encoded data removed]",
      "text/plain": [
       "<matplotlib.figure.Figure at 0x10ee28c90>"
      ]
     },
     "metadata": {},
     "output_type": "display_data"
    }
   ],
   "source": [
    "sns.distplot(arr_tau_low, hist=False, rug=False, label='low tau')\n",
    "sns.distplot(arr_tau_high, hist=False, rug=True, label='high tau')\n",
    "plt.show()"
   ]
  },
  {
   "cell_type": "markdown",
   "metadata": {},
   "source": [
    "### Generate with CHASE and fit with CPT\n",
    "\n",
    "Begin by generating a dataset using the CHASE model."
   ]
  },
  {
   "cell_type": "code",
   "execution_count": 330,
   "metadata": {
    "collapsed": true
   },
   "outputs": [],
   "source": [
    "options = options3"
   ]
  },
  {
   "cell_type": "code",
   "execution_count": 345,
   "metadata": {
    "collapsed": false
   },
   "outputs": [
    {
     "name": "stdout",
     "output_type": "stream",
     "text": [
      "0.5115\n"
     ]
    }
   ],
   "source": [
    "cols = ['subject', 'problem', 'group', 'choice', 'samplesize']\n",
    "pars = {'theta': 1,\n",
    "        'tau': 10.,\n",
    "        'p_stay': 0.,\n",
    "        'N': 10000}\n",
    "\n",
    "# create the model with EV-based drift\n",
    "m = CHASEModel(drift='ev', startdist='softmax')\n",
    "traj = m.sample_trajectories(options, pars)\n",
    "arr = [[i, 0, 0, tr['choice'], tr['samplesize']] for i, tr in enumerate(traj)]\n",
    "df = pd.DataFrame(arr, columns=cols)\n",
    "\n",
    "# this is the choice proportion across entire simulated \n",
    "# dataset, which is slightly in favor of the H option\n",
    "print df.choice.mean()"
   ]
  },
  {
   "cell_type": "code",
   "execution_count": 344,
   "metadata": {
    "collapsed": false
   },
   "outputs": [
    {
     "name": "stdout",
     "output_type": "stream",
     "text": [
      "cptfit_options3(prelec_gamma|)\n"
     ]
    },
    {
     "data": {
      "text/html": [
       "<div style=\"max-height:1000px;max-width:1500px;overflow:auto;\">\n",
       "<table border=\"1\" class=\"dataframe\">\n",
       "  <thead>\n",
       "    <tr style=\"text-align: right;\">\n",
       "      <th></th>\n",
       "      <th>iteration</th>\n",
       "      <th>success</th>\n",
       "      <th>k</th>\n",
       "      <th>N</th>\n",
       "      <th>msd</th>\n",
       "      <th>prelec_gamma</th>\n",
       "    </tr>\n",
       "  </thead>\n",
       "  <tbody>\n",
       "    <tr>\n",
       "      <th>0</th>\n",
       "      <td>0</td>\n",
       "      <td>True</td>\n",
       "      <td>1</td>\n",
       "      <td>10000</td>\n",
       "      <td>5.575120e-09</td>\n",
       "      <td>1.048047</td>\n",
       "    </tr>\n",
       "  </tbody>\n",
       "</table>\n",
       "</div>"
      ],
      "text/plain": [
       "   iteration success  k      N           msd  prelec_gamma\n",
       "0          0    True  1  10000  5.575120e-09      1.048047"
      ]
     },
     "execution_count": 344,
     "metadata": {},
     "output_type": "execute_result"
    }
   ],
   "source": [
    "# can fit CPT to the choice proportion for this \n",
    "# single problem\n",
    "fitting = {'prelec_gamma': [0, 5, 1.],}\n",
    "cpt.fit_msd([options], df, 'cptfit_options3', fixed={}, fitting=fitting)"
   ]
  },
  {
   "cell_type": "code",
   "execution_count": 311,
   "metadata": {
    "collapsed": false
   },
   "outputs": [
    {
     "name": "stdout",
     "output_type": "stream",
     "text": [
      "cptfit_options1_0(prelec_elevation,prelec_gamma,s|)\n",
      "cptfit_options1_1(prelec_elevation,prelec_gamma,s|)\n",
      "cptfit_options1_2(prelec_elevation,prelec_gamma,s|)\n",
      "cptfit_options1_3(prelec_elevation,prelec_gamma,s|)\n",
      "cptfit_options1_4(prelec_elevation,prelec_gamma,s|)\n",
      "cptfit_options1_5(prelec_elevation,prelec_gamma,s|)\n",
      "cptfit_options1_6(prelec_elevation,prelec_gamma,s|)\n",
      "cptfit_options1_7(prelec_elevation,prelec_gamma,s|)\n",
      "cptfit_options1_8(prelec_elevation,prelec_gamma,s|)\n",
      "cptfit_options1_9(prelec_elevation,prelec_gamma,s|)\n",
      "cptfit_options1_10(prelec_elevation,prelec_gamma,s|)\n",
      "cptfit_options1_11(prelec_elevation,prelec_gamma,s|)\n",
      "cptfit_options1_12(prelec_elevation,prelec_gamma,s|)\n",
      "cptfit_options1_13(prelec_elevation,prelec_gamma,s|)\n",
      "cptfit_options1_14(prelec_elevation,prelec_gamma,s|)\n",
      "cptfit_options1_15(prelec_elevation,prelec_gamma,s|)\n",
      "cptfit_options1_16(prelec_elevation,prelec_gamma,s|)\n",
      "cptfit_options1_17(prelec_elevation,prelec_gamma,s|)\n",
      "cptfit_options1_18(prelec_elevation,prelec_gamma,s|)\n",
      "cptfit_options1_19(prelec_elevation,prelec_gamma,s|)\n",
      "cptfit_options1_20(prelec_elevation,prelec_gamma,s|)\n",
      "cptfit_options1_21(prelec_elevation,prelec_gamma,s|)\n",
      "cptfit_options1_22(prelec_elevation,prelec_gamma,s|)\n",
      "cptfit_options1_23(prelec_elevation,prelec_gamma,s|)\n",
      "cptfit_options1_24(prelec_elevation,prelec_gamma,s|)\n",
      "cptfit_options1_25(prelec_elevation,prelec_gamma,s|)\n",
      "cptfit_options1_26(prelec_elevation,prelec_gamma,s|)\n",
      "cptfit_options1_27(prelec_elevation,prelec_gamma,s|)\n",
      "cptfit_options1_28(prelec_elevation,prelec_gamma,s|)\n",
      "cptfit_options1_29(prelec_elevation,prelec_gamma,s|)\n",
      "cptfit_options1_30(prelec_elevation,prelec_gamma,s|)\n",
      "cptfit_options1_31(prelec_elevation,prelec_gamma,s|)\n",
      "cptfit_options1_32(prelec_elevation,prelec_gamma,s|)\n",
      "cptfit_options1_33(prelec_elevation,prelec_gamma,s|)\n",
      "cptfit_options1_34(prelec_elevation,prelec_gamma,s|)\n",
      "cptfit_options1_35(prelec_elevation,prelec_gamma,s|)\n",
      "cptfit_options1_36(prelec_elevation,prelec_gamma,s|)\n",
      "cptfit_options1_37(prelec_elevation,prelec_gamma,s|)\n",
      "cptfit_options1_38(prelec_elevation,prelec_gamma,s|)\n",
      "cptfit_options1_39(prelec_elevation,prelec_gamma,s|)\n",
      "cptfit_options1_40(prelec_elevation,prelec_gamma,s|)\n",
      "cptfit_options1_41(prelec_elevation,prelec_gamma,s|)\n",
      "cptfit_options1_42(prelec_elevation,prelec_gamma,s|)\n",
      "cptfit_options1_43(prelec_elevation,prelec_gamma,s|)\n",
      "cptfit_options1_44(prelec_elevation,prelec_gamma,s|)\n",
      "cptfit_options1_45(prelec_elevation,prelec_gamma,s|)\n",
      "cptfit_options1_46(prelec_elevation,prelec_gamma,s|)\n",
      "cptfit_options1_47(prelec_elevation,prelec_gamma,s|)\n",
      "cptfit_options1_48(prelec_elevation,prelec_gamma,s|)\n",
      "cptfit_options1_49(prelec_elevation,prelec_gamma,s|)\n",
      "cptfit_options1_50(prelec_elevation,prelec_gamma,s|)\n",
      "cptfit_options1_51(prelec_elevation,prelec_gamma,s|)\n",
      "cptfit_options1_52(prelec_elevation,prelec_gamma,s|)\n",
      "cptfit_options1_53(prelec_elevation,prelec_gamma,s|)\n",
      "cptfit_options1_54(prelec_elevation,prelec_gamma,s|)\n",
      "cptfit_options1_55(prelec_elevation,prelec_gamma,s|)\n",
      "cptfit_options1_56(prelec_elevation,prelec_gamma,s|)\n",
      "cptfit_options1_57(prelec_elevation,prelec_gamma,s|)\n",
      "cptfit_options1_58(prelec_elevation,prelec_gamma,s|)\n",
      "cptfit_options1_59(prelec_elevation,prelec_gamma,s|)\n",
      "cptfit_options1_60(prelec_elevation,prelec_gamma,s|)\n",
      "cptfit_options1_61(prelec_elevation,prelec_gamma,s|)\n",
      "cptfit_options1_62(prelec_elevation,prelec_gamma,s|)\n",
      "cptfit_options1_63(prelec_elevation,prelec_gamma,s|)\n",
      "cptfit_options1_64(prelec_elevation,prelec_gamma,s|)\n",
      "cptfit_options1_65(prelec_elevation,prelec_gamma,s|)\n",
      "cptfit_options1_66(prelec_elevation,prelec_gamma,s|)\n",
      "cptfit_options1_67(prelec_elevation,prelec_gamma,s|)\n",
      "cptfit_options1_68(prelec_elevation,prelec_gamma,s|)\n",
      "cptfit_options1_69(prelec_elevation,prelec_gamma,s|)\n",
      "cptfit_options1_70(prelec_elevation,prelec_gamma,s|)\n",
      "cptfit_options1_71(prelec_elevation,prelec_gamma,s|)\n",
      "cptfit_options1_72(prelec_elevation,prelec_gamma,s|)\n",
      "cptfit_options1_73(prelec_elevation,prelec_gamma,s|)\n",
      "cptfit_options1_74(prelec_elevation,prelec_gamma,s|)\n",
      "cptfit_options1_75(prelec_elevation,prelec_gamma,s|)\n",
      "cptfit_options1_76(prelec_elevation,prelec_gamma,s|)\n",
      "cptfit_options1_77(prelec_elevation,prelec_gamma,s|)\n",
      "cptfit_options1_78(prelec_elevation,prelec_gamma,s|)\n",
      "cptfit_options1_79(prelec_elevation,prelec_gamma,s|)\n",
      "cptfit_options1_80(prelec_elevation,prelec_gamma,s|)\n",
      "cptfit_options1_81(prelec_elevation,prelec_gamma,s|)\n",
      "cptfit_options1_82(prelec_elevation,prelec_gamma,s|)\n",
      "cptfit_options1_83(prelec_elevation,prelec_gamma,s|)\n",
      "cptfit_options1_84(prelec_elevation,prelec_gamma,s|)\n",
      "cptfit_options1_85(prelec_elevation,prelec_gamma,s|)\n",
      "cptfit_options1_86(prelec_elevation,prelec_gamma,s|)\n",
      "cptfit_options1_87(prelec_elevation,prelec_gamma,s|)\n",
      "cptfit_options1_88(prelec_elevation,prelec_gamma,s|)\n",
      "cptfit_options1_89(prelec_elevation,prelec_gamma,s|)\n",
      "cptfit_options1_90(prelec_elevation,prelec_gamma,s|)\n",
      "cptfit_options1_91(prelec_elevation,prelec_gamma,s|)\n",
      "cptfit_options1_92(prelec_elevation,prelec_gamma,s|)\n",
      "cptfit_options1_93(prelec_elevation,prelec_gamma,s|)\n",
      "cptfit_options1_94(prelec_elevation,prelec_gamma,s|)\n",
      "cptfit_options1_95(prelec_elevation,prelec_gamma,s|)\n",
      "cptfit_options1_96(prelec_elevation,prelec_gamma,s|)\n",
      "cptfit_options1_97(prelec_elevation,prelec_gamma,s|)\n",
      "cptfit_options1_98(prelec_elevation,prelec_gamma,s|)\n",
      "cptfit_options1_99(prelec_elevation,prelec_gamma,s|)\n"
     ]
    }
   ],
   "source": [
    "N = 20\n",
    "arr_th1 = []\n",
    "for iteration in range(100):\n",
    "    ds = df.iloc[np.random.randint(df.shape[0], size=N)]\n",
    "\n",
    "    r = cpt.fit_msd([options3], ds, 'cptfit_options1_%s' % iteration, fixed={}, fitting=fitting)\n",
    "    arr_th1.append(r['prelec_gamma'].values[0])"
   ]
  },
  {
   "cell_type": "code",
   "execution_count": 254,
   "metadata": {
    "collapsed": false
   },
   "outputs": [
    {
     "name": "stdout",
     "output_type": "stream",
     "text": [
      "0.5975\n"
     ]
    }
   ],
   "source": [
    "cols = ['subject', 'problem', 'group', 'choice', 'samplesize']\n",
    "pars = {'theta': 10,\n",
    "        'p_stay': 0.,\n",
    "        'N': 10000}\n",
    "\n",
    "# create the model with EV-based drift\n",
    "m = CHASEModel(drift='ev', startdist='indifferent')\n",
    "traj = m.sample_trajectories(options, pars)\n",
    "arr = [[i, 0, 0, tr['choice'], tr['samplesize']] for i, tr in enumerate(traj)]\n",
    "df = pd.DataFrame(arr, columns=cols)\n",
    "\n",
    "# this is the choice proportion across entire simulated \n",
    "# dataset, which is slightly in favor of the H option\n",
    "print df.choice.mean()"
   ]
  },
  {
   "cell_type": "code",
   "execution_count": 255,
   "metadata": {
    "collapsed": false
   },
   "outputs": [
    {
     "name": "stdout",
     "output_type": "stream",
     "text": [
      "cptfit_options1_0(prelec_gamma|)\n",
      "cptfit_options1_1(prelec_gamma|)\n",
      "cptfit_options1_2(prelec_gamma|)\n",
      "cptfit_options1_3(prelec_gamma|)\n",
      "cptfit_options1_4(prelec_gamma|)\n",
      "cptfit_options1_5(prelec_gamma|)\n",
      "cptfit_options1_6(prelec_gamma|)\n",
      "cptfit_options1_7(prelec_gamma|)\n",
      "cptfit_options1_8(prelec_gamma|)\n",
      "cptfit_options1_9(prelec_gamma|)\n",
      "cptfit_options1_10(prelec_gamma|)\n",
      "cptfit_options1_11(prelec_gamma|)\n",
      "cptfit_options1_12(prelec_gamma|)\n",
      "cptfit_options1_13(prelec_gamma|)\n",
      "cptfit_options1_14(prelec_gamma|)\n",
      "cptfit_options1_15(prelec_gamma|)\n",
      "cptfit_options1_16(prelec_gamma|)\n",
      "cptfit_options1_17(prelec_gamma|)\n",
      "cptfit_options1_18(prelec_gamma|)\n",
      "cptfit_options1_19(prelec_gamma|)\n",
      "cptfit_options1_20(prelec_gamma|)\n",
      "cptfit_options1_21(prelec_gamma|)\n",
      "cptfit_options1_22(prelec_gamma|)\n",
      "cptfit_options1_23(prelec_gamma|)\n",
      "cptfit_options1_24(prelec_gamma|)\n",
      "cptfit_options1_25(prelec_gamma|)\n",
      "cptfit_options1_26(prelec_gamma|)\n",
      "cptfit_options1_27(prelec_gamma|)\n",
      "cptfit_options1_28(prelec_gamma|)\n",
      "cptfit_options1_29(prelec_gamma|)\n",
      "cptfit_options1_30(prelec_gamma|)\n",
      "cptfit_options1_31(prelec_gamma|)\n",
      "cptfit_options1_32(prelec_gamma|)\n",
      "cptfit_options1_33(prelec_gamma|)\n",
      "cptfit_options1_34(prelec_gamma|)\n",
      "cptfit_options1_35(prelec_gamma|)\n",
      "cptfit_options1_36(prelec_gamma|)\n",
      "cptfit_options1_37(prelec_gamma|)\n",
      "cptfit_options1_38(prelec_gamma|)\n",
      "cptfit_options1_39(prelec_gamma|)\n",
      "cptfit_options1_40(prelec_gamma|)\n",
      "cptfit_options1_41(prelec_gamma|)\n",
      "cptfit_options1_42(prelec_gamma|)\n",
      "cptfit_options1_43(prelec_gamma|)\n",
      "cptfit_options1_44(prelec_gamma|)\n",
      "cptfit_options1_45(prelec_gamma|)\n",
      "cptfit_options1_46(prelec_gamma|)\n",
      "cptfit_options1_47(prelec_gamma|)\n",
      "cptfit_options1_48(prelec_gamma|)\n",
      "cptfit_options1_49(prelec_gamma|)\n",
      "cptfit_options1_50(prelec_gamma|)\n",
      "cptfit_options1_51(prelec_gamma|)\n",
      "cptfit_options1_52(prelec_gamma|)\n",
      "cptfit_options1_53(prelec_gamma|)\n",
      "cptfit_options1_54(prelec_gamma|)\n",
      "cptfit_options1_55(prelec_gamma|)\n",
      "cptfit_options1_56(prelec_gamma|)\n",
      "cptfit_options1_57(prelec_gamma|)\n",
      "cptfit_options1_58(prelec_gamma|)\n",
      "cptfit_options1_59(prelec_gamma|)\n",
      "cptfit_options1_60(prelec_gamma|)\n",
      "cptfit_options1_61(prelec_gamma|)\n",
      "cptfit_options1_62(prelec_gamma|)\n",
      "cptfit_options1_63(prelec_gamma|)\n",
      "cptfit_options1_64(prelec_gamma|)\n",
      "cptfit_options1_65(prelec_gamma|)\n",
      "cptfit_options1_66(prelec_gamma|)\n",
      "cptfit_options1_67(prelec_gamma|)\n",
      "cptfit_options1_68(prelec_gamma|)\n",
      "cptfit_options1_69(prelec_gamma|)\n",
      "cptfit_options1_70(prelec_gamma|)\n",
      "cptfit_options1_71(prelec_gamma|)\n",
      "cptfit_options1_72(prelec_gamma|)\n",
      "cptfit_options1_73(prelec_gamma|)\n",
      "cptfit_options1_74(prelec_gamma|)\n",
      "cptfit_options1_75(prelec_gamma|)\n",
      "cptfit_options1_76(prelec_gamma|)\n",
      "cptfit_options1_77(prelec_gamma|)\n",
      "cptfit_options1_78(prelec_gamma|)\n",
      "cptfit_options1_79(prelec_gamma|)\n",
      "cptfit_options1_80(prelec_gamma|)\n",
      "cptfit_options1_81(prelec_gamma|)\n",
      "cptfit_options1_82(prelec_gamma|)\n",
      "cptfit_options1_83(prelec_gamma|)\n",
      "cptfit_options1_84(prelec_gamma|)\n",
      "cptfit_options1_85(prelec_gamma|)\n",
      "cptfit_options1_86(prelec_gamma|)\n",
      "cptfit_options1_87(prelec_gamma|)\n",
      "cptfit_options1_88(prelec_gamma|)\n",
      "cptfit_options1_89(prelec_gamma|)\n",
      "cptfit_options1_90(prelec_gamma|)\n",
      "cptfit_options1_91(prelec_gamma|)\n",
      "cptfit_options1_92(prelec_gamma|)\n",
      "cptfit_options1_93(prelec_gamma|)\n",
      "cptfit_options1_94(prelec_gamma|)\n",
      "cptfit_options1_95(prelec_gamma|)\n",
      "cptfit_options1_96(prelec_gamma|)\n",
      "cptfit_options1_97(prelec_gamma|)\n",
      "cptfit_options1_98(prelec_gamma|)\n",
      "cptfit_options1_99(prelec_gamma|)\n",
      "cptfit_options1_100(prelec_gamma|)\n",
      "cptfit_options1_101(prelec_gamma|)\n",
      "cptfit_options1_102(prelec_gamma|)\n",
      "cptfit_options1_103(prelec_gamma|)\n",
      "cptfit_options1_104(prelec_gamma|)\n",
      "cptfit_options1_105(prelec_gamma|)\n",
      "cptfit_options1_106(prelec_gamma|)\n",
      "cptfit_options1_107(prelec_gamma|)\n",
      "cptfit_options1_108(prelec_gamma|)\n",
      "cptfit_options1_109(prelec_gamma|)\n",
      "cptfit_options1_110(prelec_gamma|)\n",
      "cptfit_options1_111(prelec_gamma|)\n",
      "cptfit_options1_112(prelec_gamma|)\n",
      "cptfit_options1_113(prelec_gamma|)\n",
      "cptfit_options1_114(prelec_gamma|)\n",
      "cptfit_options1_115(prelec_gamma|)\n",
      "cptfit_options1_116(prelec_gamma|)\n",
      "cptfit_options1_117(prelec_gamma|)\n",
      "cptfit_options1_118(prelec_gamma|)\n",
      "cptfit_options1_119(prelec_gamma|)\n",
      "cptfit_options1_120(prelec_gamma|)\n",
      "cptfit_options1_121(prelec_gamma|)\n",
      "cptfit_options1_122(prelec_gamma|)\n",
      "cptfit_options1_123(prelec_gamma|)\n",
      "cptfit_options1_124(prelec_gamma|)\n",
      "cptfit_options1_125(prelec_gamma|)\n",
      "cptfit_options1_126(prelec_gamma|)\n",
      "cptfit_options1_127(prelec_gamma|)\n",
      "cptfit_options1_128(prelec_gamma|)\n",
      "cptfit_options1_129(prelec_gamma|)\n",
      "cptfit_options1_130(prelec_gamma|)\n",
      "cptfit_options1_131(prelec_gamma|)\n",
      "cptfit_options1_132(prelec_gamma|)\n",
      "cptfit_options1_133(prelec_gamma|)\n",
      "cptfit_options1_134(prelec_gamma|)\n",
      "cptfit_options1_135(prelec_gamma|)\n",
      "cptfit_options1_136(prelec_gamma|)\n",
      "cptfit_options1_137(prelec_gamma|)\n",
      "cptfit_options1_138(prelec_gamma|)\n",
      "cptfit_options1_139(prelec_gamma|)\n",
      "cptfit_options1_140(prelec_gamma|)\n",
      "cptfit_options1_141(prelec_gamma|)\n",
      "cptfit_options1_142(prelec_gamma|)\n",
      "cptfit_options1_143(prelec_gamma|)\n",
      "cptfit_options1_144(prelec_gamma|)\n",
      "cptfit_options1_145(prelec_gamma|)\n",
      "cptfit_options1_146(prelec_gamma|)\n",
      "cptfit_options1_147(prelec_gamma|)\n",
      "cptfit_options1_148(prelec_gamma|)\n",
      "cptfit_options1_149(prelec_gamma|)\n",
      "cptfit_options1_150(prelec_gamma|)\n",
      "cptfit_options1_151(prelec_gamma|)\n",
      "cptfit_options1_152(prelec_gamma|)\n",
      "cptfit_options1_153(prelec_gamma|)\n",
      "cptfit_options1_154(prelec_gamma|)\n",
      "cptfit_options1_155(prelec_gamma|)\n",
      "cptfit_options1_156(prelec_gamma|)\n",
      "cptfit_options1_157(prelec_gamma|)\n",
      "cptfit_options1_158(prelec_gamma|)\n",
      "cptfit_options1_159(prelec_gamma|)\n",
      "cptfit_options1_160(prelec_gamma|)\n",
      "cptfit_options1_161(prelec_gamma|)\n",
      "cptfit_options1_162(prelec_gamma|)\n",
      "cptfit_options1_163(prelec_gamma|)\n",
      "cptfit_options1_164(prelec_gamma|)\n",
      "cptfit_options1_165(prelec_gamma|)\n",
      "cptfit_options1_166(prelec_gamma|)\n",
      "cptfit_options1_167(prelec_gamma|)\n",
      "cptfit_options1_168(prelec_gamma|)\n",
      "cptfit_options1_169(prelec_gamma|)\n",
      "cptfit_options1_170(prelec_gamma|)\n",
      "cptfit_options1_171(prelec_gamma|)\n",
      "cptfit_options1_172(prelec_gamma|)\n",
      "cptfit_options1_173(prelec_gamma|)\n",
      "cptfit_options1_174(prelec_gamma|)\n",
      "cptfit_options1_175(prelec_gamma|)\n",
      "cptfit_options1_176(prelec_gamma|)\n",
      "cptfit_options1_177(prelec_gamma|)\n",
      "cptfit_options1_178(prelec_gamma|)\n",
      "cptfit_options1_179(prelec_gamma|)\n",
      "cptfit_options1_180(prelec_gamma|)\n",
      "cptfit_options1_181(prelec_gamma|)\n",
      "cptfit_options1_182(prelec_gamma|)\n",
      "cptfit_options1_183(prelec_gamma|)\n",
      "cptfit_options1_184(prelec_gamma|)\n",
      "cptfit_options1_185(prelec_gamma|)\n",
      "cptfit_options1_186(prelec_gamma|)\n",
      "cptfit_options1_187(prelec_gamma|)\n",
      "cptfit_options1_188(prelec_gamma|)\n",
      "cptfit_options1_189(prelec_gamma|)\n",
      "cptfit_options1_190(prelec_gamma|)\n",
      "cptfit_options1_191(prelec_gamma|)\n",
      "cptfit_options1_192(prelec_gamma|)\n",
      "cptfit_options1_193(prelec_gamma|)\n",
      "cptfit_options1_194(prelec_gamma|)\n",
      "cptfit_options1_195(prelec_gamma|)\n",
      "cptfit_options1_196(prelec_gamma|)\n",
      "cptfit_options1_197(prelec_gamma|)\n",
      "cptfit_options1_198(prelec_gamma|)\n",
      "cptfit_options1_199(prelec_gamma|)\n",
      "cptfit_options1_200(prelec_gamma|)\n",
      "cptfit_options1_201(prelec_gamma|)\n",
      "cptfit_options1_202(prelec_gamma|)\n",
      "cptfit_options1_203(prelec_gamma|)\n",
      "cptfit_options1_204(prelec_gamma|)\n",
      "cptfit_options1_205(prelec_gamma|)\n",
      "cptfit_options1_206(prelec_gamma|)\n",
      "cptfit_options1_207(prelec_gamma|)\n",
      "cptfit_options1_208(prelec_gamma|)\n",
      "cptfit_options1_209(prelec_gamma|)\n",
      "cptfit_options1_210(prelec_gamma|)\n",
      "cptfit_options1_211(prelec_gamma|)\n",
      "cptfit_options1_212(prelec_gamma|)\n",
      "cptfit_options1_213(prelec_gamma|)\n",
      "cptfit_options1_214(prelec_gamma|)\n",
      "cptfit_options1_215(prelec_gamma|)\n",
      "cptfit_options1_216(prelec_gamma|)\n",
      "cptfit_options1_217(prelec_gamma|)\n",
      "cptfit_options1_218(prelec_gamma|)\n",
      "cptfit_options1_219(prelec_gamma|)\n",
      "cptfit_options1_220(prelec_gamma|)\n",
      "cptfit_options1_221(prelec_gamma|)\n",
      "cptfit_options1_222(prelec_gamma|)\n",
      "cptfit_options1_223(prelec_gamma|)\n",
      "cptfit_options1_224(prelec_gamma|)\n",
      "cptfit_options1_225(prelec_gamma|)\n",
      "cptfit_options1_226(prelec_gamma|)\n",
      "cptfit_options1_227(prelec_gamma|)\n",
      "cptfit_options1_228(prelec_gamma|)\n",
      "cptfit_options1_229(prelec_gamma|)\n",
      "cptfit_options1_230(prelec_gamma|)\n",
      "cptfit_options1_231(prelec_gamma|)\n",
      "cptfit_options1_232(prelec_gamma|)\n",
      "cptfit_options1_233(prelec_gamma|)\n",
      "cptfit_options1_234(prelec_gamma|)\n",
      "cptfit_options1_235(prelec_gamma|)\n",
      "cptfit_options1_236(prelec_gamma|)\n",
      "cptfit_options1_237(prelec_gamma|)\n",
      "cptfit_options1_238(prelec_gamma|)\n",
      "cptfit_options1_239(prelec_gamma|)\n",
      "cptfit_options1_240(prelec_gamma|)\n",
      "cptfit_options1_241(prelec_gamma|)\n",
      "cptfit_options1_242(prelec_gamma|)\n",
      "cptfit_options1_243(prelec_gamma|)\n",
      "cptfit_options1_244(prelec_gamma|)\n",
      "cptfit_options1_245(prelec_gamma|)\n",
      "cptfit_options1_246(prelec_gamma|)\n",
      "cptfit_options1_247(prelec_gamma|)\n",
      "cptfit_options1_248(prelec_gamma|)\n",
      "cptfit_options1_249(prelec_gamma|)\n",
      "cptfit_options1_250(prelec_gamma|)\n",
      "cptfit_options1_251(prelec_gamma|)\n",
      "cptfit_options1_252(prelec_gamma|)\n",
      "cptfit_options1_253(prelec_gamma|)\n",
      "cptfit_options1_254(prelec_gamma|)\n",
      "cptfit_options1_255(prelec_gamma|)\n",
      "cptfit_options1_256(prelec_gamma|)\n",
      "cptfit_options1_257(prelec_gamma|)\n",
      "cptfit_options1_258(prelec_gamma|)\n",
      "cptfit_options1_259(prelec_gamma|)\n",
      "cptfit_options1_260(prelec_gamma|)\n",
      "cptfit_options1_261(prelec_gamma|)\n",
      "cptfit_options1_262(prelec_gamma|)\n",
      "cptfit_options1_263(prelec_gamma|)\n",
      "cptfit_options1_264(prelec_gamma|)\n",
      "cptfit_options1_265(prelec_gamma|)\n",
      "cptfit_options1_266(prelec_gamma|)\n",
      "cptfit_options1_267(prelec_gamma|)\n",
      "cptfit_options1_268(prelec_gamma|)\n",
      "cptfit_options1_269(prelec_gamma|)\n",
      "cptfit_options1_270(prelec_gamma|)\n",
      "cptfit_options1_271(prelec_gamma|)\n",
      "cptfit_options1_272(prelec_gamma|)\n",
      "cptfit_options1_273(prelec_gamma|)\n",
      "cptfit_options1_274(prelec_gamma|)\n",
      "cptfit_options1_275(prelec_gamma|)\n",
      "cptfit_options1_276(prelec_gamma|)\n",
      "cptfit_options1_277(prelec_gamma|)\n",
      "cptfit_options1_278(prelec_gamma|)\n",
      "cptfit_options1_279(prelec_gamma|)\n",
      "cptfit_options1_280(prelec_gamma|)\n",
      "cptfit_options1_281(prelec_gamma|)\n",
      "cptfit_options1_282(prelec_gamma|)\n",
      "cptfit_options1_283(prelec_gamma|)\n",
      "cptfit_options1_284(prelec_gamma|)\n",
      "cptfit_options1_285(prelec_gamma|)\n",
      "cptfit_options1_286(prelec_gamma|)\n",
      "cptfit_options1_287(prelec_gamma|)\n",
      "cptfit_options1_288(prelec_gamma|)\n",
      "cptfit_options1_289(prelec_gamma|)\n",
      "cptfit_options1_290(prelec_gamma|)\n",
      "cptfit_options1_291(prelec_gamma|)\n",
      "cptfit_options1_292(prelec_gamma|)\n",
      "cptfit_options1_293(prelec_gamma|)\n",
      "cptfit_options1_294(prelec_gamma|)\n",
      "cptfit_options1_295(prelec_gamma|)\n",
      "cptfit_options1_296(prelec_gamma|)\n",
      "cptfit_options1_297(prelec_gamma|)\n",
      "cptfit_options1_298(prelec_gamma|)\n",
      "cptfit_options1_299(prelec_gamma|)\n",
      "cptfit_options1_300(prelec_gamma|)\n",
      "cptfit_options1_301(prelec_gamma|)\n",
      "cptfit_options1_302(prelec_gamma|)\n",
      "cptfit_options1_303(prelec_gamma|)\n",
      "cptfit_options1_304(prelec_gamma|)\n",
      "cptfit_options1_305(prelec_gamma|)\n",
      "cptfit_options1_306(prelec_gamma|)\n",
      "cptfit_options1_307(prelec_gamma|)\n",
      "cptfit_options1_308(prelec_gamma|)\n",
      "cptfit_options1_309(prelec_gamma|)\n",
      "cptfit_options1_310(prelec_gamma|)\n",
      "cptfit_options1_311(prelec_gamma|)\n",
      "cptfit_options1_312(prelec_gamma|)\n",
      "cptfit_options1_313(prelec_gamma|)\n",
      "cptfit_options1_314(prelec_gamma|)\n",
      "cptfit_options1_315(prelec_gamma|)\n",
      "cptfit_options1_316(prelec_gamma|)\n",
      "cptfit_options1_317(prelec_gamma|)\n",
      "cptfit_options1_318(prelec_gamma|)\n",
      "cptfit_options1_319(prelec_gamma|)\n",
      "cptfit_options1_320(prelec_gamma|)\n",
      "cptfit_options1_321(prelec_gamma|)\n",
      "cptfit_options1_322(prelec_gamma|)\n",
      "cptfit_options1_323(prelec_gamma|)\n",
      "cptfit_options1_324(prelec_gamma|)\n",
      "cptfit_options1_325(prelec_gamma|)\n",
      "cptfit_options1_326(prelec_gamma|)\n",
      "cptfit_options1_327(prelec_gamma|)\n",
      "cptfit_options1_328(prelec_gamma|)\n",
      "cptfit_options1_329(prelec_gamma|)\n",
      "cptfit_options1_330(prelec_gamma|)\n",
      "cptfit_options1_331(prelec_gamma|)\n",
      "cptfit_options1_332(prelec_gamma|)\n",
      "cptfit_options1_333(prelec_gamma|)\n",
      "cptfit_options1_334(prelec_gamma|)\n",
      "cptfit_options1_335(prelec_gamma|)\n",
      "cptfit_options1_336(prelec_gamma|)\n",
      "cptfit_options1_337(prelec_gamma|)\n",
      "cptfit_options1_338(prelec_gamma|)\n",
      "cptfit_options1_339(prelec_gamma|)\n",
      "cptfit_options1_340(prelec_gamma|)\n",
      "cptfit_options1_341(prelec_gamma|)\n",
      "cptfit_options1_342(prelec_gamma|)\n",
      "cptfit_options1_343(prelec_gamma|)\n",
      "cptfit_options1_344(prelec_gamma|)\n",
      "cptfit_options1_345(prelec_gamma|)\n",
      "cptfit_options1_346(prelec_gamma|)\n",
      "cptfit_options1_347(prelec_gamma|)\n",
      "cptfit_options1_348(prelec_gamma|)\n",
      "cptfit_options1_349(prelec_gamma|)\n",
      "cptfit_options1_350(prelec_gamma|)\n",
      "cptfit_options1_351(prelec_gamma|)\n",
      "cptfit_options1_352(prelec_gamma|)\n",
      "cptfit_options1_353(prelec_gamma|)\n",
      "cptfit_options1_354(prelec_gamma|)\n",
      "cptfit_options1_355(prelec_gamma|)\n",
      "cptfit_options1_356(prelec_gamma|)\n",
      "cptfit_options1_357(prelec_gamma|)\n",
      "cptfit_options1_358(prelec_gamma|)\n",
      "cptfit_options1_359(prelec_gamma|)\n",
      "cptfit_options1_360(prelec_gamma|)\n",
      "cptfit_options1_361(prelec_gamma|)\n",
      "cptfit_options1_362(prelec_gamma|)\n",
      "cptfit_options1_363(prelec_gamma|)\n",
      "cptfit_options1_364(prelec_gamma|)\n",
      "cptfit_options1_365(prelec_gamma|)\n",
      "cptfit_options1_366(prelec_gamma|)\n",
      "cptfit_options1_367(prelec_gamma|)\n",
      "cptfit_options1_368(prelec_gamma|)\n",
      "cptfit_options1_369(prelec_gamma|)\n",
      "cptfit_options1_370(prelec_gamma|)\n",
      "cptfit_options1_371(prelec_gamma|)\n",
      "cptfit_options1_372(prelec_gamma|)\n",
      "cptfit_options1_373(prelec_gamma|)\n",
      "cptfit_options1_374(prelec_gamma|)\n",
      "cptfit_options1_375(prelec_gamma|)\n",
      "cptfit_options1_376(prelec_gamma|)\n",
      "cptfit_options1_377(prelec_gamma|)\n",
      "cptfit_options1_378(prelec_gamma|)\n",
      "cptfit_options1_379(prelec_gamma|)\n",
      "cptfit_options1_380(prelec_gamma|)\n",
      "cptfit_options1_381(prelec_gamma|)\n",
      "cptfit_options1_382(prelec_gamma|)\n",
      "cptfit_options1_383(prelec_gamma|)\n",
      "cptfit_options1_384(prelec_gamma|)\n",
      "cptfit_options1_385(prelec_gamma|)\n",
      "cptfit_options1_386(prelec_gamma|)\n",
      "cptfit_options1_387(prelec_gamma|)\n",
      "cptfit_options1_388(prelec_gamma|)\n",
      "cptfit_options1_389(prelec_gamma|)\n",
      "cptfit_options1_390(prelec_gamma|)\n",
      "cptfit_options1_391(prelec_gamma|)\n",
      "cptfit_options1_392(prelec_gamma|)\n",
      "cptfit_options1_393(prelec_gamma|)\n",
      "cptfit_options1_394(prelec_gamma|)\n",
      "cptfit_options1_395(prelec_gamma|)\n",
      "cptfit_options1_396(prelec_gamma|)\n",
      "cptfit_options1_397(prelec_gamma|)\n",
      "cptfit_options1_398(prelec_gamma|)\n",
      "cptfit_options1_399(prelec_gamma|)\n",
      "cptfit_options1_400(prelec_gamma|)\n",
      "cptfit_options1_401(prelec_gamma|)\n",
      "cptfit_options1_402(prelec_gamma|)\n",
      "cptfit_options1_403(prelec_gamma|)\n",
      "cptfit_options1_404(prelec_gamma|)\n",
      "cptfit_options1_405(prelec_gamma|)\n",
      "cptfit_options1_406(prelec_gamma|)\n",
      "cptfit_options1_407(prelec_gamma|)\n",
      "cptfit_options1_408(prelec_gamma|)\n",
      "cptfit_options1_409(prelec_gamma|)\n",
      "cptfit_options1_410(prelec_gamma|)\n",
      "cptfit_options1_411(prelec_gamma|)\n",
      "cptfit_options1_412(prelec_gamma|)\n",
      "cptfit_options1_413(prelec_gamma|)\n",
      "cptfit_options1_414(prelec_gamma|)\n",
      "cptfit_options1_415(prelec_gamma|)\n",
      "cptfit_options1_416(prelec_gamma|)\n",
      "cptfit_options1_417(prelec_gamma|)\n",
      "cptfit_options1_418(prelec_gamma|)\n",
      "cptfit_options1_419(prelec_gamma|)\n",
      "cptfit_options1_420(prelec_gamma|)\n",
      "cptfit_options1_421(prelec_gamma|)\n",
      "cptfit_options1_422(prelec_gamma|)\n",
      "cptfit_options1_423(prelec_gamma|)\n",
      "cptfit_options1_424(prelec_gamma|)\n",
      "cptfit_options1_425(prelec_gamma|)\n",
      "cptfit_options1_426(prelec_gamma|)\n",
      "cptfit_options1_427(prelec_gamma|)\n",
      "cptfit_options1_428(prelec_gamma|)\n",
      "cptfit_options1_429(prelec_gamma|)\n",
      "cptfit_options1_430(prelec_gamma|)\n",
      "cptfit_options1_431(prelec_gamma|)\n",
      "cptfit_options1_432(prelec_gamma|)\n",
      "cptfit_options1_433(prelec_gamma|)\n",
      "cptfit_options1_434(prelec_gamma|)\n",
      "cptfit_options1_435(prelec_gamma|)\n",
      "cptfit_options1_436(prelec_gamma|)\n",
      "cptfit_options1_437(prelec_gamma|)\n",
      "cptfit_options1_438(prelec_gamma|)\n",
      "cptfit_options1_439(prelec_gamma|)\n",
      "cptfit_options1_440(prelec_gamma|)\n",
      "cptfit_options1_441(prelec_gamma|)\n",
      "cptfit_options1_442(prelec_gamma|)\n",
      "cptfit_options1_443(prelec_gamma|)\n",
      "cptfit_options1_444(prelec_gamma|)\n",
      "cptfit_options1_445(prelec_gamma|)\n",
      "cptfit_options1_446(prelec_gamma|)\n",
      "cptfit_options1_447(prelec_gamma|)\n",
      "cptfit_options1_448(prelec_gamma|)\n",
      "cptfit_options1_449(prelec_gamma|)\n",
      "cptfit_options1_450(prelec_gamma|)\n",
      "cptfit_options1_451(prelec_gamma|)\n",
      "cptfit_options1_452(prelec_gamma|)\n",
      "cptfit_options1_453(prelec_gamma|)\n",
      "cptfit_options1_454(prelec_gamma|)\n",
      "cptfit_options1_455(prelec_gamma|)\n",
      "cptfit_options1_456(prelec_gamma|)\n",
      "cptfit_options1_457(prelec_gamma|)\n",
      "cptfit_options1_458(prelec_gamma|)\n",
      "cptfit_options1_459(prelec_gamma|)\n",
      "cptfit_options1_460(prelec_gamma|)\n",
      "cptfit_options1_461(prelec_gamma|)\n",
      "cptfit_options1_462(prelec_gamma|)\n",
      "cptfit_options1_463(prelec_gamma|)\n",
      "cptfit_options1_464(prelec_gamma|)\n",
      "cptfit_options1_465(prelec_gamma|)\n",
      "cptfit_options1_466(prelec_gamma|)\n",
      "cptfit_options1_467(prelec_gamma|)\n",
      "cptfit_options1_468(prelec_gamma|)\n",
      "cptfit_options1_469(prelec_gamma|)\n",
      "cptfit_options1_470(prelec_gamma|)\n",
      "cptfit_options1_471(prelec_gamma|)\n",
      "cptfit_options1_472(prelec_gamma|)\n",
      "cptfit_options1_473(prelec_gamma|)\n",
      "cptfit_options1_474(prelec_gamma|)\n",
      "cptfit_options1_475(prelec_gamma|)\n",
      "cptfit_options1_476(prelec_gamma|)\n",
      "cptfit_options1_477(prelec_gamma|)\n",
      "cptfit_options1_478(prelec_gamma|)\n",
      "cptfit_options1_479(prelec_gamma|)\n",
      "cptfit_options1_480(prelec_gamma|)\n",
      "cptfit_options1_481(prelec_gamma|)\n",
      "cptfit_options1_482(prelec_gamma|)\n",
      "cptfit_options1_483(prelec_gamma|)\n",
      "cptfit_options1_484(prelec_gamma|)\n",
      "cptfit_options1_485(prelec_gamma|)\n",
      "cptfit_options1_486(prelec_gamma|)\n",
      "cptfit_options1_487(prelec_gamma|)\n",
      "cptfit_options1_488(prelec_gamma|)\n",
      "cptfit_options1_489(prelec_gamma|)\n",
      "cptfit_options1_490(prelec_gamma|)\n",
      "cptfit_options1_491(prelec_gamma|)\n",
      "cptfit_options1_492(prelec_gamma|)\n",
      "cptfit_options1_493(prelec_gamma|)\n",
      "cptfit_options1_494(prelec_gamma|)\n",
      "cptfit_options1_495(prelec_gamma|)\n",
      "cptfit_options1_496(prelec_gamma|)\n",
      "cptfit_options1_497(prelec_gamma|)\n",
      "cptfit_options1_498(prelec_gamma|)\n",
      "cptfit_options1_499(prelec_gamma|)\n",
      "cptfit_options1_500(prelec_gamma|)\n",
      "cptfit_options1_501(prelec_gamma|)\n",
      "cptfit_options1_502(prelec_gamma|)\n",
      "cptfit_options1_503(prelec_gamma|)\n",
      "cptfit_options1_504(prelec_gamma|)\n",
      "cptfit_options1_505(prelec_gamma|)\n",
      "cptfit_options1_506(prelec_gamma|)\n",
      "cptfit_options1_507(prelec_gamma|)\n",
      "cptfit_options1_508(prelec_gamma|)\n",
      "cptfit_options1_509(prelec_gamma|)\n",
      "cptfit_options1_510(prelec_gamma|)\n",
      "cptfit_options1_511(prelec_gamma|)\n",
      "cptfit_options1_512(prelec_gamma|)\n",
      "cptfit_options1_513(prelec_gamma|)\n",
      "cptfit_options1_514(prelec_gamma|)\n",
      "cptfit_options1_515(prelec_gamma|)\n",
      "cptfit_options1_516(prelec_gamma|)\n",
      "cptfit_options1_517(prelec_gamma|)\n",
      "cptfit_options1_518(prelec_gamma|)\n",
      "cptfit_options1_519(prelec_gamma|)\n",
      "cptfit_options1_520(prelec_gamma|)\n",
      "cptfit_options1_521(prelec_gamma|)\n",
      "cptfit_options1_522(prelec_gamma|)\n",
      "cptfit_options1_523(prelec_gamma|)\n",
      "cptfit_options1_524(prelec_gamma|)\n",
      "cptfit_options1_525(prelec_gamma|)\n",
      "cptfit_options1_526(prelec_gamma|)\n",
      "cptfit_options1_527(prelec_gamma|)\n",
      "cptfit_options1_528(prelec_gamma|)\n",
      "cptfit_options1_529(prelec_gamma|)\n",
      "cptfit_options1_530(prelec_gamma|)\n",
      "cptfit_options1_531(prelec_gamma|)\n",
      "cptfit_options1_532(prelec_gamma|)\n",
      "cptfit_options1_533(prelec_gamma|)\n",
      "cptfit_options1_534(prelec_gamma|)\n",
      "cptfit_options1_535(prelec_gamma|)\n",
      "cptfit_options1_536(prelec_gamma|)\n",
      "cptfit_options1_537(prelec_gamma|)\n",
      "cptfit_options1_538(prelec_gamma|)\n",
      "cptfit_options1_539(prelec_gamma|)\n",
      "cptfit_options1_540(prelec_gamma|)\n",
      "cptfit_options1_541(prelec_gamma|)\n",
      "cptfit_options1_542(prelec_gamma|)\n",
      "cptfit_options1_543(prelec_gamma|)\n",
      "cptfit_options1_544(prelec_gamma|)\n",
      "cptfit_options1_545(prelec_gamma|)\n",
      "cptfit_options1_546(prelec_gamma|)\n",
      "cptfit_options1_547(prelec_gamma|)\n",
      "cptfit_options1_548(prelec_gamma|)\n",
      "cptfit_options1_549(prelec_gamma|)\n",
      "cptfit_options1_550(prelec_gamma|)\n",
      "cptfit_options1_551(prelec_gamma|)\n",
      "cptfit_options1_552(prelec_gamma|)\n",
      "cptfit_options1_553(prelec_gamma|)\n",
      "cptfit_options1_554(prelec_gamma|)\n",
      "cptfit_options1_555(prelec_gamma|)\n",
      "cptfit_options1_556(prelec_gamma|)\n",
      "cptfit_options1_557(prelec_gamma|)\n",
      "cptfit_options1_558(prelec_gamma|)\n",
      "cptfit_options1_559(prelec_gamma|)\n",
      "cptfit_options1_560(prelec_gamma|)\n",
      "cptfit_options1_561(prelec_gamma|)\n",
      "cptfit_options1_562(prelec_gamma|)\n",
      "cptfit_options1_563(prelec_gamma|)\n",
      "cptfit_options1_564(prelec_gamma|)\n",
      "cptfit_options1_565(prelec_gamma|)\n",
      "cptfit_options1_566(prelec_gamma|)\n",
      "cptfit_options1_567(prelec_gamma|)\n",
      "cptfit_options1_568(prelec_gamma|)\n",
      "cptfit_options1_569(prelec_gamma|)\n",
      "cptfit_options1_570(prelec_gamma|)\n",
      "cptfit_options1_571(prelec_gamma|)\n",
      "cptfit_options1_572(prelec_gamma|)\n",
      "cptfit_options1_573(prelec_gamma|)\n",
      "cptfit_options1_574(prelec_gamma|)\n",
      "cptfit_options1_575(prelec_gamma|)\n",
      "cptfit_options1_576(prelec_gamma|)\n",
      "cptfit_options1_577(prelec_gamma|)\n",
      "cptfit_options1_578(prelec_gamma|)\n",
      "cptfit_options1_579(prelec_gamma|)\n",
      "cptfit_options1_580(prelec_gamma|)\n",
      "cptfit_options1_581(prelec_gamma|)\n",
      "cptfit_options1_582(prelec_gamma|)\n",
      "cptfit_options1_583(prelec_gamma|)\n",
      "cptfit_options1_584(prelec_gamma|)\n",
      "cptfit_options1_585(prelec_gamma|)\n",
      "cptfit_options1_586(prelec_gamma|)\n",
      "cptfit_options1_587(prelec_gamma|)\n",
      "cptfit_options1_588(prelec_gamma|)\n",
      "cptfit_options1_589(prelec_gamma|)\n",
      "cptfit_options1_590(prelec_gamma|)\n",
      "cptfit_options1_591(prelec_gamma|)\n",
      "cptfit_options1_592(prelec_gamma|)\n",
      "cptfit_options1_593(prelec_gamma|)\n",
      "cptfit_options1_594(prelec_gamma|)\n",
      "cptfit_options1_595(prelec_gamma|)\n",
      "cptfit_options1_596(prelec_gamma|)\n",
      "cptfit_options1_597(prelec_gamma|)\n",
      "cptfit_options1_598(prelec_gamma|)\n",
      "cptfit_options1_599(prelec_gamma|)\n",
      "cptfit_options1_600(prelec_gamma|)\n",
      "cptfit_options1_601(prelec_gamma|)\n",
      "cptfit_options1_602(prelec_gamma|)\n",
      "cptfit_options1_603(prelec_gamma|)\n",
      "cptfit_options1_604(prelec_gamma|)\n",
      "cptfit_options1_605(prelec_gamma|)\n",
      "cptfit_options1_606(prelec_gamma|)\n",
      "cptfit_options1_607(prelec_gamma|)\n",
      "cptfit_options1_608(prelec_gamma|)\n",
      "cptfit_options1_609(prelec_gamma|)\n",
      "cptfit_options1_610(prelec_gamma|)\n",
      "cptfit_options1_611(prelec_gamma|)\n",
      "cptfit_options1_612(prelec_gamma|)\n",
      "cptfit_options1_613(prelec_gamma|)\n",
      "cptfit_options1_614(prelec_gamma|)\n",
      "cptfit_options1_615(prelec_gamma|)\n",
      "cptfit_options1_616(prelec_gamma|)\n",
      "cptfit_options1_617(prelec_gamma|)\n",
      "cptfit_options1_618(prelec_gamma|)\n",
      "cptfit_options1_619(prelec_gamma|)\n",
      "cptfit_options1_620(prelec_gamma|)\n",
      "cptfit_options1_621(prelec_gamma|)\n",
      "cptfit_options1_622(prelec_gamma|)\n",
      "cptfit_options1_623(prelec_gamma|)\n",
      "cptfit_options1_624(prelec_gamma|)\n",
      "cptfit_options1_625(prelec_gamma|)\n",
      "cptfit_options1_626(prelec_gamma|)\n",
      "cptfit_options1_627(prelec_gamma|)\n",
      "cptfit_options1_628(prelec_gamma|)\n",
      "cptfit_options1_629(prelec_gamma|)\n",
      "cptfit_options1_630(prelec_gamma|)\n",
      "cptfit_options1_631(prelec_gamma|)\n",
      "cptfit_options1_632(prelec_gamma|)\n",
      "cptfit_options1_633(prelec_gamma|)\n",
      "cptfit_options1_634(prelec_gamma|)\n",
      "cptfit_options1_635(prelec_gamma|)\n",
      "cptfit_options1_636(prelec_gamma|)\n",
      "cptfit_options1_637(prelec_gamma|)\n",
      "cptfit_options1_638(prelec_gamma|)\n",
      "cptfit_options1_639(prelec_gamma|)\n",
      "cptfit_options1_640(prelec_gamma|)\n",
      "cptfit_options1_641(prelec_gamma|)\n",
      "cptfit_options1_642(prelec_gamma|)\n",
      "cptfit_options1_643(prelec_gamma|)\n",
      "cptfit_options1_644(prelec_gamma|)\n",
      "cptfit_options1_645(prelec_gamma|)\n",
      "cptfit_options1_646(prelec_gamma|)\n",
      "cptfit_options1_647(prelec_gamma|)\n",
      "cptfit_options1_648(prelec_gamma|)\n",
      "cptfit_options1_649(prelec_gamma|)\n",
      "cptfit_options1_650(prelec_gamma|)\n",
      "cptfit_options1_651(prelec_gamma|)\n",
      "cptfit_options1_652(prelec_gamma|)\n",
      "cptfit_options1_653(prelec_gamma|)\n",
      "cptfit_options1_654(prelec_gamma|)\n",
      "cptfit_options1_655(prelec_gamma|)\n",
      "cptfit_options1_656(prelec_gamma|)\n",
      "cptfit_options1_657(prelec_gamma|)\n",
      "cptfit_options1_658(prelec_gamma|)\n",
      "cptfit_options1_659(prelec_gamma|)\n",
      "cptfit_options1_660(prelec_gamma|)\n",
      "cptfit_options1_661(prelec_gamma|)\n",
      "cptfit_options1_662(prelec_gamma|)\n",
      "cptfit_options1_663(prelec_gamma|)\n",
      "cptfit_options1_664(prelec_gamma|)\n",
      "cptfit_options1_665(prelec_gamma|)\n",
      "cptfit_options1_666(prelec_gamma|)\n",
      "cptfit_options1_667(prelec_gamma|)\n",
      "cptfit_options1_668(prelec_gamma|)\n",
      "cptfit_options1_669(prelec_gamma|)\n",
      "cptfit_options1_670(prelec_gamma|)\n",
      "cptfit_options1_671(prelec_gamma|)\n",
      "cptfit_options1_672(prelec_gamma|)\n",
      "cptfit_options1_673(prelec_gamma|)\n",
      "cptfit_options1_674(prelec_gamma|)\n",
      "cptfit_options1_675(prelec_gamma|)\n",
      "cptfit_options1_676(prelec_gamma|)\n",
      "cptfit_options1_677(prelec_gamma|)\n",
      "cptfit_options1_678(prelec_gamma|)\n",
      "cptfit_options1_679(prelec_gamma|)\n",
      "cptfit_options1_680(prelec_gamma|)\n",
      "cptfit_options1_681(prelec_gamma|)\n",
      "cptfit_options1_682(prelec_gamma|)\n",
      "cptfit_options1_683(prelec_gamma|)\n",
      "cptfit_options1_684(prelec_gamma|)\n",
      "cptfit_options1_685(prelec_gamma|)\n",
      "cptfit_options1_686(prelec_gamma|)\n",
      "cptfit_options1_687(prelec_gamma|)\n",
      "cptfit_options1_688(prelec_gamma|)\n",
      "cptfit_options1_689(prelec_gamma|)\n",
      "cptfit_options1_690(prelec_gamma|)\n",
      "cptfit_options1_691(prelec_gamma|)\n",
      "cptfit_options1_692(prelec_gamma|)\n",
      "cptfit_options1_693(prelec_gamma|)\n",
      "cptfit_options1_694(prelec_gamma|)\n",
      "cptfit_options1_695(prelec_gamma|)\n",
      "cptfit_options1_696(prelec_gamma|)\n",
      "cptfit_options1_697(prelec_gamma|)\n",
      "cptfit_options1_698(prelec_gamma|)\n",
      "cptfit_options1_699(prelec_gamma|)\n",
      "cptfit_options1_700(prelec_gamma|)\n",
      "cptfit_options1_701(prelec_gamma|)\n",
      "cptfit_options1_702(prelec_gamma|)\n",
      "cptfit_options1_703(prelec_gamma|)\n",
      "cptfit_options1_704(prelec_gamma|)\n",
      "cptfit_options1_705(prelec_gamma|)\n",
      "cptfit_options1_706(prelec_gamma|)\n",
      "cptfit_options1_707(prelec_gamma|)\n",
      "cptfit_options1_708(prelec_gamma|)\n",
      "cptfit_options1_709(prelec_gamma|)\n",
      "cptfit_options1_710(prelec_gamma|)\n",
      "cptfit_options1_711(prelec_gamma|)\n",
      "cptfit_options1_712(prelec_gamma|)\n",
      "cptfit_options1_713(prelec_gamma|)\n",
      "cptfit_options1_714(prelec_gamma|)\n",
      "cptfit_options1_715(prelec_gamma|)\n",
      "cptfit_options1_716(prelec_gamma|)\n",
      "cptfit_options1_717(prelec_gamma|)\n",
      "cptfit_options1_718(prelec_gamma|)\n",
      "cptfit_options1_719(prelec_gamma|)\n",
      "cptfit_options1_720(prelec_gamma|)\n",
      "cptfit_options1_721(prelec_gamma|)\n",
      "cptfit_options1_722(prelec_gamma|)\n",
      "cptfit_options1_723(prelec_gamma|)\n",
      "cptfit_options1_724(prelec_gamma|)\n",
      "cptfit_options1_725(prelec_gamma|)\n",
      "cptfit_options1_726(prelec_gamma|)\n",
      "cptfit_options1_727(prelec_gamma|)\n",
      "cptfit_options1_728(prelec_gamma|)\n",
      "cptfit_options1_729(prelec_gamma|)\n",
      "cptfit_options1_730(prelec_gamma|)\n",
      "cptfit_options1_731(prelec_gamma|)\n",
      "cptfit_options1_732(prelec_gamma|)\n",
      "cptfit_options1_733(prelec_gamma|)\n",
      "cptfit_options1_734(prelec_gamma|)\n",
      "cptfit_options1_735(prelec_gamma|)\n",
      "cptfit_options1_736(prelec_gamma|)\n",
      "cptfit_options1_737(prelec_gamma|)\n",
      "cptfit_options1_738(prelec_gamma|)\n",
      "cptfit_options1_739(prelec_gamma|)\n",
      "cptfit_options1_740(prelec_gamma|)\n",
      "cptfit_options1_741(prelec_gamma|)\n",
      "cptfit_options1_742(prelec_gamma|)\n",
      "cptfit_options1_743(prelec_gamma|)\n",
      "cptfit_options1_744(prelec_gamma|)\n",
      "cptfit_options1_745(prelec_gamma|)\n",
      "cptfit_options1_746(prelec_gamma|)\n",
      "cptfit_options1_747(prelec_gamma|)\n",
      "cptfit_options1_748(prelec_gamma|)\n",
      "cptfit_options1_749(prelec_gamma|)\n",
      "cptfit_options1_750(prelec_gamma|)\n",
      "cptfit_options1_751(prelec_gamma|)\n",
      "cptfit_options1_752(prelec_gamma|)\n",
      "cptfit_options1_753(prelec_gamma|)\n",
      "cptfit_options1_754(prelec_gamma|)\n",
      "cptfit_options1_755(prelec_gamma|)\n",
      "cptfit_options1_756(prelec_gamma|)\n",
      "cptfit_options1_757(prelec_gamma|)\n",
      "cptfit_options1_758(prelec_gamma|)\n",
      "cptfit_options1_759(prelec_gamma|)\n",
      "cptfit_options1_760(prelec_gamma|)\n",
      "cptfit_options1_761(prelec_gamma|)\n",
      "cptfit_options1_762(prelec_gamma|)\n",
      "cptfit_options1_763(prelec_gamma|)\n",
      "cptfit_options1_764(prelec_gamma|)\n",
      "cptfit_options1_765(prelec_gamma|)\n",
      "cptfit_options1_766(prelec_gamma|)\n",
      "cptfit_options1_767(prelec_gamma|)\n",
      "cptfit_options1_768(prelec_gamma|)\n",
      "cptfit_options1_769(prelec_gamma|)\n",
      "cptfit_options1_770(prelec_gamma|)\n",
      "cptfit_options1_771(prelec_gamma|)\n",
      "cptfit_options1_772(prelec_gamma|)\n",
      "cptfit_options1_773(prelec_gamma|)\n",
      "cptfit_options1_774(prelec_gamma|)\n",
      "cptfit_options1_775(prelec_gamma|)\n",
      "cptfit_options1_776(prelec_gamma|)\n",
      "cptfit_options1_777(prelec_gamma|)\n",
      "cptfit_options1_778(prelec_gamma|)\n",
      "cptfit_options1_779(prelec_gamma|)\n",
      "cptfit_options1_780(prelec_gamma|)\n",
      "cptfit_options1_781(prelec_gamma|)\n",
      "cptfit_options1_782(prelec_gamma|)\n",
      "cptfit_options1_783(prelec_gamma|)\n",
      "cptfit_options1_784(prelec_gamma|)\n",
      "cptfit_options1_785(prelec_gamma|)\n",
      "cptfit_options1_786(prelec_gamma|)\n",
      "cptfit_options1_787(prelec_gamma|)\n",
      "cptfit_options1_788(prelec_gamma|)\n",
      "cptfit_options1_789(prelec_gamma|)\n",
      "cptfit_options1_790(prelec_gamma|)\n",
      "cptfit_options1_791(prelec_gamma|)\n",
      "cptfit_options1_792(prelec_gamma|)\n",
      "cptfit_options1_793(prelec_gamma|)\n",
      "cptfit_options1_794(prelec_gamma|)\n",
      "cptfit_options1_795(prelec_gamma|)\n",
      "cptfit_options1_796(prelec_gamma|)\n",
      "cptfit_options1_797(prelec_gamma|)\n",
      "cptfit_options1_798(prelec_gamma|)\n",
      "cptfit_options1_799(prelec_gamma|)\n",
      "cptfit_options1_800(prelec_gamma|)\n",
      "cptfit_options1_801(prelec_gamma|)\n",
      "cptfit_options1_802(prelec_gamma|)\n",
      "cptfit_options1_803(prelec_gamma|)\n",
      "cptfit_options1_804(prelec_gamma|)\n",
      "cptfit_options1_805(prelec_gamma|)\n",
      "cptfit_options1_806(prelec_gamma|)\n",
      "cptfit_options1_807(prelec_gamma|)\n",
      "cptfit_options1_808(prelec_gamma|)\n",
      "cptfit_options1_809(prelec_gamma|)\n",
      "cptfit_options1_810(prelec_gamma|)\n",
      "cptfit_options1_811(prelec_gamma|)\n",
      "cptfit_options1_812(prelec_gamma|)\n",
      "cptfit_options1_813(prelec_gamma|)\n",
      "cptfit_options1_814(prelec_gamma|)\n",
      "cptfit_options1_815(prelec_gamma|)\n",
      "cptfit_options1_816(prelec_gamma|)\n",
      "cptfit_options1_817(prelec_gamma|)\n",
      "cptfit_options1_818(prelec_gamma|)\n",
      "cptfit_options1_819(prelec_gamma|)\n",
      "cptfit_options1_820(prelec_gamma|)\n",
      "cptfit_options1_821(prelec_gamma|)\n",
      "cptfit_options1_822(prelec_gamma|)\n",
      "cptfit_options1_823(prelec_gamma|)\n",
      "cptfit_options1_824(prelec_gamma|)\n",
      "cptfit_options1_825(prelec_gamma|)\n",
      "cptfit_options1_826(prelec_gamma|)\n",
      "cptfit_options1_827(prelec_gamma|)\n",
      "cptfit_options1_828(prelec_gamma|)\n",
      "cptfit_options1_829(prelec_gamma|)\n",
      "cptfit_options1_830(prelec_gamma|)\n",
      "cptfit_options1_831(prelec_gamma|)\n",
      "cptfit_options1_832(prelec_gamma|)\n",
      "cptfit_options1_833(prelec_gamma|)\n",
      "cptfit_options1_834(prelec_gamma|)\n",
      "cptfit_options1_835(prelec_gamma|)\n",
      "cptfit_options1_836(prelec_gamma|)\n",
      "cptfit_options1_837(prelec_gamma|)\n",
      "cptfit_options1_838(prelec_gamma|)\n",
      "cptfit_options1_839(prelec_gamma|)\n",
      "cptfit_options1_840(prelec_gamma|)\n",
      "cptfit_options1_841(prelec_gamma|)\n",
      "cptfit_options1_842(prelec_gamma|)\n",
      "cptfit_options1_843(prelec_gamma|)\n",
      "cptfit_options1_844(prelec_gamma|)\n",
      "cptfit_options1_845(prelec_gamma|)\n",
      "cptfit_options1_846(prelec_gamma|)\n",
      "cptfit_options1_847(prelec_gamma|)\n",
      "cptfit_options1_848(prelec_gamma|)\n",
      "cptfit_options1_849(prelec_gamma|)\n",
      "cptfit_options1_850(prelec_gamma|)\n",
      "cptfit_options1_851(prelec_gamma|)\n",
      "cptfit_options1_852(prelec_gamma|)\n",
      "cptfit_options1_853(prelec_gamma|)\n",
      "cptfit_options1_854(prelec_gamma|)\n",
      "cptfit_options1_855(prelec_gamma|)\n",
      "cptfit_options1_856(prelec_gamma|)\n",
      "cptfit_options1_857(prelec_gamma|)\n",
      "cptfit_options1_858(prelec_gamma|)\n",
      "cptfit_options1_859(prelec_gamma|)\n",
      "cptfit_options1_860(prelec_gamma|)\n",
      "cptfit_options1_861(prelec_gamma|)\n",
      "cptfit_options1_862(prelec_gamma|)\n",
      "cptfit_options1_863(prelec_gamma|)\n",
      "cptfit_options1_864(prelec_gamma|)\n",
      "cptfit_options1_865(prelec_gamma|)\n",
      "cptfit_options1_866(prelec_gamma|)\n",
      "cptfit_options1_867(prelec_gamma|)\n",
      "cptfit_options1_868(prelec_gamma|)\n",
      "cptfit_options1_869(prelec_gamma|)\n",
      "cptfit_options1_870(prelec_gamma|)\n",
      "cptfit_options1_871(prelec_gamma|)\n",
      "cptfit_options1_872(prelec_gamma|)\n",
      "cptfit_options1_873(prelec_gamma|)\n",
      "cptfit_options1_874(prelec_gamma|)\n",
      "cptfit_options1_875(prelec_gamma|)\n",
      "cptfit_options1_876(prelec_gamma|)\n",
      "cptfit_options1_877(prelec_gamma|)\n",
      "cptfit_options1_878(prelec_gamma|)\n",
      "cptfit_options1_879(prelec_gamma|)\n",
      "cptfit_options1_880(prelec_gamma|)\n",
      "cptfit_options1_881(prelec_gamma|)\n",
      "cptfit_options1_882(prelec_gamma|)\n",
      "cptfit_options1_883(prelec_gamma|)\n",
      "cptfit_options1_884(prelec_gamma|)\n",
      "cptfit_options1_885(prelec_gamma|)\n",
      "cptfit_options1_886(prelec_gamma|)\n",
      "cptfit_options1_887(prelec_gamma|)\n",
      "cptfit_options1_888(prelec_gamma|)\n",
      "cptfit_options1_889(prelec_gamma|)\n",
      "cptfit_options1_890(prelec_gamma|)\n",
      "cptfit_options1_891(prelec_gamma|)\n",
      "cptfit_options1_892(prelec_gamma|)\n",
      "cptfit_options1_893(prelec_gamma|)\n",
      "cptfit_options1_894(prelec_gamma|)\n",
      "cptfit_options1_895(prelec_gamma|)\n",
      "cptfit_options1_896(prelec_gamma|)\n",
      "cptfit_options1_897(prelec_gamma|)\n",
      "cptfit_options1_898(prelec_gamma|)\n",
      "cptfit_options1_899(prelec_gamma|)\n",
      "cptfit_options1_900(prelec_gamma|)\n",
      "cptfit_options1_901(prelec_gamma|)\n",
      "cptfit_options1_902(prelec_gamma|)\n",
      "cptfit_options1_903(prelec_gamma|)\n",
      "cptfit_options1_904(prelec_gamma|)\n",
      "cptfit_options1_905(prelec_gamma|)\n",
      "cptfit_options1_906(prelec_gamma|)\n",
      "cptfit_options1_907(prelec_gamma|)\n",
      "cptfit_options1_908(prelec_gamma|)\n",
      "cptfit_options1_909(prelec_gamma|)\n",
      "cptfit_options1_910(prelec_gamma|)\n",
      "cptfit_options1_911(prelec_gamma|)\n",
      "cptfit_options1_912(prelec_gamma|)\n",
      "cptfit_options1_913(prelec_gamma|)\n",
      "cptfit_options1_914(prelec_gamma|)\n",
      "cptfit_options1_915(prelec_gamma|)\n",
      "cptfit_options1_916(prelec_gamma|)\n",
      "cptfit_options1_917(prelec_gamma|)\n",
      "cptfit_options1_918(prelec_gamma|)\n",
      "cptfit_options1_919(prelec_gamma|)\n",
      "cptfit_options1_920(prelec_gamma|)\n",
      "cptfit_options1_921(prelec_gamma|)\n",
      "cptfit_options1_922(prelec_gamma|)\n",
      "cptfit_options1_923(prelec_gamma|)\n",
      "cptfit_options1_924(prelec_gamma|)\n",
      "cptfit_options1_925(prelec_gamma|)\n",
      "cptfit_options1_926(prelec_gamma|)\n",
      "cptfit_options1_927(prelec_gamma|)\n",
      "cptfit_options1_928(prelec_gamma|)\n",
      "cptfit_options1_929(prelec_gamma|)\n",
      "cptfit_options1_930(prelec_gamma|)\n",
      "cptfit_options1_931(prelec_gamma|)\n",
      "cptfit_options1_932(prelec_gamma|)\n",
      "cptfit_options1_933(prelec_gamma|)\n",
      "cptfit_options1_934(prelec_gamma|)\n",
      "cptfit_options1_935(prelec_gamma|)\n",
      "cptfit_options1_936(prelec_gamma|)\n",
      "cptfit_options1_937(prelec_gamma|)\n",
      "cptfit_options1_938(prelec_gamma|)\n",
      "cptfit_options1_939(prelec_gamma|)\n",
      "cptfit_options1_940(prelec_gamma|)\n",
      "cptfit_options1_941(prelec_gamma|)\n",
      "cptfit_options1_942(prelec_gamma|)\n",
      "cptfit_options1_943(prelec_gamma|)\n",
      "cptfit_options1_944(prelec_gamma|)\n",
      "cptfit_options1_945(prelec_gamma|)\n",
      "cptfit_options1_946(prelec_gamma|)\n",
      "cptfit_options1_947(prelec_gamma|)\n",
      "cptfit_options1_948(prelec_gamma|)\n",
      "cptfit_options1_949(prelec_gamma|)\n",
      "cptfit_options1_950(prelec_gamma|)\n",
      "cptfit_options1_951(prelec_gamma|)\n",
      "cptfit_options1_952(prelec_gamma|)\n",
      "cptfit_options1_953(prelec_gamma|)\n",
      "cptfit_options1_954(prelec_gamma|)\n",
      "cptfit_options1_955(prelec_gamma|)\n",
      "cptfit_options1_956(prelec_gamma|)\n",
      "cptfit_options1_957(prelec_gamma|)\n",
      "cptfit_options1_958(prelec_gamma|)\n",
      "cptfit_options1_959(prelec_gamma|)\n",
      "cptfit_options1_960(prelec_gamma|)\n",
      "cptfit_options1_961(prelec_gamma|)\n",
      "cptfit_options1_962(prelec_gamma|)\n",
      "cptfit_options1_963(prelec_gamma|)\n",
      "cptfit_options1_964(prelec_gamma|)\n",
      "cptfit_options1_965(prelec_gamma|)\n",
      "cptfit_options1_966(prelec_gamma|)\n",
      "cptfit_options1_967(prelec_gamma|)\n",
      "cptfit_options1_968(prelec_gamma|)\n",
      "cptfit_options1_969(prelec_gamma|)\n",
      "cptfit_options1_970(prelec_gamma|)\n",
      "cptfit_options1_971(prelec_gamma|)\n",
      "cptfit_options1_972(prelec_gamma|)\n",
      "cptfit_options1_973(prelec_gamma|)\n",
      "cptfit_options1_974(prelec_gamma|)\n",
      "cptfit_options1_975(prelec_gamma|)\n",
      "cptfit_options1_976(prelec_gamma|)\n",
      "cptfit_options1_977(prelec_gamma|)\n",
      "cptfit_options1_978(prelec_gamma|)\n",
      "cptfit_options1_979(prelec_gamma|)\n",
      "cptfit_options1_980(prelec_gamma|)\n",
      "cptfit_options1_981(prelec_gamma|)\n",
      "cptfit_options1_982(prelec_gamma|)\n",
      "cptfit_options1_983(prelec_gamma|)\n",
      "cptfit_options1_984(prelec_gamma|)\n",
      "cptfit_options1_985(prelec_gamma|)\n",
      "cptfit_options1_986(prelec_gamma|)\n",
      "cptfit_options1_987(prelec_gamma|)\n",
      "cptfit_options1_988(prelec_gamma|)\n",
      "cptfit_options1_989(prelec_gamma|)\n",
      "cptfit_options1_990(prelec_gamma|)\n",
      "cptfit_options1_991(prelec_gamma|)\n",
      "cptfit_options1_992(prelec_gamma|)\n",
      "cptfit_options1_993(prelec_gamma|)\n",
      "cptfit_options1_994(prelec_gamma|)\n",
      "cptfit_options1_995(prelec_gamma|)\n",
      "cptfit_options1_996(prelec_gamma|)\n",
      "cptfit_options1_997(prelec_gamma|)\n",
      "cptfit_options1_998(prelec_gamma|)\n",
      "cptfit_options1_999(prelec_gamma|)\n"
     ]
    }
   ],
   "source": [
    "N = 100\n",
    "arr_th10 = []\n",
    "for iteration in range(1000):\n",
    "    ds = df.iloc[np.random.randint(df.shape[0], size=N)]\n",
    "\n",
    "    r = cpt.fit_msd([options3], ds, 'cptfit_options1_%s' % iteration, fixed={}, fitting=fitting)\n",
    "    arr_th10.append(r['prelec_gamma'].values[0])"
   ]
  },
  {
   "cell_type": "code",
   "execution_count": 262,
   "metadata": {
    "collapsed": false
   },
   "outputs": [
    {
     "data": {
      "image/png": "[encoded data removed]",
      "text/plain": [
       "<matplotlib.figure.Figure at 0x1175af290>"
      ]
     },
     "metadata": {},
     "output_type": "display_data"
    }
   ],
   "source": [
    "sns.distplot(arr_th1, hist=False, rug=False, label=r'$\\theta=1$')\n",
    "sns.distplot(arr_th10, hist=False, rug=False, label=r'$\\theta=10$')\n",
    "plt.show()"
   ]
  },
  {
   "cell_type": "markdown",
   "metadata": {},
   "source": [
    "### Fit CHASE"
   ]
  },
  {
   "cell_type": "code",
   "execution_count": null,
   "metadata": {
    "collapsed": true
   },
   "outputs": [],
   "source": [
    "for N in N_SET:\n",
    "    print j, N\n",
    "    for iteration in range(N_ITER):\n",
    "\n",
    "        SIM_ID = 'recovery_dataset%s_N=%s_iter=%s' % (j, N, iteration)\n",
    "\n",
    "        # sample a dataset of size N per problem\n",
    "        ds = data.groupby('problem').apply(lambda d: d.iloc[np.random.randint(d.shape[0], size=N)]).reset_index(0, drop=True)\n",
    "\n",
    "        # initialize the model\n",
    "        m = CHASEModel(drift='cpt',\n",
    "                       startdist='softmax')\n",
    "\n",
    "        # fit\n",
    "        results = fit_mlh(m, problems, ds, \n",
    "                          SIM_ID, FIXED, fitting, niter=N_FIT_ITER, outdir=OUTDIR)"
   ]
  },
  {
   "cell_type": "code",
   "execution_count": 465,
   "metadata": {
    "collapsed": false
   },
   "outputs": [
    {
     "data": {
      "image/png": "[encoded data removed]",
      "text/plain": [
       "<matplotlib.figure.Figure at 0x117528610>"
      ]
     },
     "metadata": {},
     "output_type": "display_data"
    }
   ],
   "source": [
    "def prelec(p, prelec_elevation, prelec_gamma):\n",
    "    return np.exp(-prelec_elevation * ((-np.log(p)) ** prelec_gamma))\n",
    "\n",
    "p = np.arange(0, 1, .01)\n",
    "fig, axi = plt.subplots(figsize=(3,3))\n",
    "axi.plot([0, 1], [0, 1], color='gray', alpha=.3)\n",
    "axi.plot(p, prelec(p, 1., 1.35), '--', color='black')\n",
    "axi.set_title('Probability weighting')\n",
    "axi.set_xlabel('Objective probability')\n",
    "axi.set_ylabel('Decision weight')\n",
    "plt.show()"
   ]
  },
  {
   "cell_type": "code",
   "execution_count": null,
   "metadata": {
    "collapsed": true
   },
   "outputs": [],
   "source": []
  }
 ],
 "metadata": {
  "kernelspec": {
   "display_name": "Python 2",
   "language": "python",
   "name": "python2"
  },
  "language_info": {
   "codemirror_mode": {
    "name": "ipython",
    "version": 2
   },
   "file_extension": ".py",
   "mimetype": "text/x-python",
   "name": "python",
   "nbconvert_exporter": "python",
   "pygments_lexer": "ipython2",
   "version": "2.7.12"
  }
 },
 "nbformat": 4,
 "nbformat_minor": 0
}
